{
 "cells": [
  {
   "cell_type": "code",
   "execution_count": 66,
   "metadata": {},
   "outputs": [],
   "source": [
    "import pandas as pd\n",
    "\n",
    "df = pd.read_csv(\"municipio_agua_esgoto.csv\")"
   ]
  },
  {
   "cell_type": "code",
   "execution_count": 67,
   "metadata": {},
   "outputs": [
    {
     "name": "stdout",
     "output_type": "stream",
     "text": [
      "['ano', 'id_municipio', 'sigla_uf', 'populacao_atendida_agua', 'populacao_atentida_esgoto', 'populacao_urbana', 'populacao_urbana_residente_agua', 'populacao_urbana_atendida_agua', 'populacao_urbana_atendida_agua_ibge', 'populacao_urbana_residente_esgoto', 'populacao_urbana_atendida_esgoto', 'populacao_urbana_residente_esgoto_ibge', 'extensao_rede_agua', 'extensao_rede_esgoto', 'quantidade_sede_municipal_agua', 'quantidade_sede_municipal_esgoto', 'quantidade_localidade_agua', 'quantidade_localidade_esgoto', 'quantidade_ligacao_ativa_agua', 'quantidade_ligacao_ativa_esgoto', 'quantidade_ligacao_total_agua', 'quantidade_ligacao_total_esgoto', 'quantidade_economia_ativa_agua', 'quantidade_economia_ativa_esgoto', 'quantidade_ligacao_micromedia_ativa_agua', 'quantidade_economia_residencial_ativa_agua', 'quantidade_economia_residencial_ativa_esgoto', 'quantidade_economia_micromedida_ativa_agua', 'quantidade_economia_residencial_micromedida_ativa_agua', 'volume_agua_produzido', 'volume_agua_tratada_eta', 'volume_agua_micromedido', 'volume_agua_consumido', 'volume_agua_faturado', 'volume_agua_macromedido', 'volume_agua_tratada_desinfeccao', 'volume_agua_bruta_exportado', 'volume_agua_tratada_importado', 'volume_agua_tratada_exportado', 'volume_agua_micromedido_economia_ativa', 'volume_servico_agua', 'volume_agua_fluoretada', 'consumo_eletrico_sistemas_agua', 'volume_esgoto_coletado', 'volume_esgoto_tratado', 'volume_esgoto_faturado', 'volume_esgoto_bruto_exportado', 'volume_esgoto_bruto_importado', 'volume_esgoto_importado', 'volume_esgoto_bruto_exportado_tratamento_importador', 'consumo_eletrico_sistemas_esgoto', 'indice_agua_ligacao', 'indice_hidrometracao', 'indice_macromedicao_volume_disponibilizado', 'indice_macromedicao', 'indice_perda_faturamento', 'indice_micromedido_economia', 'indice_coleta_esgoto', 'indice_tratamento_esgoto', 'indice_consumo_agua_faturado', 'indice_extensao_agua_ligacao', 'indice_extensao_esgoto_ligacao', 'indice_consumo_agua_per_capita', 'indice_atendimento_urbano_agua', 'indice_atendimento_agua_esgoto', 'indice_volume_agua_economia', 'indice_faturamento_agua', 'indice_participacao_economia_agua', 'indice_micromedicao_relativo_agua', 'indice_esgotamento_agua_consumida', 'indice_atendimento_esgoto_esgoto', 'indice_perda_distribuicao_agua', 'indice_perda_linear_agua', 'indice_perda_ligacao_agua', 'indice_consumo_agua', 'indice_consumo_medio_agua', 'indice_atendimento_total_agua', 'indice_atendimento_esgoto_agua', 'indice_fluoretacao_agua', 'indice_consumo_energia_agua', 'indice_consumo_energia_esgoto', 'receita_operacional_direta', 'receita_operacional_direta_agua', 'receita_operacional_direta_esgoto', 'receita_operacional_indireta', 'receita_operacional_direta_agua_exportada', 'receita_operacional', 'receita_operacional_direta_esgoto_importado', 'arrecadacao_total', 'credito_areceber', 'despesa_pessoal', 'quantidade_empregado', 'despesa_produto_quimico', 'despesa_energia', 'despesa_servico_terceiro', 'despesa_exploracao', 'despesas_juros_divida', 'despesa_total_servico', 'despesa_ativo', 'despesa_agua_importada', 'despesa_fiscal', 'despesa_fiscal_nao_computada', 'despesa_exploracao_outro', 'despesa_servico_outro', 'despesa_amortizacao_divida', 'despesas_juros_divida_excecao', 'despesa_divida_variacao', 'despesa_divida_total', 'despesa_esgoto_exportado', 'despesa_capitalizavel_municipio', 'despesa_capitalizavel_estado', 'despesa_capitalizavel_prestador', 'investimento_agua_prestador', 'investimento_esgoto_prestador', 'investimento_outro_prestador', 'investimento_recurso_proprio_prestador', 'investimento_recurso_oneroso_prestador', 'investimento_recurso_nao_oneroso_prestador', 'investimento_total_prestador', 'investimento_agua_municipio', 'investimento_esgoto_municipio', 'investimento_outro_municipio', 'investimento_recurso_proprio_municipio', 'investimento_recurso_oneroso_municipio', 'investimento_recurso_nao_oneroso_municipio', 'investimento_total_municipio', 'investimento_agua_estado', 'investimento_esgoto_estado', 'investimento_outro_estado', 'investimento_recurso_proprio_estado', 'investimento_recurso_oneroso_estado', 'investimento_recurso_nao_oneroso_estado', 'investimento_total_estado']\n"
     ]
    }
   ],
   "source": [
    "print(df.columns.to_list())   "
   ]
  },
  {
   "cell_type": "code",
   "execution_count": 68,
   "metadata": {},
   "outputs": [
    {
     "name": "stdout",
     "output_type": "stream",
     "text": [
      "[2018 2021 2017 2020 2019 2015 2013 2016 2012 2014 2009 2011 2010 2007\n",
      " 2008 2003 2006 2005 2002 2004 2001 1995 2000 1998 1999 2022 1996 1997]\n"
     ]
    }
   ],
   "source": [
    "print(df['ano'].unique())"
   ]
  },
  {
   "cell_type": "code",
   "execution_count": 69,
   "metadata": {},
   "outputs": [
    {
     "name": "stdout",
     "output_type": "stream",
     "text": [
      "<class 'pandas.core.frame.DataFrame'>\n",
      "RangeIndex: 119256 entries, 0 to 119255\n",
      "Columns: 133 entries, ano to investimento_total_estado\n",
      "dtypes: float64(130), int64(2), object(1)\n",
      "memory usage: 121.0+ MB\n"
     ]
    }
   ],
   "source": [
    "df.info()"
   ]
  },
  {
   "cell_type": "code",
   "execution_count": 70,
   "metadata": {},
   "outputs": [
    {
     "data": {
      "text/html": [
       "<div>\n",
       "<style scoped>\n",
       "    .dataframe tbody tr th:only-of-type {\n",
       "        vertical-align: middle;\n",
       "    }\n",
       "\n",
       "    .dataframe tbody tr th {\n",
       "        vertical-align: top;\n",
       "    }\n",
       "\n",
       "    .dataframe thead th {\n",
       "        text-align: right;\n",
       "    }\n",
       "</style>\n",
       "<table border=\"1\" class=\"dataframe\">\n",
       "  <thead>\n",
       "    <tr style=\"text-align: right;\">\n",
       "      <th></th>\n",
       "      <th>ano</th>\n",
       "      <th>id_municipio</th>\n",
       "      <th>sigla_uf</th>\n",
       "      <th>populacao_atendida_agua</th>\n",
       "      <th>populacao_atentida_esgoto</th>\n",
       "      <th>populacao_urbana</th>\n",
       "      <th>populacao_urbana_residente_agua</th>\n",
       "      <th>populacao_urbana_atendida_agua</th>\n",
       "      <th>populacao_urbana_atendida_agua_ibge</th>\n",
       "      <th>populacao_urbana_residente_esgoto</th>\n",
       "      <th>...</th>\n",
       "      <th>investimento_recurso_oneroso_municipio</th>\n",
       "      <th>investimento_recurso_nao_oneroso_municipio</th>\n",
       "      <th>investimento_total_municipio</th>\n",
       "      <th>investimento_agua_estado</th>\n",
       "      <th>investimento_esgoto_estado</th>\n",
       "      <th>investimento_outro_estado</th>\n",
       "      <th>investimento_recurso_proprio_estado</th>\n",
       "      <th>investimento_recurso_oneroso_estado</th>\n",
       "      <th>investimento_recurso_nao_oneroso_estado</th>\n",
       "      <th>investimento_total_estado</th>\n",
       "    </tr>\n",
       "  </thead>\n",
       "  <tbody>\n",
       "    <tr>\n",
       "      <th>0</th>\n",
       "      <td>2018</td>\n",
       "      <td>2705606</td>\n",
       "      <td>AL</td>\n",
       "      <td>5276.0</td>\n",
       "      <td>3000.0</td>\n",
       "      <td>7665.0</td>\n",
       "      <td>7665.0</td>\n",
       "      <td>5276.0</td>\n",
       "      <td>12615.0</td>\n",
       "      <td>7665.0</td>\n",
       "      <td>...</td>\n",
       "      <td>0.0</td>\n",
       "      <td>0.0</td>\n",
       "      <td>0.0</td>\n",
       "      <td>0.00</td>\n",
       "      <td>0.0</td>\n",
       "      <td>0.0</td>\n",
       "      <td>0.00</td>\n",
       "      <td>0.0</td>\n",
       "      <td>0.0</td>\n",
       "      <td>0.00</td>\n",
       "    </tr>\n",
       "    <tr>\n",
       "      <th>1</th>\n",
       "      <td>2018</td>\n",
       "      <td>2707107</td>\n",
       "      <td>AL</td>\n",
       "      <td>18502.0</td>\n",
       "      <td>8292.0</td>\n",
       "      <td>14245.0</td>\n",
       "      <td>14245.0</td>\n",
       "      <td>14238.0</td>\n",
       "      <td>24891.0</td>\n",
       "      <td>14245.0</td>\n",
       "      <td>...</td>\n",
       "      <td>0.0</td>\n",
       "      <td>0.0</td>\n",
       "      <td>0.0</td>\n",
       "      <td>723542.56</td>\n",
       "      <td>NaN</td>\n",
       "      <td>0.0</td>\n",
       "      <td>723542.56</td>\n",
       "      <td>0.0</td>\n",
       "      <td>0.0</td>\n",
       "      <td>723542.56</td>\n",
       "    </tr>\n",
       "    <tr>\n",
       "      <th>2</th>\n",
       "      <td>2021</td>\n",
       "      <td>2709152</td>\n",
       "      <td>AL</td>\n",
       "      <td>39000.0</td>\n",
       "      <td>28000.0</td>\n",
       "      <td>37674.0</td>\n",
       "      <td>37674.0</td>\n",
       "      <td>37500.0</td>\n",
       "      <td>44570.0</td>\n",
       "      <td>37674.0</td>\n",
       "      <td>...</td>\n",
       "      <td>0.0</td>\n",
       "      <td>0.0</td>\n",
       "      <td>0.0</td>\n",
       "      <td>0.00</td>\n",
       "      <td>0.0</td>\n",
       "      <td>0.0</td>\n",
       "      <td>0.00</td>\n",
       "      <td>0.0</td>\n",
       "      <td>0.0</td>\n",
       "      <td>0.00</td>\n",
       "    </tr>\n",
       "    <tr>\n",
       "      <th>4</th>\n",
       "      <td>2021</td>\n",
       "      <td>2902104</td>\n",
       "      <td>BA</td>\n",
       "      <td>35540.0</td>\n",
       "      <td>20700.0</td>\n",
       "      <td>20874.0</td>\n",
       "      <td>20874.0</td>\n",
       "      <td>20820.0</td>\n",
       "      <td>54903.0</td>\n",
       "      <td>20874.0</td>\n",
       "      <td>...</td>\n",
       "      <td>0.0</td>\n",
       "      <td>0.0</td>\n",
       "      <td>825550.0</td>\n",
       "      <td>0.00</td>\n",
       "      <td>0.0</td>\n",
       "      <td>0.0</td>\n",
       "      <td>0.00</td>\n",
       "      <td>0.0</td>\n",
       "      <td>0.0</td>\n",
       "      <td>0.00</td>\n",
       "    </tr>\n",
       "    <tr>\n",
       "      <th>5</th>\n",
       "      <td>2020</td>\n",
       "      <td>2905107</td>\n",
       "      <td>BA</td>\n",
       "      <td>6942.0</td>\n",
       "      <td>547.0</td>\n",
       "      <td>3193.0</td>\n",
       "      <td>3193.0</td>\n",
       "      <td>3193.0</td>\n",
       "      <td>9058.0</td>\n",
       "      <td>3193.0</td>\n",
       "      <td>...</td>\n",
       "      <td>NaN</td>\n",
       "      <td>NaN</td>\n",
       "      <td>NaN</td>\n",
       "      <td>NaN</td>\n",
       "      <td>NaN</td>\n",
       "      <td>NaN</td>\n",
       "      <td>NaN</td>\n",
       "      <td>NaN</td>\n",
       "      <td>NaN</td>\n",
       "      <td>NaN</td>\n",
       "    </tr>\n",
       "    <tr>\n",
       "      <th>...</th>\n",
       "      <td>...</td>\n",
       "      <td>...</td>\n",
       "      <td>...</td>\n",
       "      <td>...</td>\n",
       "      <td>...</td>\n",
       "      <td>...</td>\n",
       "      <td>...</td>\n",
       "      <td>...</td>\n",
       "      <td>...</td>\n",
       "      <td>...</td>\n",
       "      <td>...</td>\n",
       "      <td>...</td>\n",
       "      <td>...</td>\n",
       "      <td>...</td>\n",
       "      <td>...</td>\n",
       "      <td>...</td>\n",
       "      <td>...</td>\n",
       "      <td>...</td>\n",
       "      <td>...</td>\n",
       "      <td>...</td>\n",
       "      <td>...</td>\n",
       "    </tr>\n",
       "    <tr>\n",
       "      <th>119251</th>\n",
       "      <td>2022</td>\n",
       "      <td>1300805</td>\n",
       "      <td>AM</td>\n",
       "      <td>30805.0</td>\n",
       "      <td>NaN</td>\n",
       "      <td>NaN</td>\n",
       "      <td>NaN</td>\n",
       "      <td>NaN</td>\n",
       "      <td>33080.0</td>\n",
       "      <td>NaN</td>\n",
       "      <td>...</td>\n",
       "      <td>0.0</td>\n",
       "      <td>0.0</td>\n",
       "      <td>0.0</td>\n",
       "      <td>0.00</td>\n",
       "      <td>0.0</td>\n",
       "      <td>0.0</td>\n",
       "      <td>0.00</td>\n",
       "      <td>0.0</td>\n",
       "      <td>0.0</td>\n",
       "      <td>0.00</td>\n",
       "    </tr>\n",
       "    <tr>\n",
       "      <th>119252</th>\n",
       "      <td>2022</td>\n",
       "      <td>2102077</td>\n",
       "      <td>MA</td>\n",
       "      <td>4678.0</td>\n",
       "      <td>NaN</td>\n",
       "      <td>NaN</td>\n",
       "      <td>NaN</td>\n",
       "      <td>NaN</td>\n",
       "      <td>12212.0</td>\n",
       "      <td>NaN</td>\n",
       "      <td>...</td>\n",
       "      <td>0.0</td>\n",
       "      <td>0.0</td>\n",
       "      <td>0.0</td>\n",
       "      <td>100000.00</td>\n",
       "      <td>0.0</td>\n",
       "      <td>0.0</td>\n",
       "      <td>100000.00</td>\n",
       "      <td>0.0</td>\n",
       "      <td>0.0</td>\n",
       "      <td>100000.00</td>\n",
       "    </tr>\n",
       "    <tr>\n",
       "      <th>119253</th>\n",
       "      <td>2022</td>\n",
       "      <td>1506104</td>\n",
       "      <td>PA</td>\n",
       "      <td>10000.0</td>\n",
       "      <td>NaN</td>\n",
       "      <td>NaN</td>\n",
       "      <td>NaN</td>\n",
       "      <td>NaN</td>\n",
       "      <td>10851.0</td>\n",
       "      <td>NaN</td>\n",
       "      <td>...</td>\n",
       "      <td>0.0</td>\n",
       "      <td>0.0</td>\n",
       "      <td>0.0</td>\n",
       "      <td>0.00</td>\n",
       "      <td>0.0</td>\n",
       "      <td>0.0</td>\n",
       "      <td>0.00</td>\n",
       "      <td>0.0</td>\n",
       "      <td>0.0</td>\n",
       "      <td>0.00</td>\n",
       "    </tr>\n",
       "    <tr>\n",
       "      <th>119254</th>\n",
       "      <td>2022</td>\n",
       "      <td>2500577</td>\n",
       "      <td>PB</td>\n",
       "      <td>0.0</td>\n",
       "      <td>NaN</td>\n",
       "      <td>NaN</td>\n",
       "      <td>NaN</td>\n",
       "      <td>NaN</td>\n",
       "      <td>2953.0</td>\n",
       "      <td>NaN</td>\n",
       "      <td>...</td>\n",
       "      <td>NaN</td>\n",
       "      <td>NaN</td>\n",
       "      <td>NaN</td>\n",
       "      <td>0.00</td>\n",
       "      <td>0.0</td>\n",
       "      <td>0.0</td>\n",
       "      <td>0.00</td>\n",
       "      <td>0.0</td>\n",
       "      <td>0.0</td>\n",
       "      <td>0.00</td>\n",
       "    </tr>\n",
       "    <tr>\n",
       "      <th>119255</th>\n",
       "      <td>2022</td>\n",
       "      <td>4311734</td>\n",
       "      <td>RS</td>\n",
       "      <td>2800.0</td>\n",
       "      <td>NaN</td>\n",
       "      <td>NaN</td>\n",
       "      <td>NaN</td>\n",
       "      <td>NaN</td>\n",
       "      <td>3131.0</td>\n",
       "      <td>NaN</td>\n",
       "      <td>...</td>\n",
       "      <td>0.0</td>\n",
       "      <td>0.0</td>\n",
       "      <td>5415.0</td>\n",
       "      <td>NaN</td>\n",
       "      <td>NaN</td>\n",
       "      <td>NaN</td>\n",
       "      <td>NaN</td>\n",
       "      <td>NaN</td>\n",
       "      <td>NaN</td>\n",
       "      <td>NaN</td>\n",
       "    </tr>\n",
       "  </tbody>\n",
       "</table>\n",
       "<p>26389 rows × 133 columns</p>\n",
       "</div>"
      ],
      "text/plain": [
       "         ano  id_municipio sigla_uf  populacao_atendida_agua  \\\n",
       "0       2018       2705606       AL                   5276.0   \n",
       "1       2018       2707107       AL                  18502.0   \n",
       "2       2021       2709152       AL                  39000.0   \n",
       "4       2021       2902104       BA                  35540.0   \n",
       "5       2020       2905107       BA                   6942.0   \n",
       "...      ...           ...      ...                      ...   \n",
       "119251  2022       1300805       AM                  30805.0   \n",
       "119252  2022       2102077       MA                   4678.0   \n",
       "119253  2022       1506104       PA                  10000.0   \n",
       "119254  2022       2500577       PB                      0.0   \n",
       "119255  2022       4311734       RS                   2800.0   \n",
       "\n",
       "        populacao_atentida_esgoto  populacao_urbana  \\\n",
       "0                          3000.0            7665.0   \n",
       "1                          8292.0           14245.0   \n",
       "2                         28000.0           37674.0   \n",
       "4                         20700.0           20874.0   \n",
       "5                           547.0            3193.0   \n",
       "...                           ...               ...   \n",
       "119251                        NaN               NaN   \n",
       "119252                        NaN               NaN   \n",
       "119253                        NaN               NaN   \n",
       "119254                        NaN               NaN   \n",
       "119255                        NaN               NaN   \n",
       "\n",
       "        populacao_urbana_residente_agua  populacao_urbana_atendida_agua  \\\n",
       "0                                7665.0                          5276.0   \n",
       "1                               14245.0                         14238.0   \n",
       "2                               37674.0                         37500.0   \n",
       "4                               20874.0                         20820.0   \n",
       "5                                3193.0                          3193.0   \n",
       "...                                 ...                             ...   \n",
       "119251                              NaN                             NaN   \n",
       "119252                              NaN                             NaN   \n",
       "119253                              NaN                             NaN   \n",
       "119254                              NaN                             NaN   \n",
       "119255                              NaN                             NaN   \n",
       "\n",
       "        populacao_urbana_atendida_agua_ibge  \\\n",
       "0                                   12615.0   \n",
       "1                                   24891.0   \n",
       "2                                   44570.0   \n",
       "4                                   54903.0   \n",
       "5                                    9058.0   \n",
       "...                                     ...   \n",
       "119251                              33080.0   \n",
       "119252                              12212.0   \n",
       "119253                              10851.0   \n",
       "119254                               2953.0   \n",
       "119255                               3131.0   \n",
       "\n",
       "        populacao_urbana_residente_esgoto  ...  \\\n",
       "0                                  7665.0  ...   \n",
       "1                                 14245.0  ...   \n",
       "2                                 37674.0  ...   \n",
       "4                                 20874.0  ...   \n",
       "5                                  3193.0  ...   \n",
       "...                                   ...  ...   \n",
       "119251                                NaN  ...   \n",
       "119252                                NaN  ...   \n",
       "119253                                NaN  ...   \n",
       "119254                                NaN  ...   \n",
       "119255                                NaN  ...   \n",
       "\n",
       "        investimento_recurso_oneroso_municipio  \\\n",
       "0                                          0.0   \n",
       "1                                          0.0   \n",
       "2                                          0.0   \n",
       "4                                          0.0   \n",
       "5                                          NaN   \n",
       "...                                        ...   \n",
       "119251                                     0.0   \n",
       "119252                                     0.0   \n",
       "119253                                     0.0   \n",
       "119254                                     NaN   \n",
       "119255                                     0.0   \n",
       "\n",
       "        investimento_recurso_nao_oneroso_municipio  \\\n",
       "0                                              0.0   \n",
       "1                                              0.0   \n",
       "2                                              0.0   \n",
       "4                                              0.0   \n",
       "5                                              NaN   \n",
       "...                                            ...   \n",
       "119251                                         0.0   \n",
       "119252                                         0.0   \n",
       "119253                                         0.0   \n",
       "119254                                         NaN   \n",
       "119255                                         0.0   \n",
       "\n",
       "        investimento_total_municipio  investimento_agua_estado  \\\n",
       "0                                0.0                      0.00   \n",
       "1                                0.0                 723542.56   \n",
       "2                                0.0                      0.00   \n",
       "4                           825550.0                      0.00   \n",
       "5                                NaN                       NaN   \n",
       "...                              ...                       ...   \n",
       "119251                           0.0                      0.00   \n",
       "119252                           0.0                 100000.00   \n",
       "119253                           0.0                      0.00   \n",
       "119254                           NaN                      0.00   \n",
       "119255                        5415.0                       NaN   \n",
       "\n",
       "        investimento_esgoto_estado  investimento_outro_estado  \\\n",
       "0                              0.0                        0.0   \n",
       "1                              NaN                        0.0   \n",
       "2                              0.0                        0.0   \n",
       "4                              0.0                        0.0   \n",
       "5                              NaN                        NaN   \n",
       "...                            ...                        ...   \n",
       "119251                         0.0                        0.0   \n",
       "119252                         0.0                        0.0   \n",
       "119253                         0.0                        0.0   \n",
       "119254                         0.0                        0.0   \n",
       "119255                         NaN                        NaN   \n",
       "\n",
       "        investimento_recurso_proprio_estado  \\\n",
       "0                                      0.00   \n",
       "1                                 723542.56   \n",
       "2                                      0.00   \n",
       "4                                      0.00   \n",
       "5                                       NaN   \n",
       "...                                     ...   \n",
       "119251                                 0.00   \n",
       "119252                            100000.00   \n",
       "119253                                 0.00   \n",
       "119254                                 0.00   \n",
       "119255                                  NaN   \n",
       "\n",
       "        investimento_recurso_oneroso_estado  \\\n",
       "0                                       0.0   \n",
       "1                                       0.0   \n",
       "2                                       0.0   \n",
       "4                                       0.0   \n",
       "5                                       NaN   \n",
       "...                                     ...   \n",
       "119251                                  0.0   \n",
       "119252                                  0.0   \n",
       "119253                                  0.0   \n",
       "119254                                  0.0   \n",
       "119255                                  NaN   \n",
       "\n",
       "        investimento_recurso_nao_oneroso_estado  investimento_total_estado  \n",
       "0                                           0.0                       0.00  \n",
       "1                                           0.0                  723542.56  \n",
       "2                                           0.0                       0.00  \n",
       "4                                           0.0                       0.00  \n",
       "5                                           NaN                        NaN  \n",
       "...                                         ...                        ...  \n",
       "119251                                      0.0                       0.00  \n",
       "119252                                      0.0                  100000.00  \n",
       "119253                                      0.0                       0.00  \n",
       "119254                                      0.0                       0.00  \n",
       "119255                                      NaN                        NaN  \n",
       "\n",
       "[26389 rows x 133 columns]"
      ]
     },
     "execution_count": 70,
     "metadata": {},
     "output_type": "execute_result"
    }
   ],
   "source": [
    "df_anos_especificos = df[df['ano'].isin([2022, 2021, 2020, 2019, 2018])]\n",
    "df_anos_especificos"
   ]
  },
  {
   "cell_type": "code",
   "execution_count": 71,
   "metadata": {},
   "outputs": [],
   "source": [
    "colunas = [\n",
    "    'ano',\n",
    "    'id_municipio',\n",
    "    'sigla_uf',\n",
    "    'populacao_atendida_agua',\n",
    "    'populacao_atentida_esgoto',\n",
    "    'populacao_urbana_atendida_esgoto',\n",
    "    'quantidade_ligacao_ativa_agua',\n",
    "    'quantidade_ligacao_ativa_esgoto',\n",
    "    'quantidade_ligacao_total_agua',\n",
    "    'quantidade_ligacao_total_esgoto',\n",
    "    'volume_agua_produzido',\n",
    "    'volume_agua_tratada_eta',\n",
    "    'volume_agua_micromedido',\n",
    "    'volume_esgoto_coletado',\n",
    "    'volume_esgoto_tratado',\n",
    "    'volume_esgoto_faturado',\n",
    "    'consumo_eletrico_sistemas_esgoto',\n",
    "    'indice_agua_ligacao',\n",
    "    'indice_hidrometracao',\n",
    "    'indice_perda_faturamento',\n",
    "    'indice_coleta_esgoto',\n",
    "    'indice_tratamento_esgoto',\n",
    "    'indice_consumo_agua_faturado',\n",
    "    'indice_consumo_agua_per_capita',\n",
    "    'indice_atendimento_urbano_agua',\n",
    "    'indice_atendimento_agua_esgoto',\n",
    "    'indice_faturamento_agua',\n",
    "    'indice_perda_distribuicao_agua',\n",
    "    'indice_consumo_agua',\n",
    "    'indice_atendimento_total_agua',\n",
    "    'indice_atendimento_esgoto_agua',\n",
    "    'indice_consumo_energia_agua',\n",
    "    'indice_consumo_energia_esgoto',\n",
    "    'arrecadacao_total',\n",
    "    'credito_areceber',\n",
    "    'despesa_pessoal',\n",
    "    'quantidade_empregado',\n",
    "    'despesa_produto_quimico',\n",
    "    'despesa_energia',\n",
    "    'despesa_servico_terceiro',\n",
    "    'despesa_divida_total',\n",
    "    'investimento_agua_prestador',\n",
    "    'investimento_esgoto_prestador',\n",
    "    'investimento_outro_prestador',\n",
    "    'investimento_recurso_proprio_prestador',\n",
    "    'investimento_recurso_oneroso_prestador',\n",
    "    'investimento_recurso_nao_oneroso_prestador',\n",
    "    'investimento_total_prestador',\n",
    "    'investimento_agua_municipio',\n",
    "    'investimento_esgoto_municipio',\n",
    "    'investimento_outro_municipio',\n",
    "    'investimento_recurso_proprio_municipio',\n",
    "    'investimento_recurso_oneroso_municipio',\n",
    "    'investimento_recurso_nao_oneroso_municipio',\n",
    "    'investimento_total_municipio',\n",
    "    'investimento_agua_estado',\n",
    "    'investimento_esgoto_estado',\n",
    "    'investimento_outro_estado',\n",
    "    'investimento_recurso_proprio_estado',\n",
    "    'investimento_recurso_oneroso_estado',\n",
    "    'investimento_recurso_nao_oneroso_estado',\n",
    "    'investimento_total_estado'\n",
    "]\n"
   ]
  },
  {
   "cell_type": "code",
   "execution_count": 72,
   "metadata": {},
   "outputs": [
    {
     "data": {
      "text/html": [
       "<div>\n",
       "<style scoped>\n",
       "    .dataframe tbody tr th:only-of-type {\n",
       "        vertical-align: middle;\n",
       "    }\n",
       "\n",
       "    .dataframe tbody tr th {\n",
       "        vertical-align: top;\n",
       "    }\n",
       "\n",
       "    .dataframe thead th {\n",
       "        text-align: right;\n",
       "    }\n",
       "</style>\n",
       "<table border=\"1\" class=\"dataframe\">\n",
       "  <thead>\n",
       "    <tr style=\"text-align: right;\">\n",
       "      <th></th>\n",
       "      <th>ano</th>\n",
       "      <th>id_municipio</th>\n",
       "      <th>sigla_uf</th>\n",
       "      <th>populacao_atendida_agua</th>\n",
       "      <th>populacao_atentida_esgoto</th>\n",
       "      <th>populacao_urbana_atendida_esgoto</th>\n",
       "      <th>quantidade_ligacao_ativa_agua</th>\n",
       "      <th>quantidade_ligacao_ativa_esgoto</th>\n",
       "      <th>quantidade_ligacao_total_agua</th>\n",
       "      <th>quantidade_ligacao_total_esgoto</th>\n",
       "      <th>...</th>\n",
       "      <th>investimento_recurso_oneroso_municipio</th>\n",
       "      <th>investimento_recurso_nao_oneroso_municipio</th>\n",
       "      <th>investimento_total_municipio</th>\n",
       "      <th>investimento_agua_estado</th>\n",
       "      <th>investimento_esgoto_estado</th>\n",
       "      <th>investimento_outro_estado</th>\n",
       "      <th>investimento_recurso_proprio_estado</th>\n",
       "      <th>investimento_recurso_oneroso_estado</th>\n",
       "      <th>investimento_recurso_nao_oneroso_estado</th>\n",
       "      <th>investimento_total_estado</th>\n",
       "    </tr>\n",
       "  </thead>\n",
       "  <tbody>\n",
       "    <tr>\n",
       "      <th>0</th>\n",
       "      <td>2018</td>\n",
       "      <td>2705606</td>\n",
       "      <td>AL</td>\n",
       "      <td>5276.0</td>\n",
       "      <td>3000.0</td>\n",
       "      <td>3000.0</td>\n",
       "      <td>1355.0</td>\n",
       "      <td>300.0</td>\n",
       "      <td>2296.0</td>\n",
       "      <td>300.0</td>\n",
       "      <td>...</td>\n",
       "      <td>0.0</td>\n",
       "      <td>0.0</td>\n",
       "      <td>0.0</td>\n",
       "      <td>0.00</td>\n",
       "      <td>0.0</td>\n",
       "      <td>0.0</td>\n",
       "      <td>0.00</td>\n",
       "      <td>0.0</td>\n",
       "      <td>0.0</td>\n",
       "      <td>0.00</td>\n",
       "    </tr>\n",
       "    <tr>\n",
       "      <th>1</th>\n",
       "      <td>2018</td>\n",
       "      <td>2707107</td>\n",
       "      <td>AL</td>\n",
       "      <td>18502.0</td>\n",
       "      <td>8292.0</td>\n",
       "      <td>8292.0</td>\n",
       "      <td>4942.0</td>\n",
       "      <td>2177.0</td>\n",
       "      <td>7100.0</td>\n",
       "      <td>2326.0</td>\n",
       "      <td>...</td>\n",
       "      <td>0.0</td>\n",
       "      <td>0.0</td>\n",
       "      <td>0.0</td>\n",
       "      <td>723542.56</td>\n",
       "      <td>NaN</td>\n",
       "      <td>0.0</td>\n",
       "      <td>723542.56</td>\n",
       "      <td>0.0</td>\n",
       "      <td>0.0</td>\n",
       "      <td>723542.56</td>\n",
       "    </tr>\n",
       "    <tr>\n",
       "      <th>2</th>\n",
       "      <td>2021</td>\n",
       "      <td>2709152</td>\n",
       "      <td>AL</td>\n",
       "      <td>39000.0</td>\n",
       "      <td>28000.0</td>\n",
       "      <td>28000.0</td>\n",
       "      <td>10465.0</td>\n",
       "      <td>6300.0</td>\n",
       "      <td>14134.0</td>\n",
       "      <td>6345.0</td>\n",
       "      <td>...</td>\n",
       "      <td>0.0</td>\n",
       "      <td>0.0</td>\n",
       "      <td>0.0</td>\n",
       "      <td>0.00</td>\n",
       "      <td>0.0</td>\n",
       "      <td>0.0</td>\n",
       "      <td>0.00</td>\n",
       "      <td>0.0</td>\n",
       "      <td>0.0</td>\n",
       "      <td>0.00</td>\n",
       "    </tr>\n",
       "    <tr>\n",
       "      <th>4</th>\n",
       "      <td>2021</td>\n",
       "      <td>2902104</td>\n",
       "      <td>BA</td>\n",
       "      <td>35540.0</td>\n",
       "      <td>20700.0</td>\n",
       "      <td>17030.0</td>\n",
       "      <td>12293.0</td>\n",
       "      <td>14679.0</td>\n",
       "      <td>13901.0</td>\n",
       "      <td>15947.0</td>\n",
       "      <td>...</td>\n",
       "      <td>0.0</td>\n",
       "      <td>0.0</td>\n",
       "      <td>825550.0</td>\n",
       "      <td>0.00</td>\n",
       "      <td>0.0</td>\n",
       "      <td>0.0</td>\n",
       "      <td>0.00</td>\n",
       "      <td>0.0</td>\n",
       "      <td>0.0</td>\n",
       "      <td>0.00</td>\n",
       "    </tr>\n",
       "    <tr>\n",
       "      <th>5</th>\n",
       "      <td>2020</td>\n",
       "      <td>2905107</td>\n",
       "      <td>BA</td>\n",
       "      <td>6942.0</td>\n",
       "      <td>547.0</td>\n",
       "      <td>0.0</td>\n",
       "      <td>2657.0</td>\n",
       "      <td>207.0</td>\n",
       "      <td>3048.0</td>\n",
       "      <td>235.0</td>\n",
       "      <td>...</td>\n",
       "      <td>NaN</td>\n",
       "      <td>NaN</td>\n",
       "      <td>NaN</td>\n",
       "      <td>NaN</td>\n",
       "      <td>NaN</td>\n",
       "      <td>NaN</td>\n",
       "      <td>NaN</td>\n",
       "      <td>NaN</td>\n",
       "      <td>NaN</td>\n",
       "      <td>NaN</td>\n",
       "    </tr>\n",
       "    <tr>\n",
       "      <th>...</th>\n",
       "      <td>...</td>\n",
       "      <td>...</td>\n",
       "      <td>...</td>\n",
       "      <td>...</td>\n",
       "      <td>...</td>\n",
       "      <td>...</td>\n",
       "      <td>...</td>\n",
       "      <td>...</td>\n",
       "      <td>...</td>\n",
       "      <td>...</td>\n",
       "      <td>...</td>\n",
       "      <td>...</td>\n",
       "      <td>...</td>\n",
       "      <td>...</td>\n",
       "      <td>...</td>\n",
       "      <td>...</td>\n",
       "      <td>...</td>\n",
       "      <td>...</td>\n",
       "      <td>...</td>\n",
       "      <td>...</td>\n",
       "      <td>...</td>\n",
       "    </tr>\n",
       "    <tr>\n",
       "      <th>119251</th>\n",
       "      <td>2022</td>\n",
       "      <td>1300805</td>\n",
       "      <td>AM</td>\n",
       "      <td>30805.0</td>\n",
       "      <td>NaN</td>\n",
       "      <td>NaN</td>\n",
       "      <td>6605.0</td>\n",
       "      <td>NaN</td>\n",
       "      <td>8120.0</td>\n",
       "      <td>NaN</td>\n",
       "      <td>...</td>\n",
       "      <td>0.0</td>\n",
       "      <td>0.0</td>\n",
       "      <td>0.0</td>\n",
       "      <td>0.00</td>\n",
       "      <td>0.0</td>\n",
       "      <td>0.0</td>\n",
       "      <td>0.00</td>\n",
       "      <td>0.0</td>\n",
       "      <td>0.0</td>\n",
       "      <td>0.00</td>\n",
       "    </tr>\n",
       "    <tr>\n",
       "      <th>119252</th>\n",
       "      <td>2022</td>\n",
       "      <td>2102077</td>\n",
       "      <td>MA</td>\n",
       "      <td>4678.0</td>\n",
       "      <td>NaN</td>\n",
       "      <td>NaN</td>\n",
       "      <td>1000.0</td>\n",
       "      <td>NaN</td>\n",
       "      <td>1000.0</td>\n",
       "      <td>NaN</td>\n",
       "      <td>...</td>\n",
       "      <td>0.0</td>\n",
       "      <td>0.0</td>\n",
       "      <td>0.0</td>\n",
       "      <td>100000.00</td>\n",
       "      <td>0.0</td>\n",
       "      <td>0.0</td>\n",
       "      <td>100000.00</td>\n",
       "      <td>0.0</td>\n",
       "      <td>0.0</td>\n",
       "      <td>100000.00</td>\n",
       "    </tr>\n",
       "    <tr>\n",
       "      <th>119253</th>\n",
       "      <td>2022</td>\n",
       "      <td>1506104</td>\n",
       "      <td>PA</td>\n",
       "      <td>10000.0</td>\n",
       "      <td>NaN</td>\n",
       "      <td>NaN</td>\n",
       "      <td>3030.0</td>\n",
       "      <td>NaN</td>\n",
       "      <td>3030.0</td>\n",
       "      <td>NaN</td>\n",
       "      <td>...</td>\n",
       "      <td>0.0</td>\n",
       "      <td>0.0</td>\n",
       "      <td>0.0</td>\n",
       "      <td>0.00</td>\n",
       "      <td>0.0</td>\n",
       "      <td>0.0</td>\n",
       "      <td>0.00</td>\n",
       "      <td>0.0</td>\n",
       "      <td>0.0</td>\n",
       "      <td>0.00</td>\n",
       "    </tr>\n",
       "    <tr>\n",
       "      <th>119254</th>\n",
       "      <td>2022</td>\n",
       "      <td>2500577</td>\n",
       "      <td>PB</td>\n",
       "      <td>0.0</td>\n",
       "      <td>NaN</td>\n",
       "      <td>NaN</td>\n",
       "      <td>0.0</td>\n",
       "      <td>NaN</td>\n",
       "      <td>352.0</td>\n",
       "      <td>NaN</td>\n",
       "      <td>...</td>\n",
       "      <td>NaN</td>\n",
       "      <td>NaN</td>\n",
       "      <td>NaN</td>\n",
       "      <td>0.00</td>\n",
       "      <td>0.0</td>\n",
       "      <td>0.0</td>\n",
       "      <td>0.00</td>\n",
       "      <td>0.0</td>\n",
       "      <td>0.0</td>\n",
       "      <td>0.00</td>\n",
       "    </tr>\n",
       "    <tr>\n",
       "      <th>119255</th>\n",
       "      <td>2022</td>\n",
       "      <td>4311734</td>\n",
       "      <td>RS</td>\n",
       "      <td>2800.0</td>\n",
       "      <td>NaN</td>\n",
       "      <td>NaN</td>\n",
       "      <td>853.0</td>\n",
       "      <td>NaN</td>\n",
       "      <td>1126.0</td>\n",
       "      <td>NaN</td>\n",
       "      <td>...</td>\n",
       "      <td>0.0</td>\n",
       "      <td>0.0</td>\n",
       "      <td>5415.0</td>\n",
       "      <td>NaN</td>\n",
       "      <td>NaN</td>\n",
       "      <td>NaN</td>\n",
       "      <td>NaN</td>\n",
       "      <td>NaN</td>\n",
       "      <td>NaN</td>\n",
       "      <td>NaN</td>\n",
       "    </tr>\n",
       "  </tbody>\n",
       "</table>\n",
       "<p>26389 rows × 62 columns</p>\n",
       "</div>"
      ],
      "text/plain": [
       "         ano  id_municipio sigla_uf  populacao_atendida_agua  \\\n",
       "0       2018       2705606       AL                   5276.0   \n",
       "1       2018       2707107       AL                  18502.0   \n",
       "2       2021       2709152       AL                  39000.0   \n",
       "4       2021       2902104       BA                  35540.0   \n",
       "5       2020       2905107       BA                   6942.0   \n",
       "...      ...           ...      ...                      ...   \n",
       "119251  2022       1300805       AM                  30805.0   \n",
       "119252  2022       2102077       MA                   4678.0   \n",
       "119253  2022       1506104       PA                  10000.0   \n",
       "119254  2022       2500577       PB                      0.0   \n",
       "119255  2022       4311734       RS                   2800.0   \n",
       "\n",
       "        populacao_atentida_esgoto  populacao_urbana_atendida_esgoto  \\\n",
       "0                          3000.0                            3000.0   \n",
       "1                          8292.0                            8292.0   \n",
       "2                         28000.0                           28000.0   \n",
       "4                         20700.0                           17030.0   \n",
       "5                           547.0                               0.0   \n",
       "...                           ...                               ...   \n",
       "119251                        NaN                               NaN   \n",
       "119252                        NaN                               NaN   \n",
       "119253                        NaN                               NaN   \n",
       "119254                        NaN                               NaN   \n",
       "119255                        NaN                               NaN   \n",
       "\n",
       "        quantidade_ligacao_ativa_agua  quantidade_ligacao_ativa_esgoto  \\\n",
       "0                              1355.0                            300.0   \n",
       "1                              4942.0                           2177.0   \n",
       "2                             10465.0                           6300.0   \n",
       "4                             12293.0                          14679.0   \n",
       "5                              2657.0                            207.0   \n",
       "...                               ...                              ...   \n",
       "119251                         6605.0                              NaN   \n",
       "119252                         1000.0                              NaN   \n",
       "119253                         3030.0                              NaN   \n",
       "119254                            0.0                              NaN   \n",
       "119255                          853.0                              NaN   \n",
       "\n",
       "        quantidade_ligacao_total_agua  quantidade_ligacao_total_esgoto  ...  \\\n",
       "0                              2296.0                            300.0  ...   \n",
       "1                              7100.0                           2326.0  ...   \n",
       "2                             14134.0                           6345.0  ...   \n",
       "4                             13901.0                          15947.0  ...   \n",
       "5                              3048.0                            235.0  ...   \n",
       "...                               ...                              ...  ...   \n",
       "119251                         8120.0                              NaN  ...   \n",
       "119252                         1000.0                              NaN  ...   \n",
       "119253                         3030.0                              NaN  ...   \n",
       "119254                          352.0                              NaN  ...   \n",
       "119255                         1126.0                              NaN  ...   \n",
       "\n",
       "        investimento_recurso_oneroso_municipio  \\\n",
       "0                                          0.0   \n",
       "1                                          0.0   \n",
       "2                                          0.0   \n",
       "4                                          0.0   \n",
       "5                                          NaN   \n",
       "...                                        ...   \n",
       "119251                                     0.0   \n",
       "119252                                     0.0   \n",
       "119253                                     0.0   \n",
       "119254                                     NaN   \n",
       "119255                                     0.0   \n",
       "\n",
       "        investimento_recurso_nao_oneroso_municipio  \\\n",
       "0                                              0.0   \n",
       "1                                              0.0   \n",
       "2                                              0.0   \n",
       "4                                              0.0   \n",
       "5                                              NaN   \n",
       "...                                            ...   \n",
       "119251                                         0.0   \n",
       "119252                                         0.0   \n",
       "119253                                         0.0   \n",
       "119254                                         NaN   \n",
       "119255                                         0.0   \n",
       "\n",
       "        investimento_total_municipio  investimento_agua_estado  \\\n",
       "0                                0.0                      0.00   \n",
       "1                                0.0                 723542.56   \n",
       "2                                0.0                      0.00   \n",
       "4                           825550.0                      0.00   \n",
       "5                                NaN                       NaN   \n",
       "...                              ...                       ...   \n",
       "119251                           0.0                      0.00   \n",
       "119252                           0.0                 100000.00   \n",
       "119253                           0.0                      0.00   \n",
       "119254                           NaN                      0.00   \n",
       "119255                        5415.0                       NaN   \n",
       "\n",
       "        investimento_esgoto_estado  investimento_outro_estado  \\\n",
       "0                              0.0                        0.0   \n",
       "1                              NaN                        0.0   \n",
       "2                              0.0                        0.0   \n",
       "4                              0.0                        0.0   \n",
       "5                              NaN                        NaN   \n",
       "...                            ...                        ...   \n",
       "119251                         0.0                        0.0   \n",
       "119252                         0.0                        0.0   \n",
       "119253                         0.0                        0.0   \n",
       "119254                         0.0                        0.0   \n",
       "119255                         NaN                        NaN   \n",
       "\n",
       "        investimento_recurso_proprio_estado  \\\n",
       "0                                      0.00   \n",
       "1                                 723542.56   \n",
       "2                                      0.00   \n",
       "4                                      0.00   \n",
       "5                                       NaN   \n",
       "...                                     ...   \n",
       "119251                                 0.00   \n",
       "119252                            100000.00   \n",
       "119253                                 0.00   \n",
       "119254                                 0.00   \n",
       "119255                                  NaN   \n",
       "\n",
       "        investimento_recurso_oneroso_estado  \\\n",
       "0                                       0.0   \n",
       "1                                       0.0   \n",
       "2                                       0.0   \n",
       "4                                       0.0   \n",
       "5                                       NaN   \n",
       "...                                     ...   \n",
       "119251                                  0.0   \n",
       "119252                                  0.0   \n",
       "119253                                  0.0   \n",
       "119254                                  0.0   \n",
       "119255                                  NaN   \n",
       "\n",
       "        investimento_recurso_nao_oneroso_estado  investimento_total_estado  \n",
       "0                                           0.0                       0.00  \n",
       "1                                           0.0                  723542.56  \n",
       "2                                           0.0                       0.00  \n",
       "4                                           0.0                       0.00  \n",
       "5                                           NaN                        NaN  \n",
       "...                                         ...                        ...  \n",
       "119251                                      0.0                       0.00  \n",
       "119252                                      0.0                  100000.00  \n",
       "119253                                      0.0                       0.00  \n",
       "119254                                      0.0                       0.00  \n",
       "119255                                      NaN                        NaN  \n",
       "\n",
       "[26389 rows x 62 columns]"
      ]
     },
     "execution_count": 72,
     "metadata": {},
     "output_type": "execute_result"
    }
   ],
   "source": [
    "colunas_existentes = [col for col in colunas if col in df_anos_especificos.columns]\n",
    "df_filtrado = df_anos_especificos[colunas_existentes]\n",
    "df_filtrado"
   ]
  },
  {
   "cell_type": "code",
   "execution_count": 73,
   "metadata": {},
   "outputs": [
    {
     "data": {
      "text/plain": [
       "ano                                            0\n",
       "id_municipio                                   0\n",
       "sigla_uf                                       0\n",
       "populacao_atendida_agua                        2\n",
       "populacao_atentida_esgoto                  12793\n",
       "                                           ...  \n",
       "investimento_outro_estado                   5374\n",
       "investimento_recurso_proprio_estado         5713\n",
       "investimento_recurso_oneroso_estado         5770\n",
       "investimento_recurso_nao_oneroso_estado     5404\n",
       "investimento_total_estado                   5829\n",
       "Length: 62, dtype: int64"
      ]
     },
     "execution_count": 73,
     "metadata": {},
     "output_type": "execute_result"
    }
   ],
   "source": [
    "df_filtrado.isnull().sum()\n",
    "\n"
   ]
  },
  {
   "cell_type": "code",
   "execution_count": 74,
   "metadata": {},
   "outputs": [
    {
     "name": "stderr",
     "output_type": "stream",
     "text": [
      "C:\\Users\\marcela.ferreira\\AppData\\Local\\Temp\\ipykernel_22448\\2779969597.py:2: FutureWarning:\n",
      "\n",
      "DataFrameGroupBy.apply operated on the grouping columns. This behavior is deprecated, and in a future version of pandas the grouping columns will be excluded from the operation. Either pass `include_groups=False` to exclude the groupings or explicitly select the grouping columns after groupby to silence this warning.\n",
      "\n",
      "C:\\Users\\marcela.ferreira\\AppData\\Local\\Temp\\ipykernel_22448\\2779969597.py:5: FutureWarning:\n",
      "\n",
      "DataFrameGroupBy.apply operated on the grouping columns. This behavior is deprecated, and in a future version of pandas the grouping columns will be excluded from the operation. Either pass `include_groups=False` to exclude the groupings or explicitly select the grouping columns after groupby to silence this warning.\n",
      "\n"
     ]
    },
    {
     "data": {
      "text/html": [
       "<div>\n",
       "<style scoped>\n",
       "    .dataframe tbody tr th:only-of-type {\n",
       "        vertical-align: middle;\n",
       "    }\n",
       "\n",
       "    .dataframe tbody tr th {\n",
       "        vertical-align: top;\n",
       "    }\n",
       "\n",
       "    .dataframe thead th {\n",
       "        text-align: right;\n",
       "    }\n",
       "</style>\n",
       "<table border=\"1\" class=\"dataframe\">\n",
       "  <thead>\n",
       "    <tr style=\"text-align: right;\">\n",
       "      <th></th>\n",
       "      <th>ano</th>\n",
       "      <th>id_municipio</th>\n",
       "      <th>sigla_uf</th>\n",
       "      <th>populacao_atendida_agua</th>\n",
       "      <th>populacao_atentida_esgoto</th>\n",
       "      <th>populacao_urbana_atendida_esgoto</th>\n",
       "      <th>quantidade_ligacao_ativa_agua</th>\n",
       "      <th>quantidade_ligacao_ativa_esgoto</th>\n",
       "      <th>quantidade_ligacao_total_agua</th>\n",
       "      <th>quantidade_ligacao_total_esgoto</th>\n",
       "      <th>...</th>\n",
       "      <th>investimento_recurso_oneroso_municipio</th>\n",
       "      <th>investimento_recurso_nao_oneroso_municipio</th>\n",
       "      <th>investimento_total_municipio</th>\n",
       "      <th>investimento_agua_estado</th>\n",
       "      <th>investimento_esgoto_estado</th>\n",
       "      <th>investimento_outro_estado</th>\n",
       "      <th>investimento_recurso_proprio_estado</th>\n",
       "      <th>investimento_recurso_oneroso_estado</th>\n",
       "      <th>investimento_recurso_nao_oneroso_estado</th>\n",
       "      <th>investimento_total_estado</th>\n",
       "    </tr>\n",
       "    <tr>\n",
       "      <th>sigla_uf</th>\n",
       "      <th></th>\n",
       "      <th></th>\n",
       "      <th></th>\n",
       "      <th></th>\n",
       "      <th></th>\n",
       "      <th></th>\n",
       "      <th></th>\n",
       "      <th></th>\n",
       "      <th></th>\n",
       "      <th></th>\n",
       "      <th></th>\n",
       "      <th></th>\n",
       "      <th></th>\n",
       "      <th></th>\n",
       "      <th></th>\n",
       "      <th></th>\n",
       "      <th></th>\n",
       "      <th></th>\n",
       "      <th></th>\n",
       "      <th></th>\n",
       "      <th></th>\n",
       "    </tr>\n",
       "  </thead>\n",
       "  <tbody>\n",
       "    <tr>\n",
       "      <th>AC</th>\n",
       "      <td>0</td>\n",
       "      <td>0</td>\n",
       "      <td>0</td>\n",
       "      <td>0</td>\n",
       "      <td>96</td>\n",
       "      <td>98</td>\n",
       "      <td>0</td>\n",
       "      <td>96</td>\n",
       "      <td>0</td>\n",
       "      <td>96</td>\n",
       "      <td>...</td>\n",
       "      <td>20</td>\n",
       "      <td>20</td>\n",
       "      <td>20</td>\n",
       "      <td>1</td>\n",
       "      <td>1</td>\n",
       "      <td>0</td>\n",
       "      <td>0</td>\n",
       "      <td>1</td>\n",
       "      <td>2</td>\n",
       "      <td>1</td>\n",
       "    </tr>\n",
       "    <tr>\n",
       "      <th>AL</th>\n",
       "      <td>0</td>\n",
       "      <td>0</td>\n",
       "      <td>0</td>\n",
       "      <td>0</td>\n",
       "      <td>323</td>\n",
       "      <td>359</td>\n",
       "      <td>0</td>\n",
       "      <td>271</td>\n",
       "      <td>0</td>\n",
       "      <td>271</td>\n",
       "      <td>...</td>\n",
       "      <td>3</td>\n",
       "      <td>5</td>\n",
       "      <td>4</td>\n",
       "      <td>115</td>\n",
       "      <td>135</td>\n",
       "      <td>10</td>\n",
       "      <td>112</td>\n",
       "      <td>10</td>\n",
       "      <td>10</td>\n",
       "      <td>112</td>\n",
       "    </tr>\n",
       "    <tr>\n",
       "      <th>AM</th>\n",
       "      <td>0</td>\n",
       "      <td>0</td>\n",
       "      <td>0</td>\n",
       "      <td>0</td>\n",
       "      <td>169</td>\n",
       "      <td>176</td>\n",
       "      <td>0</td>\n",
       "      <td>169</td>\n",
       "      <td>0</td>\n",
       "      <td>169</td>\n",
       "      <td>...</td>\n",
       "      <td>10</td>\n",
       "      <td>14</td>\n",
       "      <td>2</td>\n",
       "      <td>28</td>\n",
       "      <td>29</td>\n",
       "      <td>29</td>\n",
       "      <td>31</td>\n",
       "      <td>30</td>\n",
       "      <td>30</td>\n",
       "      <td>30</td>\n",
       "    </tr>\n",
       "    <tr>\n",
       "      <th>AP</th>\n",
       "      <td>0</td>\n",
       "      <td>0</td>\n",
       "      <td>0</td>\n",
       "      <td>0</td>\n",
       "      <td>50</td>\n",
       "      <td>56</td>\n",
       "      <td>0</td>\n",
       "      <td>40</td>\n",
       "      <td>0</td>\n",
       "      <td>40</td>\n",
       "      <td>...</td>\n",
       "      <td>0</td>\n",
       "      <td>0</td>\n",
       "      <td>0</td>\n",
       "      <td>1</td>\n",
       "      <td>0</td>\n",
       "      <td>1</td>\n",
       "      <td>1</td>\n",
       "      <td>0</td>\n",
       "      <td>0</td>\n",
       "      <td>1</td>\n",
       "    </tr>\n",
       "    <tr>\n",
       "      <th>BA</th>\n",
       "      <td>0</td>\n",
       "      <td>0</td>\n",
       "      <td>0</td>\n",
       "      <td>0</td>\n",
       "      <td>1126</td>\n",
       "      <td>1322</td>\n",
       "      <td>0</td>\n",
       "      <td>1107</td>\n",
       "      <td>0</td>\n",
       "      <td>1107</td>\n",
       "      <td>...</td>\n",
       "      <td>1003</td>\n",
       "      <td>1009</td>\n",
       "      <td>958</td>\n",
       "      <td>669</td>\n",
       "      <td>662</td>\n",
       "      <td>665</td>\n",
       "      <td>667</td>\n",
       "      <td>668</td>\n",
       "      <td>671</td>\n",
       "      <td>667</td>\n",
       "    </tr>\n",
       "    <tr>\n",
       "      <th>CE</th>\n",
       "      <td>0</td>\n",
       "      <td>0</td>\n",
       "      <td>0</td>\n",
       "      <td>0</td>\n",
       "      <td>383</td>\n",
       "      <td>491</td>\n",
       "      <td>0</td>\n",
       "      <td>316</td>\n",
       "      <td>0</td>\n",
       "      <td>316</td>\n",
       "      <td>...</td>\n",
       "      <td>15</td>\n",
       "      <td>21</td>\n",
       "      <td>11</td>\n",
       "      <td>21</td>\n",
       "      <td>21</td>\n",
       "      <td>21</td>\n",
       "      <td>21</td>\n",
       "      <td>21</td>\n",
       "      <td>20</td>\n",
       "      <td>22</td>\n",
       "    </tr>\n",
       "    <tr>\n",
       "      <th>DF</th>\n",
       "      <td>0</td>\n",
       "      <td>0</td>\n",
       "      <td>0</td>\n",
       "      <td>0</td>\n",
       "      <td>0</td>\n",
       "      <td>1</td>\n",
       "      <td>0</td>\n",
       "      <td>0</td>\n",
       "      <td>0</td>\n",
       "      <td>0</td>\n",
       "      <td>...</td>\n",
       "      <td>0</td>\n",
       "      <td>0</td>\n",
       "      <td>0</td>\n",
       "      <td>0</td>\n",
       "      <td>0</td>\n",
       "      <td>0</td>\n",
       "      <td>0</td>\n",
       "      <td>0</td>\n",
       "      <td>0</td>\n",
       "      <td>0</td>\n",
       "    </tr>\n",
       "    <tr>\n",
       "      <th>ES</th>\n",
       "      <td>0</td>\n",
       "      <td>0</td>\n",
       "      <td>0</td>\n",
       "      <td>0</td>\n",
       "      <td>42</td>\n",
       "      <td>113</td>\n",
       "      <td>0</td>\n",
       "      <td>42</td>\n",
       "      <td>0</td>\n",
       "      <td>42</td>\n",
       "      <td>...</td>\n",
       "      <td>163</td>\n",
       "      <td>164</td>\n",
       "      <td>158</td>\n",
       "      <td>175</td>\n",
       "      <td>173</td>\n",
       "      <td>175</td>\n",
       "      <td>174</td>\n",
       "      <td>177</td>\n",
       "      <td>178</td>\n",
       "      <td>175</td>\n",
       "    </tr>\n",
       "    <tr>\n",
       "      <th>GO</th>\n",
       "      <td>0</td>\n",
       "      <td>0</td>\n",
       "      <td>0</td>\n",
       "      <td>0</td>\n",
       "      <td>781</td>\n",
       "      <td>870</td>\n",
       "      <td>0</td>\n",
       "      <td>780</td>\n",
       "      <td>0</td>\n",
       "      <td>780</td>\n",
       "      <td>...</td>\n",
       "      <td>907</td>\n",
       "      <td>907</td>\n",
       "      <td>894</td>\n",
       "      <td>898</td>\n",
       "      <td>900</td>\n",
       "      <td>901</td>\n",
       "      <td>900</td>\n",
       "      <td>900</td>\n",
       "      <td>900</td>\n",
       "      <td>900</td>\n",
       "    </tr>\n",
       "    <tr>\n",
       "      <th>MA</th>\n",
       "      <td>0</td>\n",
       "      <td>0</td>\n",
       "      <td>0</td>\n",
       "      <td>0</td>\n",
       "      <td>789</td>\n",
       "      <td>812</td>\n",
       "      <td>0</td>\n",
       "      <td>782</td>\n",
       "      <td>0</td>\n",
       "      <td>782</td>\n",
       "      <td>...</td>\n",
       "      <td>152</td>\n",
       "      <td>156</td>\n",
       "      <td>133</td>\n",
       "      <td>168</td>\n",
       "      <td>169</td>\n",
       "      <td>171</td>\n",
       "      <td>171</td>\n",
       "      <td>171</td>\n",
       "      <td>172</td>\n",
       "      <td>171</td>\n",
       "    </tr>\n",
       "    <tr>\n",
       "      <th>MG</th>\n",
       "      <td>0</td>\n",
       "      <td>0</td>\n",
       "      <td>0</td>\n",
       "      <td>0</td>\n",
       "      <td>760</td>\n",
       "      <td>1473</td>\n",
       "      <td>0</td>\n",
       "      <td>747</td>\n",
       "      <td>0</td>\n",
       "      <td>747</td>\n",
       "      <td>...</td>\n",
       "      <td>252</td>\n",
       "      <td>258</td>\n",
       "      <td>151</td>\n",
       "      <td>252</td>\n",
       "      <td>246</td>\n",
       "      <td>248</td>\n",
       "      <td>249</td>\n",
       "      <td>249</td>\n",
       "      <td>253</td>\n",
       "      <td>248</td>\n",
       "    </tr>\n",
       "    <tr>\n",
       "      <th>MS</th>\n",
       "      <td>0</td>\n",
       "      <td>0</td>\n",
       "      <td>0</td>\n",
       "      <td>0</td>\n",
       "      <td>81</td>\n",
       "      <td>146</td>\n",
       "      <td>0</td>\n",
       "      <td>81</td>\n",
       "      <td>0</td>\n",
       "      <td>81</td>\n",
       "      <td>...</td>\n",
       "      <td>66</td>\n",
       "      <td>72</td>\n",
       "      <td>66</td>\n",
       "      <td>65</td>\n",
       "      <td>49</td>\n",
       "      <td>71</td>\n",
       "      <td>71</td>\n",
       "      <td>71</td>\n",
       "      <td>44</td>\n",
       "      <td>71</td>\n",
       "    </tr>\n",
       "    <tr>\n",
       "      <th>MT</th>\n",
       "      <td>0</td>\n",
       "      <td>0</td>\n",
       "      <td>0</td>\n",
       "      <td>0</td>\n",
       "      <td>381</td>\n",
       "      <td>421</td>\n",
       "      <td>0</td>\n",
       "      <td>381</td>\n",
       "      <td>0</td>\n",
       "      <td>381</td>\n",
       "      <td>...</td>\n",
       "      <td>51</td>\n",
       "      <td>64</td>\n",
       "      <td>6</td>\n",
       "      <td>49</td>\n",
       "      <td>57</td>\n",
       "      <td>62</td>\n",
       "      <td>66</td>\n",
       "      <td>63</td>\n",
       "      <td>67</td>\n",
       "      <td>62</td>\n",
       "    </tr>\n",
       "    <tr>\n",
       "      <th>PA</th>\n",
       "      <td>0</td>\n",
       "      <td>0</td>\n",
       "      <td>0</td>\n",
       "      <td>0</td>\n",
       "      <td>443</td>\n",
       "      <td>470</td>\n",
       "      <td>0</td>\n",
       "      <td>436</td>\n",
       "      <td>0</td>\n",
       "      <td>436</td>\n",
       "      <td>...</td>\n",
       "      <td>27</td>\n",
       "      <td>33</td>\n",
       "      <td>8</td>\n",
       "      <td>36</td>\n",
       "      <td>37</td>\n",
       "      <td>36</td>\n",
       "      <td>42</td>\n",
       "      <td>43</td>\n",
       "      <td>45</td>\n",
       "      <td>38</td>\n",
       "    </tr>\n",
       "    <tr>\n",
       "      <th>PB</th>\n",
       "      <td>0</td>\n",
       "      <td>0</td>\n",
       "      <td>0</td>\n",
       "      <td>0</td>\n",
       "      <td>703</td>\n",
       "      <td>785</td>\n",
       "      <td>0</td>\n",
       "      <td>697</td>\n",
       "      <td>0</td>\n",
       "      <td>697</td>\n",
       "      <td>...</td>\n",
       "      <td>636</td>\n",
       "      <td>640</td>\n",
       "      <td>613</td>\n",
       "      <td>304</td>\n",
       "      <td>301</td>\n",
       "      <td>335</td>\n",
       "      <td>304</td>\n",
       "      <td>336</td>\n",
       "      <td>303</td>\n",
       "      <td>334</td>\n",
       "    </tr>\n",
       "    <tr>\n",
       "      <th>PE</th>\n",
       "      <td>0</td>\n",
       "      <td>0</td>\n",
       "      <td>0</td>\n",
       "      <td>0</td>\n",
       "      <td>497</td>\n",
       "      <td>594</td>\n",
       "      <td>0</td>\n",
       "      <td>497</td>\n",
       "      <td>0</td>\n",
       "      <td>497</td>\n",
       "      <td>...</td>\n",
       "      <td>538</td>\n",
       "      <td>530</td>\n",
       "      <td>506</td>\n",
       "      <td>1</td>\n",
       "      <td>129</td>\n",
       "      <td>129</td>\n",
       "      <td>1</td>\n",
       "      <td>117</td>\n",
       "      <td>117</td>\n",
       "      <td>117</td>\n",
       "    </tr>\n",
       "    <tr>\n",
       "      <th>PI</th>\n",
       "      <td>0</td>\n",
       "      <td>0</td>\n",
       "      <td>0</td>\n",
       "      <td>0</td>\n",
       "      <td>795</td>\n",
       "      <td>832</td>\n",
       "      <td>0</td>\n",
       "      <td>789</td>\n",
       "      <td>0</td>\n",
       "      <td>789</td>\n",
       "      <td>...</td>\n",
       "      <td>24</td>\n",
       "      <td>25</td>\n",
       "      <td>1</td>\n",
       "      <td>30</td>\n",
       "      <td>33</td>\n",
       "      <td>34</td>\n",
       "      <td>35</td>\n",
       "      <td>37</td>\n",
       "      <td>36</td>\n",
       "      <td>34</td>\n",
       "    </tr>\n",
       "    <tr>\n",
       "      <th>PR</th>\n",
       "      <td>0</td>\n",
       "      <td>0</td>\n",
       "      <td>0</td>\n",
       "      <td>0</td>\n",
       "      <td>852</td>\n",
       "      <td>1085</td>\n",
       "      <td>0</td>\n",
       "      <td>852</td>\n",
       "      <td>0</td>\n",
       "      <td>852</td>\n",
       "      <td>...</td>\n",
       "      <td>1388</td>\n",
       "      <td>1045</td>\n",
       "      <td>1376</td>\n",
       "      <td>1041</td>\n",
       "      <td>1039</td>\n",
       "      <td>695</td>\n",
       "      <td>1039</td>\n",
       "      <td>1039</td>\n",
       "      <td>696</td>\n",
       "      <td>1039</td>\n",
       "    </tr>\n",
       "    <tr>\n",
       "      <th>RJ</th>\n",
       "      <td>0</td>\n",
       "      <td>0</td>\n",
       "      <td>0</td>\n",
       "      <td>1</td>\n",
       "      <td>103</td>\n",
       "      <td>174</td>\n",
       "      <td>1</td>\n",
       "      <td>89</td>\n",
       "      <td>1</td>\n",
       "      <td>89</td>\n",
       "      <td>...</td>\n",
       "      <td>104</td>\n",
       "      <td>114</td>\n",
       "      <td>85</td>\n",
       "      <td>114</td>\n",
       "      <td>110</td>\n",
       "      <td>114</td>\n",
       "      <td>112</td>\n",
       "      <td>114</td>\n",
       "      <td>119</td>\n",
       "      <td>118</td>\n",
       "    </tr>\n",
       "    <tr>\n",
       "      <th>RN</th>\n",
       "      <td>0</td>\n",
       "      <td>0</td>\n",
       "      <td>0</td>\n",
       "      <td>0</td>\n",
       "      <td>483</td>\n",
       "      <td>557</td>\n",
       "      <td>0</td>\n",
       "      <td>480</td>\n",
       "      <td>0</td>\n",
       "      <td>480</td>\n",
       "      <td>...</td>\n",
       "      <td>708</td>\n",
       "      <td>707</td>\n",
       "      <td>687</td>\n",
       "      <td>433</td>\n",
       "      <td>431</td>\n",
       "      <td>434</td>\n",
       "      <td>436</td>\n",
       "      <td>438</td>\n",
       "      <td>440</td>\n",
       "      <td>435</td>\n",
       "    </tr>\n",
       "    <tr>\n",
       "      <th>RO</th>\n",
       "      <td>0</td>\n",
       "      <td>0</td>\n",
       "      <td>0</td>\n",
       "      <td>1</td>\n",
       "      <td>186</td>\n",
       "      <td>200</td>\n",
       "      <td>1</td>\n",
       "      <td>186</td>\n",
       "      <td>1</td>\n",
       "      <td>186</td>\n",
       "      <td>...</td>\n",
       "      <td>13</td>\n",
       "      <td>8</td>\n",
       "      <td>5</td>\n",
       "      <td>32</td>\n",
       "      <td>34</td>\n",
       "      <td>35</td>\n",
       "      <td>35</td>\n",
       "      <td>35</td>\n",
       "      <td>33</td>\n",
       "      <td>35</td>\n",
       "    </tr>\n",
       "    <tr>\n",
       "      <th>RR</th>\n",
       "      <td>0</td>\n",
       "      <td>0</td>\n",
       "      <td>0</td>\n",
       "      <td>0</td>\n",
       "      <td>53</td>\n",
       "      <td>58</td>\n",
       "      <td>0</td>\n",
       "      <td>53</td>\n",
       "      <td>0</td>\n",
       "      <td>53</td>\n",
       "      <td>...</td>\n",
       "      <td>47</td>\n",
       "      <td>48</td>\n",
       "      <td>47</td>\n",
       "      <td>13</td>\n",
       "      <td>13</td>\n",
       "      <td>13</td>\n",
       "      <td>23</td>\n",
       "      <td>14</td>\n",
       "      <td>23</td>\n",
       "      <td>13</td>\n",
       "    </tr>\n",
       "    <tr>\n",
       "      <th>RS</th>\n",
       "      <td>0</td>\n",
       "      <td>0</td>\n",
       "      <td>0</td>\n",
       "      <td>0</td>\n",
       "      <td>1781</td>\n",
       "      <td>1909</td>\n",
       "      <td>0</td>\n",
       "      <td>1767</td>\n",
       "      <td>0</td>\n",
       "      <td>1767</td>\n",
       "      <td>...</td>\n",
       "      <td>413</td>\n",
       "      <td>435</td>\n",
       "      <td>278</td>\n",
       "      <td>445</td>\n",
       "      <td>456</td>\n",
       "      <td>462</td>\n",
       "      <td>465</td>\n",
       "      <td>468</td>\n",
       "      <td>466</td>\n",
       "      <td>463</td>\n",
       "    </tr>\n",
       "    <tr>\n",
       "      <th>SC</th>\n",
       "      <td>0</td>\n",
       "      <td>0</td>\n",
       "      <td>0</td>\n",
       "      <td>0</td>\n",
       "      <td>1061</td>\n",
       "      <td>1145</td>\n",
       "      <td>0</td>\n",
       "      <td>1056</td>\n",
       "      <td>0</td>\n",
       "      <td>1056</td>\n",
       "      <td>...</td>\n",
       "      <td>258</td>\n",
       "      <td>259</td>\n",
       "      <td>211</td>\n",
       "      <td>243</td>\n",
       "      <td>247</td>\n",
       "      <td>246</td>\n",
       "      <td>245</td>\n",
       "      <td>253</td>\n",
       "      <td>255</td>\n",
       "      <td>247</td>\n",
       "    </tr>\n",
       "    <tr>\n",
       "      <th>SE</th>\n",
       "      <td>0</td>\n",
       "      <td>0</td>\n",
       "      <td>0</td>\n",
       "      <td>0</td>\n",
       "      <td>272</td>\n",
       "      <td>301</td>\n",
       "      <td>0</td>\n",
       "      <td>272</td>\n",
       "      <td>0</td>\n",
       "      <td>272</td>\n",
       "      <td>...</td>\n",
       "      <td>181</td>\n",
       "      <td>180</td>\n",
       "      <td>176</td>\n",
       "      <td>186</td>\n",
       "      <td>180</td>\n",
       "      <td>180</td>\n",
       "      <td>180</td>\n",
       "      <td>180</td>\n",
       "      <td>180</td>\n",
       "      <td>180</td>\n",
       "    </tr>\n",
       "    <tr>\n",
       "      <th>SP</th>\n",
       "      <td>0</td>\n",
       "      <td>0</td>\n",
       "      <td>0</td>\n",
       "      <td>0</td>\n",
       "      <td>1</td>\n",
       "      <td>644</td>\n",
       "      <td>0</td>\n",
       "      <td>1</td>\n",
       "      <td>0</td>\n",
       "      <td>1</td>\n",
       "      <td>...</td>\n",
       "      <td>118</td>\n",
       "      <td>124</td>\n",
       "      <td>10</td>\n",
       "      <td>142</td>\n",
       "      <td>151</td>\n",
       "      <td>151</td>\n",
       "      <td>176</td>\n",
       "      <td>178</td>\n",
       "      <td>186</td>\n",
       "      <td>159</td>\n",
       "    </tr>\n",
       "    <tr>\n",
       "      <th>TO</th>\n",
       "      <td>0</td>\n",
       "      <td>0</td>\n",
       "      <td>0</td>\n",
       "      <td>0</td>\n",
       "      <td>582</td>\n",
       "      <td>603</td>\n",
       "      <td>0</td>\n",
       "      <td>582</td>\n",
       "      <td>0</td>\n",
       "      <td>582</td>\n",
       "      <td>...</td>\n",
       "      <td>149</td>\n",
       "      <td>151</td>\n",
       "      <td>147</td>\n",
       "      <td>157</td>\n",
       "      <td>157</td>\n",
       "      <td>156</td>\n",
       "      <td>157</td>\n",
       "      <td>157</td>\n",
       "      <td>158</td>\n",
       "      <td>157</td>\n",
       "    </tr>\n",
       "  </tbody>\n",
       "</table>\n",
       "<p>27 rows × 62 columns</p>\n",
       "</div>"
      ],
      "text/plain": [
       "          ano  id_municipio  sigla_uf  populacao_atendida_agua  \\\n",
       "sigla_uf                                                         \n",
       "AC          0             0         0                        0   \n",
       "AL          0             0         0                        0   \n",
       "AM          0             0         0                        0   \n",
       "AP          0             0         0                        0   \n",
       "BA          0             0         0                        0   \n",
       "CE          0             0         0                        0   \n",
       "DF          0             0         0                        0   \n",
       "ES          0             0         0                        0   \n",
       "GO          0             0         0                        0   \n",
       "MA          0             0         0                        0   \n",
       "MG          0             0         0                        0   \n",
       "MS          0             0         0                        0   \n",
       "MT          0             0         0                        0   \n",
       "PA          0             0         0                        0   \n",
       "PB          0             0         0                        0   \n",
       "PE          0             0         0                        0   \n",
       "PI          0             0         0                        0   \n",
       "PR          0             0         0                        0   \n",
       "RJ          0             0         0                        1   \n",
       "RN          0             0         0                        0   \n",
       "RO          0             0         0                        1   \n",
       "RR          0             0         0                        0   \n",
       "RS          0             0         0                        0   \n",
       "SC          0             0         0                        0   \n",
       "SE          0             0         0                        0   \n",
       "SP          0             0         0                        0   \n",
       "TO          0             0         0                        0   \n",
       "\n",
       "          populacao_atentida_esgoto  populacao_urbana_atendida_esgoto  \\\n",
       "sigla_uf                                                                \n",
       "AC                               96                                98   \n",
       "AL                              323                               359   \n",
       "AM                              169                               176   \n",
       "AP                               50                                56   \n",
       "BA                             1126                              1322   \n",
       "CE                              383                               491   \n",
       "DF                                0                                 1   \n",
       "ES                               42                               113   \n",
       "GO                              781                               870   \n",
       "MA                              789                               812   \n",
       "MG                              760                              1473   \n",
       "MS                               81                               146   \n",
       "MT                              381                               421   \n",
       "PA                              443                               470   \n",
       "PB                              703                               785   \n",
       "PE                              497                               594   \n",
       "PI                              795                               832   \n",
       "PR                              852                              1085   \n",
       "RJ                              103                               174   \n",
       "RN                              483                               557   \n",
       "RO                              186                               200   \n",
       "RR                               53                                58   \n",
       "RS                             1781                              1909   \n",
       "SC                             1061                              1145   \n",
       "SE                              272                               301   \n",
       "SP                                1                               644   \n",
       "TO                              582                               603   \n",
       "\n",
       "          quantidade_ligacao_ativa_agua  quantidade_ligacao_ativa_esgoto  \\\n",
       "sigla_uf                                                                   \n",
       "AC                                    0                               96   \n",
       "AL                                    0                              271   \n",
       "AM                                    0                              169   \n",
       "AP                                    0                               40   \n",
       "BA                                    0                             1107   \n",
       "CE                                    0                              316   \n",
       "DF                                    0                                0   \n",
       "ES                                    0                               42   \n",
       "GO                                    0                              780   \n",
       "MA                                    0                              782   \n",
       "MG                                    0                              747   \n",
       "MS                                    0                               81   \n",
       "MT                                    0                              381   \n",
       "PA                                    0                              436   \n",
       "PB                                    0                              697   \n",
       "PE                                    0                              497   \n",
       "PI                                    0                              789   \n",
       "PR                                    0                              852   \n",
       "RJ                                    1                               89   \n",
       "RN                                    0                              480   \n",
       "RO                                    1                              186   \n",
       "RR                                    0                               53   \n",
       "RS                                    0                             1767   \n",
       "SC                                    0                             1056   \n",
       "SE                                    0                              272   \n",
       "SP                                    0                                1   \n",
       "TO                                    0                              582   \n",
       "\n",
       "          quantidade_ligacao_total_agua  quantidade_ligacao_total_esgoto  ...  \\\n",
       "sigla_uf                                                                  ...   \n",
       "AC                                    0                               96  ...   \n",
       "AL                                    0                              271  ...   \n",
       "AM                                    0                              169  ...   \n",
       "AP                                    0                               40  ...   \n",
       "BA                                    0                             1107  ...   \n",
       "CE                                    0                              316  ...   \n",
       "DF                                    0                                0  ...   \n",
       "ES                                    0                               42  ...   \n",
       "GO                                    0                              780  ...   \n",
       "MA                                    0                              782  ...   \n",
       "MG                                    0                              747  ...   \n",
       "MS                                    0                               81  ...   \n",
       "MT                                    0                              381  ...   \n",
       "PA                                    0                              436  ...   \n",
       "PB                                    0                              697  ...   \n",
       "PE                                    0                              497  ...   \n",
       "PI                                    0                              789  ...   \n",
       "PR                                    0                              852  ...   \n",
       "RJ                                    1                               89  ...   \n",
       "RN                                    0                              480  ...   \n",
       "RO                                    1                              186  ...   \n",
       "RR                                    0                               53  ...   \n",
       "RS                                    0                             1767  ...   \n",
       "SC                                    0                             1056  ...   \n",
       "SE                                    0                              272  ...   \n",
       "SP                                    0                                1  ...   \n",
       "TO                                    0                              582  ...   \n",
       "\n",
       "          investimento_recurso_oneroso_municipio  \\\n",
       "sigla_uf                                           \n",
       "AC                                            20   \n",
       "AL                                             3   \n",
       "AM                                            10   \n",
       "AP                                             0   \n",
       "BA                                          1003   \n",
       "CE                                            15   \n",
       "DF                                             0   \n",
       "ES                                           163   \n",
       "GO                                           907   \n",
       "MA                                           152   \n",
       "MG                                           252   \n",
       "MS                                            66   \n",
       "MT                                            51   \n",
       "PA                                            27   \n",
       "PB                                           636   \n",
       "PE                                           538   \n",
       "PI                                            24   \n",
       "PR                                          1388   \n",
       "RJ                                           104   \n",
       "RN                                           708   \n",
       "RO                                            13   \n",
       "RR                                            47   \n",
       "RS                                           413   \n",
       "SC                                           258   \n",
       "SE                                           181   \n",
       "SP                                           118   \n",
       "TO                                           149   \n",
       "\n",
       "          investimento_recurso_nao_oneroso_municipio  \\\n",
       "sigla_uf                                               \n",
       "AC                                                20   \n",
       "AL                                                 5   \n",
       "AM                                                14   \n",
       "AP                                                 0   \n",
       "BA                                              1009   \n",
       "CE                                                21   \n",
       "DF                                                 0   \n",
       "ES                                               164   \n",
       "GO                                               907   \n",
       "MA                                               156   \n",
       "MG                                               258   \n",
       "MS                                                72   \n",
       "MT                                                64   \n",
       "PA                                                33   \n",
       "PB                                               640   \n",
       "PE                                               530   \n",
       "PI                                                25   \n",
       "PR                                              1045   \n",
       "RJ                                               114   \n",
       "RN                                               707   \n",
       "RO                                                 8   \n",
       "RR                                                48   \n",
       "RS                                               435   \n",
       "SC                                               259   \n",
       "SE                                               180   \n",
       "SP                                               124   \n",
       "TO                                               151   \n",
       "\n",
       "          investimento_total_municipio  investimento_agua_estado  \\\n",
       "sigla_uf                                                           \n",
       "AC                                  20                         1   \n",
       "AL                                   4                       115   \n",
       "AM                                   2                        28   \n",
       "AP                                   0                         1   \n",
       "BA                                 958                       669   \n",
       "CE                                  11                        21   \n",
       "DF                                   0                         0   \n",
       "ES                                 158                       175   \n",
       "GO                                 894                       898   \n",
       "MA                                 133                       168   \n",
       "MG                                 151                       252   \n",
       "MS                                  66                        65   \n",
       "MT                                   6                        49   \n",
       "PA                                   8                        36   \n",
       "PB                                 613                       304   \n",
       "PE                                 506                         1   \n",
       "PI                                   1                        30   \n",
       "PR                                1376                      1041   \n",
       "RJ                                  85                       114   \n",
       "RN                                 687                       433   \n",
       "RO                                   5                        32   \n",
       "RR                                  47                        13   \n",
       "RS                                 278                       445   \n",
       "SC                                 211                       243   \n",
       "SE                                 176                       186   \n",
       "SP                                  10                       142   \n",
       "TO                                 147                       157   \n",
       "\n",
       "          investimento_esgoto_estado  investimento_outro_estado  \\\n",
       "sigla_uf                                                          \n",
       "AC                                 1                          0   \n",
       "AL                               135                         10   \n",
       "AM                                29                         29   \n",
       "AP                                 0                          1   \n",
       "BA                               662                        665   \n",
       "CE                                21                         21   \n",
       "DF                                 0                          0   \n",
       "ES                               173                        175   \n",
       "GO                               900                        901   \n",
       "MA                               169                        171   \n",
       "MG                               246                        248   \n",
       "MS                                49                         71   \n",
       "MT                                57                         62   \n",
       "PA                                37                         36   \n",
       "PB                               301                        335   \n",
       "PE                               129                        129   \n",
       "PI                                33                         34   \n",
       "PR                              1039                        695   \n",
       "RJ                               110                        114   \n",
       "RN                               431                        434   \n",
       "RO                                34                         35   \n",
       "RR                                13                         13   \n",
       "RS                               456                        462   \n",
       "SC                               247                        246   \n",
       "SE                               180                        180   \n",
       "SP                               151                        151   \n",
       "TO                               157                        156   \n",
       "\n",
       "          investimento_recurso_proprio_estado  \\\n",
       "sigla_uf                                        \n",
       "AC                                          0   \n",
       "AL                                        112   \n",
       "AM                                         31   \n",
       "AP                                          1   \n",
       "BA                                        667   \n",
       "CE                                         21   \n",
       "DF                                          0   \n",
       "ES                                        174   \n",
       "GO                                        900   \n",
       "MA                                        171   \n",
       "MG                                        249   \n",
       "MS                                         71   \n",
       "MT                                         66   \n",
       "PA                                         42   \n",
       "PB                                        304   \n",
       "PE                                          1   \n",
       "PI                                         35   \n",
       "PR                                       1039   \n",
       "RJ                                        112   \n",
       "RN                                        436   \n",
       "RO                                         35   \n",
       "RR                                         23   \n",
       "RS                                        465   \n",
       "SC                                        245   \n",
       "SE                                        180   \n",
       "SP                                        176   \n",
       "TO                                        157   \n",
       "\n",
       "          investimento_recurso_oneroso_estado  \\\n",
       "sigla_uf                                        \n",
       "AC                                          1   \n",
       "AL                                         10   \n",
       "AM                                         30   \n",
       "AP                                          0   \n",
       "BA                                        668   \n",
       "CE                                         21   \n",
       "DF                                          0   \n",
       "ES                                        177   \n",
       "GO                                        900   \n",
       "MA                                        171   \n",
       "MG                                        249   \n",
       "MS                                         71   \n",
       "MT                                         63   \n",
       "PA                                         43   \n",
       "PB                                        336   \n",
       "PE                                        117   \n",
       "PI                                         37   \n",
       "PR                                       1039   \n",
       "RJ                                        114   \n",
       "RN                                        438   \n",
       "RO                                         35   \n",
       "RR                                         14   \n",
       "RS                                        468   \n",
       "SC                                        253   \n",
       "SE                                        180   \n",
       "SP                                        178   \n",
       "TO                                        157   \n",
       "\n",
       "          investimento_recurso_nao_oneroso_estado  investimento_total_estado  \n",
       "sigla_uf                                                                      \n",
       "AC                                              2                          1  \n",
       "AL                                             10                        112  \n",
       "AM                                             30                         30  \n",
       "AP                                              0                          1  \n",
       "BA                                            671                        667  \n",
       "CE                                             20                         22  \n",
       "DF                                              0                          0  \n",
       "ES                                            178                        175  \n",
       "GO                                            900                        900  \n",
       "MA                                            172                        171  \n",
       "MG                                            253                        248  \n",
       "MS                                             44                         71  \n",
       "MT                                             67                         62  \n",
       "PA                                             45                         38  \n",
       "PB                                            303                        334  \n",
       "PE                                            117                        117  \n",
       "PI                                             36                         34  \n",
       "PR                                            696                       1039  \n",
       "RJ                                            119                        118  \n",
       "RN                                            440                        435  \n",
       "RO                                             33                         35  \n",
       "RR                                             23                         13  \n",
       "RS                                            466                        463  \n",
       "SC                                            255                        247  \n",
       "SE                                            180                        180  \n",
       "SP                                            186                        159  \n",
       "TO                                            158                        157  \n",
       "\n",
       "[27 rows x 62 columns]"
      ]
     },
     "metadata": {},
     "output_type": "display_data"
    }
   ],
   "source": [
    "# Contar nulos por estado\n",
    "nulos_por_estado = df_filtrado.groupby(\"sigla_uf\").apply(lambda x: x.isnull().sum())\n",
    "\n",
    "# Contar vazios por estado ('' para strings)\n",
    "vazios_por_estado = df_filtrado.groupby(\"sigla_uf\").apply(lambda x: (x == '').sum())\n",
    "\n",
    "# Somar nulos e vazios\n",
    "nulos_vazios_por_estado = nulos_por_estado + vazios_por_estado\n",
    "\n",
    "# Exibir o resultado como tabela\n",
    "display(nulos_vazios_por_estado)\n"
   ]
  },
  {
   "cell_type": "code",
   "execution_count": 75,
   "metadata": {},
   "outputs": [
    {
     "ename": "PermissionError",
     "evalue": "[Errno 13] Permission denied: 'C:\\\\Users\\\\marcela.ferreira\\\\Downloads\\\\Analise_Saneamento\\\\df_filtrado.xlsx'",
     "output_type": "error",
     "traceback": [
      "\u001b[31m---------------------------------------------------------------------------\u001b[39m",
      "\u001b[31mPermissionError\u001b[39m                           Traceback (most recent call last)",
      "\u001b[36mCell\u001b[39m\u001b[36m \u001b[39m\u001b[32mIn[75]\u001b[39m\u001b[32m, line 2\u001b[39m\n\u001b[32m      1\u001b[39m caminho_arquivo = \u001b[33mr\u001b[39m\u001b[33m\"\u001b[39m\u001b[33mC:\u001b[39m\u001b[33m\\\u001b[39m\u001b[33mUsers\u001b[39m\u001b[33m\\\u001b[39m\u001b[33mmarcela.ferreira\u001b[39m\u001b[33m\\\u001b[39m\u001b[33mDownloads\u001b[39m\u001b[33m\\\u001b[39m\u001b[33mAnalise_Saneamento\u001b[39m\u001b[33m\\\u001b[39m\u001b[33mdf_filtrado.xlsx\u001b[39m\u001b[33m\"\u001b[39m\n\u001b[32m----> \u001b[39m\u001b[32m2\u001b[39m \u001b[43mdf_filtrado\u001b[49m\u001b[43m.\u001b[49m\u001b[43mto_excel\u001b[49m\u001b[43m(\u001b[49m\u001b[43mcaminho_arquivo\u001b[49m\u001b[43m,\u001b[49m\u001b[43m \u001b[49m\u001b[43mindex\u001b[49m\u001b[43m=\u001b[49m\u001b[38;5;28;43;01mFalse\u001b[39;49;00m\u001b[43m)\u001b[49m\n",
      "\u001b[36mFile \u001b[39m\u001b[32mc:\\Users\\marcela.ferreira\\AppData\\Local\\Programs\\Python\\Python313\\Lib\\site-packages\\pandas\\util\\_decorators.py:333\u001b[39m, in \u001b[36mdeprecate_nonkeyword_arguments.<locals>.decorate.<locals>.wrapper\u001b[39m\u001b[34m(*args, **kwargs)\u001b[39m\n\u001b[32m    327\u001b[39m \u001b[38;5;28;01mif\u001b[39;00m \u001b[38;5;28mlen\u001b[39m(args) > num_allow_args:\n\u001b[32m    328\u001b[39m     warnings.warn(\n\u001b[32m    329\u001b[39m         msg.format(arguments=_format_argument_list(allow_args)),\n\u001b[32m    330\u001b[39m         \u001b[38;5;167;01mFutureWarning\u001b[39;00m,\n\u001b[32m    331\u001b[39m         stacklevel=find_stack_level(),\n\u001b[32m    332\u001b[39m     )\n\u001b[32m--> \u001b[39m\u001b[32m333\u001b[39m \u001b[38;5;28;01mreturn\u001b[39;00m \u001b[43mfunc\u001b[49m\u001b[43m(\u001b[49m\u001b[43m*\u001b[49m\u001b[43margs\u001b[49m\u001b[43m,\u001b[49m\u001b[43m \u001b[49m\u001b[43m*\u001b[49m\u001b[43m*\u001b[49m\u001b[43mkwargs\u001b[49m\u001b[43m)\u001b[49m\n",
      "\u001b[36mFile \u001b[39m\u001b[32mc:\\Users\\marcela.ferreira\\AppData\\Local\\Programs\\Python\\Python313\\Lib\\site-packages\\pandas\\core\\generic.py:2436\u001b[39m, in \u001b[36mNDFrame.to_excel\u001b[39m\u001b[34m(self, excel_writer, sheet_name, na_rep, float_format, columns, header, index, index_label, startrow, startcol, engine, merge_cells, inf_rep, freeze_panes, storage_options, engine_kwargs)\u001b[39m\n\u001b[32m   2423\u001b[39m \u001b[38;5;28;01mfrom\u001b[39;00m\u001b[38;5;250m \u001b[39m\u001b[34;01mpandas\u001b[39;00m\u001b[34;01m.\u001b[39;00m\u001b[34;01mio\u001b[39;00m\u001b[34;01m.\u001b[39;00m\u001b[34;01mformats\u001b[39;00m\u001b[34;01m.\u001b[39;00m\u001b[34;01mexcel\u001b[39;00m\u001b[38;5;250m \u001b[39m\u001b[38;5;28;01mimport\u001b[39;00m ExcelFormatter\n\u001b[32m   2425\u001b[39m formatter = ExcelFormatter(\n\u001b[32m   2426\u001b[39m     df,\n\u001b[32m   2427\u001b[39m     na_rep=na_rep,\n\u001b[32m   (...)\u001b[39m\u001b[32m   2434\u001b[39m     inf_rep=inf_rep,\n\u001b[32m   2435\u001b[39m )\n\u001b[32m-> \u001b[39m\u001b[32m2436\u001b[39m \u001b[43mformatter\u001b[49m\u001b[43m.\u001b[49m\u001b[43mwrite\u001b[49m\u001b[43m(\u001b[49m\n\u001b[32m   2437\u001b[39m \u001b[43m    \u001b[49m\u001b[43mexcel_writer\u001b[49m\u001b[43m,\u001b[49m\n\u001b[32m   2438\u001b[39m \u001b[43m    \u001b[49m\u001b[43msheet_name\u001b[49m\u001b[43m=\u001b[49m\u001b[43msheet_name\u001b[49m\u001b[43m,\u001b[49m\n\u001b[32m   2439\u001b[39m \u001b[43m    \u001b[49m\u001b[43mstartrow\u001b[49m\u001b[43m=\u001b[49m\u001b[43mstartrow\u001b[49m\u001b[43m,\u001b[49m\n\u001b[32m   2440\u001b[39m \u001b[43m    \u001b[49m\u001b[43mstartcol\u001b[49m\u001b[43m=\u001b[49m\u001b[43mstartcol\u001b[49m\u001b[43m,\u001b[49m\n\u001b[32m   2441\u001b[39m \u001b[43m    \u001b[49m\u001b[43mfreeze_panes\u001b[49m\u001b[43m=\u001b[49m\u001b[43mfreeze_panes\u001b[49m\u001b[43m,\u001b[49m\n\u001b[32m   2442\u001b[39m \u001b[43m    \u001b[49m\u001b[43mengine\u001b[49m\u001b[43m=\u001b[49m\u001b[43mengine\u001b[49m\u001b[43m,\u001b[49m\n\u001b[32m   2443\u001b[39m \u001b[43m    \u001b[49m\u001b[43mstorage_options\u001b[49m\u001b[43m=\u001b[49m\u001b[43mstorage_options\u001b[49m\u001b[43m,\u001b[49m\n\u001b[32m   2444\u001b[39m \u001b[43m    \u001b[49m\u001b[43mengine_kwargs\u001b[49m\u001b[43m=\u001b[49m\u001b[43mengine_kwargs\u001b[49m\u001b[43m,\u001b[49m\n\u001b[32m   2445\u001b[39m \u001b[43m\u001b[49m\u001b[43m)\u001b[49m\n",
      "\u001b[36mFile \u001b[39m\u001b[32mc:\\Users\\marcela.ferreira\\AppData\\Local\\Programs\\Python\\Python313\\Lib\\site-packages\\pandas\\io\\formats\\excel.py:943\u001b[39m, in \u001b[36mExcelFormatter.write\u001b[39m\u001b[34m(self, writer, sheet_name, startrow, startcol, freeze_panes, engine, storage_options, engine_kwargs)\u001b[39m\n\u001b[32m    941\u001b[39m     need_save = \u001b[38;5;28;01mFalse\u001b[39;00m\n\u001b[32m    942\u001b[39m \u001b[38;5;28;01melse\u001b[39;00m:\n\u001b[32m--> \u001b[39m\u001b[32m943\u001b[39m     writer = \u001b[43mExcelWriter\u001b[49m\u001b[43m(\u001b[49m\n\u001b[32m    944\u001b[39m \u001b[43m        \u001b[49m\u001b[43mwriter\u001b[49m\u001b[43m,\u001b[49m\n\u001b[32m    945\u001b[39m \u001b[43m        \u001b[49m\u001b[43mengine\u001b[49m\u001b[43m=\u001b[49m\u001b[43mengine\u001b[49m\u001b[43m,\u001b[49m\n\u001b[32m    946\u001b[39m \u001b[43m        \u001b[49m\u001b[43mstorage_options\u001b[49m\u001b[43m=\u001b[49m\u001b[43mstorage_options\u001b[49m\u001b[43m,\u001b[49m\n\u001b[32m    947\u001b[39m \u001b[43m        \u001b[49m\u001b[43mengine_kwargs\u001b[49m\u001b[43m=\u001b[49m\u001b[43mengine_kwargs\u001b[49m\u001b[43m,\u001b[49m\n\u001b[32m    948\u001b[39m \u001b[43m    \u001b[49m\u001b[43m)\u001b[49m\n\u001b[32m    949\u001b[39m     need_save = \u001b[38;5;28;01mTrue\u001b[39;00m\n\u001b[32m    951\u001b[39m \u001b[38;5;28;01mtry\u001b[39;00m:\n",
      "\u001b[36mFile \u001b[39m\u001b[32mc:\\Users\\marcela.ferreira\\AppData\\Local\\Programs\\Python\\Python313\\Lib\\site-packages\\pandas\\io\\excel\\_openpyxl.py:61\u001b[39m, in \u001b[36mOpenpyxlWriter.__init__\u001b[39m\u001b[34m(self, path, engine, date_format, datetime_format, mode, storage_options, if_sheet_exists, engine_kwargs, **kwargs)\u001b[39m\n\u001b[32m     57\u001b[39m \u001b[38;5;28;01mfrom\u001b[39;00m\u001b[38;5;250m \u001b[39m\u001b[34;01mopenpyxl\u001b[39;00m\u001b[34;01m.\u001b[39;00m\u001b[34;01mworkbook\u001b[39;00m\u001b[38;5;250m \u001b[39m\u001b[38;5;28;01mimport\u001b[39;00m Workbook\n\u001b[32m     59\u001b[39m engine_kwargs = combine_kwargs(engine_kwargs, kwargs)\n\u001b[32m---> \u001b[39m\u001b[32m61\u001b[39m \u001b[38;5;28;43msuper\u001b[39;49m\u001b[43m(\u001b[49m\u001b[43m)\u001b[49m\u001b[43m.\u001b[49m\u001b[34;43m__init__\u001b[39;49m\u001b[43m(\u001b[49m\n\u001b[32m     62\u001b[39m \u001b[43m    \u001b[49m\u001b[43mpath\u001b[49m\u001b[43m,\u001b[49m\n\u001b[32m     63\u001b[39m \u001b[43m    \u001b[49m\u001b[43mmode\u001b[49m\u001b[43m=\u001b[49m\u001b[43mmode\u001b[49m\u001b[43m,\u001b[49m\n\u001b[32m     64\u001b[39m \u001b[43m    \u001b[49m\u001b[43mstorage_options\u001b[49m\u001b[43m=\u001b[49m\u001b[43mstorage_options\u001b[49m\u001b[43m,\u001b[49m\n\u001b[32m     65\u001b[39m \u001b[43m    \u001b[49m\u001b[43mif_sheet_exists\u001b[49m\u001b[43m=\u001b[49m\u001b[43mif_sheet_exists\u001b[49m\u001b[43m,\u001b[49m\n\u001b[32m     66\u001b[39m \u001b[43m    \u001b[49m\u001b[43mengine_kwargs\u001b[49m\u001b[43m=\u001b[49m\u001b[43mengine_kwargs\u001b[49m\u001b[43m,\u001b[49m\n\u001b[32m     67\u001b[39m \u001b[43m\u001b[49m\u001b[43m)\u001b[49m\n\u001b[32m     69\u001b[39m \u001b[38;5;66;03m# ExcelWriter replaced \"a\" by \"r+\" to allow us to first read the excel file from\u001b[39;00m\n\u001b[32m     70\u001b[39m \u001b[38;5;66;03m# the file and later write to it\u001b[39;00m\n\u001b[32m     71\u001b[39m \u001b[38;5;28;01mif\u001b[39;00m \u001b[33m\"\u001b[39m\u001b[33mr+\u001b[39m\u001b[33m\"\u001b[39m \u001b[38;5;129;01min\u001b[39;00m \u001b[38;5;28mself\u001b[39m._mode:  \u001b[38;5;66;03m# Load from existing workbook\u001b[39;00m\n",
      "\u001b[36mFile \u001b[39m\u001b[32mc:\\Users\\marcela.ferreira\\AppData\\Local\\Programs\\Python\\Python313\\Lib\\site-packages\\pandas\\io\\excel\\_base.py:1246\u001b[39m, in \u001b[36mExcelWriter.__init__\u001b[39m\u001b[34m(self, path, engine, date_format, datetime_format, mode, storage_options, if_sheet_exists, engine_kwargs)\u001b[39m\n\u001b[32m   1242\u001b[39m \u001b[38;5;28mself\u001b[39m._handles = IOHandles(\n\u001b[32m   1243\u001b[39m     cast(IO[\u001b[38;5;28mbytes\u001b[39m], path), compression={\u001b[33m\"\u001b[39m\u001b[33mcompression\u001b[39m\u001b[33m\"\u001b[39m: \u001b[38;5;28;01mNone\u001b[39;00m}\n\u001b[32m   1244\u001b[39m )\n\u001b[32m   1245\u001b[39m \u001b[38;5;28;01mif\u001b[39;00m \u001b[38;5;129;01mnot\u001b[39;00m \u001b[38;5;28misinstance\u001b[39m(path, ExcelWriter):\n\u001b[32m-> \u001b[39m\u001b[32m1246\u001b[39m     \u001b[38;5;28mself\u001b[39m._handles = \u001b[43mget_handle\u001b[49m\u001b[43m(\u001b[49m\n\u001b[32m   1247\u001b[39m \u001b[43m        \u001b[49m\u001b[43mpath\u001b[49m\u001b[43m,\u001b[49m\u001b[43m \u001b[49m\u001b[43mmode\u001b[49m\u001b[43m,\u001b[49m\u001b[43m \u001b[49m\u001b[43mstorage_options\u001b[49m\u001b[43m=\u001b[49m\u001b[43mstorage_options\u001b[49m\u001b[43m,\u001b[49m\u001b[43m \u001b[49m\u001b[43mis_text\u001b[49m\u001b[43m=\u001b[49m\u001b[38;5;28;43;01mFalse\u001b[39;49;00m\n\u001b[32m   1248\u001b[39m \u001b[43m    \u001b[49m\u001b[43m)\u001b[49m\n\u001b[32m   1249\u001b[39m \u001b[38;5;28mself\u001b[39m._cur_sheet = \u001b[38;5;28;01mNone\u001b[39;00m\n\u001b[32m   1251\u001b[39m \u001b[38;5;28;01mif\u001b[39;00m date_format \u001b[38;5;129;01mis\u001b[39;00m \u001b[38;5;28;01mNone\u001b[39;00m:\n",
      "\u001b[36mFile \u001b[39m\u001b[32mc:\\Users\\marcela.ferreira\\AppData\\Local\\Programs\\Python\\Python313\\Lib\\site-packages\\pandas\\io\\common.py:882\u001b[39m, in \u001b[36mget_handle\u001b[39m\u001b[34m(path_or_buf, mode, encoding, compression, memory_map, is_text, errors, storage_options)\u001b[39m\n\u001b[32m    873\u001b[39m         handle = \u001b[38;5;28mopen\u001b[39m(\n\u001b[32m    874\u001b[39m             handle,\n\u001b[32m    875\u001b[39m             ioargs.mode,\n\u001b[32m   (...)\u001b[39m\u001b[32m    878\u001b[39m             newline=\u001b[33m\"\u001b[39m\u001b[33m\"\u001b[39m,\n\u001b[32m    879\u001b[39m         )\n\u001b[32m    880\u001b[39m     \u001b[38;5;28;01melse\u001b[39;00m:\n\u001b[32m    881\u001b[39m         \u001b[38;5;66;03m# Binary mode\u001b[39;00m\n\u001b[32m--> \u001b[39m\u001b[32m882\u001b[39m         handle = \u001b[38;5;28;43mopen\u001b[39;49m\u001b[43m(\u001b[49m\u001b[43mhandle\u001b[49m\u001b[43m,\u001b[49m\u001b[43m \u001b[49m\u001b[43mioargs\u001b[49m\u001b[43m.\u001b[49m\u001b[43mmode\u001b[49m\u001b[43m)\u001b[49m\n\u001b[32m    883\u001b[39m     handles.append(handle)\n\u001b[32m    885\u001b[39m \u001b[38;5;66;03m# Convert BytesIO or file objects passed with an encoding\u001b[39;00m\n",
      "\u001b[31mPermissionError\u001b[39m: [Errno 13] Permission denied: 'C:\\\\Users\\\\marcela.ferreira\\\\Downloads\\\\Analise_Saneamento\\\\df_filtrado.xlsx'"
     ]
    }
   ],
   "source": [
    "caminho_arquivo = r\"C:\\Users\\marcela.ferreira\\Downloads\\Analise_Saneamento\\df_filtrado.xlsx\"\n",
    "df_filtrado.to_excel(caminho_arquivo, index=False)"
   ]
  },
  {
   "cell_type": "code",
   "execution_count": null,
   "metadata": {},
   "outputs": [
    {
     "name": "stdout",
     "output_type": "stream",
     "text": [
      "Requirement already satisfied: openpyxl in c:\\users\\marcela.ferreira\\appdata\\local\\programs\\python\\python313\\lib\\site-packages (3.1.5)\n",
      "Requirement already satisfied: et-xmlfile in c:\\users\\marcela.ferreira\\appdata\\local\\programs\\python\\python313\\lib\\site-packages (from openpyxl) (2.0.0)\n",
      "Note: you may need to restart the kernel to use updated packages.\n"
     ]
    }
   ],
   "source": [
    "pip install openpyxl\n",
    "pip install plotly pandas\n"
   ]
  },
  {
   "cell_type": "code",
   "execution_count": null,
   "metadata": {},
   "outputs": [
    {
     "data": {
      "image/png": "[encoded data removed]",
      "text/plain": [
       "<Figure size 1200x600 with 1 Axes>"
      ]
     },
     "metadata": {},
     "output_type": "display_data"
    }
   ],
   "source": [
    "import matplotlib.pyplot as plt\n",
    "\n",
    "# Escolha um índice, por exemplo: 'indice_coleta_esgoto'\n",
    "indice = 'indice_coleta_esgoto'\n",
    "\n",
    "# Agrupa por ano e estado (ou só ano para média nacional)\n",
    "df_plot = df_filtrado.groupby(['ano', 'sigla_uf'])[indice].mean().reset_index()\n",
    "\n",
    "# Cria o gráfico\n",
    "plt.figure(figsize=(12, 6))\n",
    "for estado in df_plot['sigla_uf'].unique():\n",
    "    dados_estado = df_plot[df_plot['sigla_uf'] == estado]\n",
    "    plt.plot(dados_estado['ano'], dados_estado[indice], label=estado)\n",
    "\n",
    "plt.title(f\"Evolução do índice: {indice}\")\n",
    "plt.xlabel(\"Ano\")\n",
    "plt.ylabel(\"Valor do índice\")\n",
    "plt.legend(bbox_to_anchor=(1.05, 1), loc='upper left', ncol=2)\n",
    "plt.grid(True)\n",
    "plt.tight_layout()\n",
    "plt.show()"
   ]
  },
  {
   "cell_type": "code",
   "execution_count": null,
   "metadata": {},
   "outputs": [
    {
     "data": {
      "image/png": "[encoded data removed]",
      "text/plain": [
       "<Figure size 1200x600 with 1 Axes>"
      ]
     },
     "metadata": {},
     "output_type": "display_data"
    }
   ],
   "source": [
    "import matplotlib.pyplot as plt\n",
    "\n",
    "# Escolha um índice'indice_atendimento_total_agua''\n",
    "indice = 'indice_atendimento_total_agua'\n",
    "\n",
    "# Agrupa por ano e estado (ou só ano para média nacional)\n",
    "df_plot = df_filtrado.groupby(['ano', 'sigla_uf'])[indice].mean().reset_index()\n",
    "\n",
    "# Cria o gráfico\n",
    "plt.figure(figsize=(12, 6))\n",
    "for estado in df_plot['sigla_uf'].unique():\n",
    "    dados_estado = df_plot[df_plot['sigla_uf'] == estado]\n",
    "    plt.plot(dados_estado['ano'], dados_estado[indice], label=estado)\n",
    "\n",
    "plt.title(f\"Evolução do índice: {indice}\")\n",
    "plt.xlabel(\"Ano\")\n",
    "plt.ylabel(\"Valor do índice\")\n",
    "plt.legend(bbox_to_anchor=(1.05, 1), loc='upper left', ncol=2)\n",
    "plt.grid(True)\n",
    "plt.tight_layout()\n",
    "plt.show()"
   ]
  },
  {
   "cell_type": "code",
   "execution_count": null,
   "metadata": {},
   "outputs": [
    {
     "data": {
      "image/png": "[encoded data removed]",
      "text/plain": [
       "<Figure size 1200x800 with 2 Axes>"
      ]
     },
     "metadata": {},
     "output_type": "display_data"
    }
   ],
   "source": [
    "import seaborn as sns\n",
    "import matplotlib.pyplot as plt\n",
    "\n",
    "# Escolha o índice\n",
    "indice = 'indice_tratamento_esgoto'\n",
    "\n",
    "# Tabela com média do índice por estado e ano\n",
    "heatmap_data = df_filtrado.pivot_table(\n",
    "    index='sigla_uf', \n",
    "    columns='ano', \n",
    "    values=indice, \n",
    "    aggfunc='mean'\n",
    ")\n",
    "\n",
    "# Plotar o heatmap\n",
    "plt.figure(figsize=(12, 8))\n",
    "sns.heatmap(heatmap_data, annot=True, fmt=\".1f\", cmap=\"YlGnBu\", linewidths=0.5)\n",
    "plt.title(f\"Mapa de calor: {indice}\")\n",
    "plt.ylabel(\"Estado (sigla_uf)\")\n",
    "plt.xlabel(\"Ano\")\n",
    "plt.tight_layout()\n",
    "plt.show()"
   ]
  },
  {
   "cell_type": "code",
   "execution_count": null,
   "metadata": {},
   "outputs": [
    {
     "data": {
      "image/png": "[encoded data removed]",
      "text/plain": [
       "<Figure size 1200x800 with 2 Axes>"
      ]
     },
     "metadata": {},
     "output_type": "display_data"
    }
   ],
   "source": [
    "import seaborn as sns\n",
    "import matplotlib.pyplot as plt\n",
    "\n",
    "# Escolha o índice\n",
    "indice = 'indice_atendimento_total_agua'\n",
    "\n",
    "# Tabela com média do índice por estado e ano\n",
    "heatmap_data = df_filtrado.pivot_table(\n",
    "    index='sigla_uf', \n",
    "    columns='ano', \n",
    "    values=indice, \n",
    "    aggfunc='mean'\n",
    ")\n",
    "\n",
    "# Plotar o heatmap\n",
    "plt.figure(figsize=(12, 8))\n",
    "sns.heatmap(heatmap_data, annot=True, fmt=\".1f\", cmap=\"YlGnBu\", linewidths=0.5)\n",
    "plt.title(f\"Mapa de calor: {indice}\")\n",
    "plt.ylabel(\"Estado (sigla_uf)\")\n",
    "plt.xlabel(\"Ano\")\n",
    "plt.tight_layout()\n",
    "plt.show()"
   ]
  },
  {
   "cell_type": "code",
   "execution_count": null,
   "metadata": {},
   "outputs": [
    {
     "name": "stdout",
     "output_type": "stream",
     "text": [
      "Requirement already satisfied: plotly in c:\\users\\marcela.ferreira\\appdata\\local\\programs\\python\\python313\\lib\\site-packages (6.1.2)\n",
      "Requirement already satisfied: pandas in c:\\users\\marcela.ferreira\\appdata\\local\\programs\\python\\python313\\lib\\site-packages (2.3.0)\n",
      "Requirement already satisfied: narwhals>=1.15.1 in c:\\users\\marcela.ferreira\\appdata\\local\\programs\\python\\python313\\lib\\site-packages (from plotly) (1.42.0)\n",
      "Requirement already satisfied: packaging in c:\\users\\marcela.ferreira\\appdata\\roaming\\python\\python313\\site-packages (from plotly) (25.0)\n",
      "Requirement already satisfied: numpy>=1.26.0 in c:\\users\\marcela.ferreira\\appdata\\local\\programs\\python\\python313\\lib\\site-packages (from pandas) (2.3.0)\n",
      "Requirement already satisfied: python-dateutil>=2.8.2 in c:\\users\\marcela.ferreira\\appdata\\local\\programs\\python\\python313\\lib\\site-packages (from pandas) (2.9.0.post0)\n",
      "Requirement already satisfied: pytz>=2020.1 in c:\\users\\marcela.ferreira\\appdata\\local\\programs\\python\\python313\\lib\\site-packages (from pandas) (2025.2)\n",
      "Requirement already satisfied: tzdata>=2022.7 in c:\\users\\marcela.ferreira\\appdata\\local\\programs\\python\\python313\\lib\\site-packages (from pandas) (2025.2)\n",
      "Requirement already satisfied: six>=1.5 in c:\\users\\marcela.ferreira\\appdata\\local\\programs\\python\\python313\\lib\\site-packages (from python-dateutil>=2.8.2->pandas) (1.17.0)\n",
      "Note: you may need to restart the kernel to use updated packages.\n"
     ]
    }
   ],
   "source": [
    "pip install plotly pandas"
   ]
  },
  {
   "cell_type": "code",
   "execution_count": null,
   "metadata": {},
   "outputs": [
    {
     "data": {
      "application/vnd.plotly.v1+json": {
       "config": {
        "plotlyServerURL": "https://plot.ly"
       },
       "data": [
        {
         "alignmentgroup": "True",
         "hovertemplate": "Serviço=indice_atendimento_total_agua<br>Estado (UF)=%{x}<br>Cobertura (%)=%{y}<extra></extra>",
         "legendgroup": "indice_atendimento_total_agua",
         "marker": {
          "color": "#636efa",
          "pattern": {
           "shape": ""
          }
         },
         "name": "indice_atendimento_total_agua",
         "offsetgroup": "indice_atendimento_total_agua",
         "orientation": "v",
         "showlegend": true,
         "textposition": "auto",
         "type": "bar",
         "x": [
          "AC",
          "AL",
          "AM",
          "AP",
          "BA",
          "CE",
          "DF",
          "ES",
          "GO",
          "MA",
          "MG",
          "MS",
          "MT",
          "PA",
          "PB",
          "PE",
          "PI",
          "PR",
          "RJ",
          "RN",
          "RO",
          "RR",
          "RS",
          "SC",
          "SE",
          "SP",
          "TO"
         ],
         "xaxis": "x",
         "y": {
          "bdata": "lUOLbOcbRkAHV6NZG6pOQI0D91Jbw05Am8QgsHIgO0CdvhPh8hBRQEnERrFvyEdAHVpkO9+/WEDTGqkIwxtQQNwByh2gLFNAG92F1GcLRkCNlTyYlg9RQMpGtCXWNlJAr3dQvFNPU0AE6D1djYlGQNL5MawuIkxA/enb3RfGUUDe5U3/3xdQQAUDD3Jy/1VAracOAs2JU0DaP6YMc8JSQFwtaGGxwENApnnHKTpSSkCOreijyMNRQHlUlin3HVJAgr2c7HkhVECCXRO3LghWQKWs8mRG6lJA",
          "dtype": "f8"
         },
         "yaxis": "y"
        },
        {
         "alignmentgroup": "True",
         "hovertemplate": "Serviço=indice_coleta_esgoto<br>Estado (UF)=%{x}<br>Cobertura (%)=%{y}<extra></extra>",
         "legendgroup": "indice_coleta_esgoto",
         "marker": {
          "color": "#EF553B",
          "pattern": {
           "shape": ""
          }
         },
         "name": "indice_coleta_esgoto",
         "offsetgroup": "indice_coleta_esgoto",
         "orientation": "v",
         "showlegend": true,
         "textposition": "auto",
         "type": "bar",
         "x": [
          "AC",
          "AL",
          "AM",
          "AP",
          "BA",
          "CE",
          "DF",
          "ES",
          "GO",
          "MA",
          "MG",
          "MS",
          "MT",
          "PA",
          "PB",
          "PE",
          "PI",
          "PR",
          "RJ",
          "RN",
          "RO",
          "RR",
          "RS",
          "SC",
          "SE",
          "SP",
          "TO"
         ],
         "xaxis": "x",
         "y": {
          "bdata": "gon+TlbLQUAs2oxu9yBGQCIXYQD1PjhABoGVQ4usNkBAFIHT7vlJQNYUPXujYT5AqvHSTWJQVUA2dEpXZixQQKdPq6vIxVBAIuub3bmmRED6vIMcjGdSQGnW4i+nt0BApSuMqRYVREDVur0Sey88QFCNl24S/E9ALbP6iAYPTUBABLngEkNDQHP5cLz2bE5AAVpyPx6VT0DmqS/KXT5IQJoiJkTDOz1Amn6o6YfSUkDwmhMtrPJAQGiltMs2SURA7XLEOOveR0AkUJS6V1hVQHoxozogY0NA",
          "dtype": "f8"
         },
         "yaxis": "y"
        }
       ],
       "layout": {
        "barmode": "group",
        "legend": {
         "title": {
          "text": "Serviço"
         },
         "tracegroupgap": 0
        },
        "template": {
         "data": {
          "bar": [
           {
            "error_x": {
             "color": "#2a3f5f"
            },
            "error_y": {
             "color": "#2a3f5f"
            },
            "marker": {
             "line": {
              "color": "#E5ECF6",
              "width": 0.5
             },
             "pattern": {
              "fillmode": "overlay",
              "size": 10,
              "solidity": 0.2
             }
            },
            "type": "bar"
           }
          ],
          "barpolar": [
           {
            "marker": {
             "line": {
              "color": "#E5ECF6",
              "width": 0.5
             },
             "pattern": {
              "fillmode": "overlay",
              "size": 10,
              "solidity": 0.2
             }
            },
            "type": "barpolar"
           }
          ],
          "carpet": [
           {
            "aaxis": {
             "endlinecolor": "#2a3f5f",
             "gridcolor": "white",
             "linecolor": "white",
             "minorgridcolor": "white",
             "startlinecolor": "#2a3f5f"
            },
            "baxis": {
             "endlinecolor": "#2a3f5f",
             "gridcolor": "white",
             "linecolor": "white",
             "minorgridcolor": "white",
             "startlinecolor": "#2a3f5f"
            },
            "type": "carpet"
           }
          ],
          "choropleth": [
           {
            "colorbar": {
             "outlinewidth": 0,
             "ticks": ""
            },
            "type": "choropleth"
           }
          ],
          "contour": [
           {
            "colorbar": {
             "outlinewidth": 0,
             "ticks": ""
            },
            "colorscale": [
             [
              0,
              "#0d0887"
             ],
             [
              0.1111111111111111,
              "#46039f"
             ],
             [
              0.2222222222222222,
              "#7201a8"
             ],
             [
              0.3333333333333333,
              "#9c179e"
             ],
             [
              0.4444444444444444,
              "#bd3786"
             ],
             [
              0.5555555555555556,
              "#d8576b"
             ],
             [
              0.6666666666666666,
              "#ed7953"
             ],
             [
              0.7777777777777778,
              "#fb9f3a"
             ],
             [
              0.8888888888888888,
              "#fdca26"
             ],
             [
              1,
              "#f0f921"
             ]
            ],
            "type": "contour"
           }
          ],
          "contourcarpet": [
           {
            "colorbar": {
             "outlinewidth": 0,
             "ticks": ""
            },
            "type": "contourcarpet"
           }
          ],
          "heatmap": [
           {
            "colorbar": {
             "outlinewidth": 0,
             "ticks": ""
            },
            "colorscale": [
             [
              0,
              "#0d0887"
             ],
             [
              0.1111111111111111,
              "#46039f"
             ],
             [
              0.2222222222222222,
              "#7201a8"
             ],
             [
              0.3333333333333333,
              "#9c179e"
             ],
             [
              0.4444444444444444,
              "#bd3786"
             ],
             [
              0.5555555555555556,
              "#d8576b"
             ],
             [
              0.6666666666666666,
              "#ed7953"
             ],
             [
              0.7777777777777778,
              "#fb9f3a"
             ],
             [
              0.8888888888888888,
              "#fdca26"
             ],
             [
              1,
              "#f0f921"
             ]
            ],
            "type": "heatmap"
           }
          ],
          "histogram": [
           {
            "marker": {
             "pattern": {
              "fillmode": "overlay",
              "size": 10,
              "solidity": 0.2
             }
            },
            "type": "histogram"
           }
          ],
          "histogram2d": [
           {
            "colorbar": {
             "outlinewidth": 0,
             "ticks": ""
            },
            "colorscale": [
             [
              0,
              "#0d0887"
             ],
             [
              0.1111111111111111,
              "#46039f"
             ],
             [
              0.2222222222222222,
              "#7201a8"
             ],
             [
              0.3333333333333333,
              "#9c179e"
             ],
             [
              0.4444444444444444,
              "#bd3786"
             ],
             [
              0.5555555555555556,
              "#d8576b"
             ],
             [
              0.6666666666666666,
              "#ed7953"
             ],
             [
              0.7777777777777778,
              "#fb9f3a"
             ],
             [
              0.8888888888888888,
              "#fdca26"
             ],
             [
              1,
              "#f0f921"
             ]
            ],
            "type": "histogram2d"
           }
          ],
          "histogram2dcontour": [
           {
            "colorbar": {
             "outlinewidth": 0,
             "ticks": ""
            },
            "colorscale": [
             [
              0,
              "#0d0887"
             ],
             [
              0.1111111111111111,
              "#46039f"
             ],
             [
              0.2222222222222222,
              "#7201a8"
             ],
             [
              0.3333333333333333,
              "#9c179e"
             ],
             [
              0.4444444444444444,
              "#bd3786"
             ],
             [
              0.5555555555555556,
              "#d8576b"
             ],
             [
              0.6666666666666666,
              "#ed7953"
             ],
             [
              0.7777777777777778,
              "#fb9f3a"
             ],
             [
              0.8888888888888888,
              "#fdca26"
             ],
             [
              1,
              "#f0f921"
             ]
            ],
            "type": "histogram2dcontour"
           }
          ],
          "mesh3d": [
           {
            "colorbar": {
             "outlinewidth": 0,
             "ticks": ""
            },
            "type": "mesh3d"
           }
          ],
          "parcoords": [
           {
            "line": {
             "colorbar": {
              "outlinewidth": 0,
              "ticks": ""
             }
            },
            "type": "parcoords"
           }
          ],
          "pie": [
           {
            "automargin": true,
            "type": "pie"
           }
          ],
          "scatter": [
           {
            "fillpattern": {
             "fillmode": "overlay",
             "size": 10,
             "solidity": 0.2
            },
            "type": "scatter"
           }
          ],
          "scatter3d": [
           {
            "line": {
             "colorbar": {
              "outlinewidth": 0,
              "ticks": ""
             }
            },
            "marker": {
             "colorbar": {
              "outlinewidth": 0,
              "ticks": ""
             }
            },
            "type": "scatter3d"
           }
          ],
          "scattercarpet": [
           {
            "marker": {
             "colorbar": {
              "outlinewidth": 0,
              "ticks": ""
             }
            },
            "type": "scattercarpet"
           }
          ],
          "scattergeo": [
           {
            "marker": {
             "colorbar": {
              "outlinewidth": 0,
              "ticks": ""
             }
            },
            "type": "scattergeo"
           }
          ],
          "scattergl": [
           {
            "marker": {
             "colorbar": {
              "outlinewidth": 0,
              "ticks": ""
             }
            },
            "type": "scattergl"
           }
          ],
          "scattermap": [
           {
            "marker": {
             "colorbar": {
              "outlinewidth": 0,
              "ticks": ""
             }
            },
            "type": "scattermap"
           }
          ],
          "scattermapbox": [
           {
            "marker": {
             "colorbar": {
              "outlinewidth": 0,
              "ticks": ""
             }
            },
            "type": "scattermapbox"
           }
          ],
          "scatterpolar": [
           {
            "marker": {
             "colorbar": {
              "outlinewidth": 0,
              "ticks": ""
             }
            },
            "type": "scatterpolar"
           }
          ],
          "scatterpolargl": [
           {
            "marker": {
             "colorbar": {
              "outlinewidth": 0,
              "ticks": ""
             }
            },
            "type": "scatterpolargl"
           }
          ],
          "scatterternary": [
           {
            "marker": {
             "colorbar": {
              "outlinewidth": 0,
              "ticks": ""
             }
            },
            "type": "scatterternary"
           }
          ],
          "surface": [
           {
            "colorbar": {
             "outlinewidth": 0,
             "ticks": ""
            },
            "colorscale": [
             [
              0,
              "#0d0887"
             ],
             [
              0.1111111111111111,
              "#46039f"
             ],
             [
              0.2222222222222222,
              "#7201a8"
             ],
             [
              0.3333333333333333,
              "#9c179e"
             ],
             [
              0.4444444444444444,
              "#bd3786"
             ],
             [
              0.5555555555555556,
              "#d8576b"
             ],
             [
              0.6666666666666666,
              "#ed7953"
             ],
             [
              0.7777777777777778,
              "#fb9f3a"
             ],
             [
              0.8888888888888888,
              "#fdca26"
             ],
             [
              1,
              "#f0f921"
             ]
            ],
            "type": "surface"
           }
          ],
          "table": [
           {
            "cells": {
             "fill": {
              "color": "#EBF0F8"
             },
             "line": {
              "color": "white"
             }
            },
            "header": {
             "fill": {
              "color": "#C8D4E3"
             },
             "line": {
              "color": "white"
             }
            },
            "type": "table"
           }
          ]
         },
         "layout": {
          "annotationdefaults": {
           "arrowcolor": "#2a3f5f",
           "arrowhead": 0,
           "arrowwidth": 1
          },
          "autotypenumbers": "strict",
          "coloraxis": {
           "colorbar": {
            "outlinewidth": 0,
            "ticks": ""
           }
          },
          "colorscale": {
           "diverging": [
            [
             0,
             "#8e0152"
            ],
            [
             0.1,
             "#c51b7d"
            ],
            [
             0.2,
             "#de77ae"
            ],
            [
             0.3,
             "#f1b6da"
            ],
            [
             0.4,
             "#fde0ef"
            ],
            [
             0.5,
             "#f7f7f7"
            ],
            [
             0.6,
             "#e6f5d0"
            ],
            [
             0.7,
             "#b8e186"
            ],
            [
             0.8,
             "#7fbc41"
            ],
            [
             0.9,
             "#4d9221"
            ],
            [
             1,
             "#276419"
            ]
           ],
           "sequential": [
            [
             0,
             "#0d0887"
            ],
            [
             0.1111111111111111,
             "#46039f"
            ],
            [
             0.2222222222222222,
             "#7201a8"
            ],
            [
             0.3333333333333333,
             "#9c179e"
            ],
            [
             0.4444444444444444,
             "#bd3786"
            ],
            [
             0.5555555555555556,
             "#d8576b"
            ],
            [
             0.6666666666666666,
             "#ed7953"
            ],
            [
             0.7777777777777778,
             "#fb9f3a"
            ],
            [
             0.8888888888888888,
             "#fdca26"
            ],
            [
             1,
             "#f0f921"
            ]
           ],
           "sequentialminus": [
            [
             0,
             "#0d0887"
            ],
            [
             0.1111111111111111,
             "#46039f"
            ],
            [
             0.2222222222222222,
             "#7201a8"
            ],
            [
             0.3333333333333333,
             "#9c179e"
            ],
            [
             0.4444444444444444,
             "#bd3786"
            ],
            [
             0.5555555555555556,
             "#d8576b"
            ],
            [
             0.6666666666666666,
             "#ed7953"
            ],
            [
             0.7777777777777778,
             "#fb9f3a"
            ],
            [
             0.8888888888888888,
             "#fdca26"
            ],
            [
             1,
             "#f0f921"
            ]
           ]
          },
          "colorway": [
           "#636efa",
           "#EF553B",
           "#00cc96",
           "#ab63fa",
           "#FFA15A",
           "#19d3f3",
           "#FF6692",
           "#B6E880",
           "#FF97FF",
           "#FECB52"
          ],
          "font": {
           "color": "#2a3f5f"
          },
          "geo": {
           "bgcolor": "white",
           "lakecolor": "white",
           "landcolor": "#E5ECF6",
           "showlakes": true,
           "showland": true,
           "subunitcolor": "white"
          },
          "hoverlabel": {
           "align": "left"
          },
          "hovermode": "closest",
          "mapbox": {
           "style": "light"
          },
          "paper_bgcolor": "white",
          "plot_bgcolor": "#E5ECF6",
          "polar": {
           "angularaxis": {
            "gridcolor": "white",
            "linecolor": "white",
            "ticks": ""
           },
           "bgcolor": "#E5ECF6",
           "radialaxis": {
            "gridcolor": "white",
            "linecolor": "white",
            "ticks": ""
           }
          },
          "scene": {
           "xaxis": {
            "backgroundcolor": "#E5ECF6",
            "gridcolor": "white",
            "gridwidth": 2,
            "linecolor": "white",
            "showbackground": true,
            "ticks": "",
            "zerolinecolor": "white"
           },
           "yaxis": {
            "backgroundcolor": "#E5ECF6",
            "gridcolor": "white",
            "gridwidth": 2,
            "linecolor": "white",
            "showbackground": true,
            "ticks": "",
            "zerolinecolor": "white"
           },
           "zaxis": {
            "backgroundcolor": "#E5ECF6",
            "gridcolor": "white",
            "gridwidth": 2,
            "linecolor": "white",
            "showbackground": true,
            "ticks": "",
            "zerolinecolor": "white"
           }
          },
          "shapedefaults": {
           "line": {
            "color": "#2a3f5f"
           }
          },
          "ternary": {
           "aaxis": {
            "gridcolor": "white",
            "linecolor": "white",
            "ticks": ""
           },
           "baxis": {
            "gridcolor": "white",
            "linecolor": "white",
            "ticks": ""
           },
           "bgcolor": "#E5ECF6",
           "caxis": {
            "gridcolor": "white",
            "linecolor": "white",
            "ticks": ""
           }
          },
          "title": {
           "x": 0.05
          },
          "xaxis": {
           "automargin": true,
           "gridcolor": "white",
           "linecolor": "white",
           "ticks": "",
           "title": {
            "standoff": 15
           },
           "zerolinecolor": "white",
           "zerolinewidth": 2
          },
          "yaxis": {
           "automargin": true,
           "gridcolor": "white",
           "linecolor": "white",
           "ticks": "",
           "title": {
            "standoff": 15
           },
           "zerolinecolor": "white",
           "zerolinewidth": 2
          }
         }
        },
        "title": {
         "text": "Cobertura média de Água Potável e Esgoto por Estado (últimos 5 anos)"
        },
        "xaxis": {
         "anchor": "y",
         "categoryorder": "total descending",
         "domain": [
          0,
          1
         ],
         "title": {
          "text": "Estado (UF)"
         }
        },
        "yaxis": {
         "anchor": "x",
         "domain": [
          0,
          1
         ],
         "title": {
          "text": "Cobertura (%)"
         }
        }
       }
      }
     },
     "metadata": {},
     "output_type": "display_data"
    }
   ],
   "source": [
    "import pandas as pd\n",
    "import plotly.express as px\n",
    "\n",
    "# Filtra apenas os últimos 5 anos disponíveis\n",
    "anos_recentes = df_filtrado['ano'].sort_values(ascending=False).unique()[:5]\n",
    "df_ultimos_5_anos = df_filtrado[df_filtrado['ano'].isin(anos_recentes)]\n",
    "\n",
    "# Agrupa por estado, tira média dos índices\n",
    "df_medio = df_ultimos_5_anos.groupby('sigla_uf')[\n",
    "    ['indice_atendimento_total_agua', 'indice_coleta_esgoto']\n",
    "].mean().reset_index()\n",
    "\n",
    "# Renomeia para facilitar o gráfico\n",
    "df_melt = df_medio.melt(id_vars='sigla_uf', var_name='Serviço', value_name='Cobertura (%)')\n",
    "\n",
    "# Gráfico de barras agrupadas\n",
    "fig = px.bar(\n",
    "    df_melt,\n",
    "    x='sigla_uf',\n",
    "    y='Cobertura (%)',\n",
    "    color='Serviço',\n",
    "    barmode='group',\n",
    "    title='Cobertura média de Água Potável e Esgoto por Estado (últimos 5 anos)',\n",
    "    labels={'sigla_uf': 'Estado (UF)'}\n",
    ")\n",
    "\n",
    "fig.update_layout(xaxis={'categoryorder': 'total descending'})\n",
    "fig.show()\n"
   ]
  },
  {
   "cell_type": "code",
   "execution_count": null,
   "metadata": {},
   "outputs": [
    {
     "name": "stderr",
     "output_type": "stream",
     "text": [
      "C:\\Users\\marcela.ferreira\\AppData\\Local\\Temp\\ipykernel_22448\\3455862969.py:12: SettingWithCopyWarning:\n",
      "\n",
      "\n",
      "A value is trying to be set on a copy of a slice from a DataFrame.\n",
      "Try using .loc[row_indexer,col_indexer] = value instead\n",
      "\n",
      "See the caveats in the documentation: https://pandas.pydata.org/pandas-docs/stable/user_guide/indexing.html#returning-a-view-versus-a-copy\n",
      "\n"
     ]
    }
   ],
   "source": [
    "# Dicionário UF → Região\n",
    "uf_regiao = {\n",
    "    'AC': 'Norte', 'AL': 'Nordeste', 'AP': 'Norte', 'AM': 'Norte', 'BA': 'Nordeste',\n",
    "    'CE': 'Nordeste', 'DF': 'Centro-Oeste', 'ES': 'Sudeste', 'GO': 'Centro-Oeste',\n",
    "    'MA': 'Nordeste', 'MT': 'Centro-Oeste', 'MS': 'Centro-Oeste', 'MG': 'Sudeste',\n",
    "    'PA': 'Norte', 'PB': 'Nordeste', 'PR': 'Sul', 'PE': 'Nordeste', 'PI': 'Nordeste',\n",
    "    'RJ': 'Sudeste', 'RN': 'Nordeste', 'RS': 'Sul', 'RO': 'Norte', 'RR': 'Norte',\n",
    "    'SC': 'Sul', 'SP': 'Sudeste', 'SE': 'Nordeste', 'TO': 'Norte'\n",
    "}\n",
    "\n",
    "# Cria nova coluna com a região\n",
    "df_filtrado['regiao'] = df_filtrado['sigla_uf'].map(uf_regiao)\n"
   ]
  },
  {
   "cell_type": "code",
   "execution_count": null,
   "metadata": {},
   "outputs": [
    {
     "data": {
      "application/vnd.plotly.v1+json": {
       "config": {
        "plotlyServerURL": "https://plot.ly"
       },
       "data": [
        {
         "alignmentgroup": "True",
         "hovertemplate": "Serviço=indice_atendimento_total_agua<br>Região=%{x}<br>Cobertura (%)=%{y}<extra></extra>",
         "legendgroup": "indice_atendimento_total_agua",
         "marker": {
          "color": "#636efa",
          "pattern": {
           "shape": ""
          }
         },
         "name": "indice_atendimento_total_agua",
         "offsetgroup": "indice_atendimento_total_agua",
         "orientation": "v",
         "showlegend": true,
         "textposition": "auto",
         "type": "bar",
         "x": [
          "Centro-Oeste",
          "Nordeste",
          "Norte",
          "Sudeste",
          "Sul"
         ],
         "xaxis": "x",
         "y": {
          "bdata": "Z4tZmb4MU0AhbjgPtFBPQAUsHGU5JExAbolUVoUWU0CMxcn1KkxTQA==",
          "dtype": "f8"
         },
         "yaxis": "y"
        },
        {
         "alignmentgroup": "True",
         "hovertemplate": "Serviço=indice_coleta_esgoto<br>Região=%{x}<br>Cobertura (%)=%{y}<extra></extra>",
         "legendgroup": "indice_coleta_esgoto",
         "marker": {
          "color": "#EF553B",
          "pattern": {
           "shape": ""
          }
         },
         "name": "indice_coleta_esgoto",
         "offsetgroup": "indice_coleta_esgoto",
         "orientation": "v",
         "showlegend": true,
         "textposition": "auto",
         "type": "bar",
         "x": [
          "Centro-Oeste",
          "Nordeste",
          "Norte",
          "Sudeste",
          "Sul"
         ],
         "xaxis": "x",
         "y": {
          "bdata": "FZLlLH5RSUBSbblKGi9IQI/C9Shc10BAe2JahLF1U0BcEhZgNcJIQA==",
          "dtype": "f8"
         },
         "yaxis": "y"
        }
       ],
       "layout": {
        "barmode": "group",
        "legend": {
         "title": {
          "text": "Serviço"
         },
         "tracegroupgap": 0
        },
        "template": {
         "data": {
          "bar": [
           {
            "error_x": {
             "color": "#2a3f5f"
            },
            "error_y": {
             "color": "#2a3f5f"
            },
            "marker": {
             "line": {
              "color": "#E5ECF6",
              "width": 0.5
             },
             "pattern": {
              "fillmode": "overlay",
              "size": 10,
              "solidity": 0.2
             }
            },
            "type": "bar"
           }
          ],
          "barpolar": [
           {
            "marker": {
             "line": {
              "color": "#E5ECF6",
              "width": 0.5
             },
             "pattern": {
              "fillmode": "overlay",
              "size": 10,
              "solidity": 0.2
             }
            },
            "type": "barpolar"
           }
          ],
          "carpet": [
           {
            "aaxis": {
             "endlinecolor": "#2a3f5f",
             "gridcolor": "white",
             "linecolor": "white",
             "minorgridcolor": "white",
             "startlinecolor": "#2a3f5f"
            },
            "baxis": {
             "endlinecolor": "#2a3f5f",
             "gridcolor": "white",
             "linecolor": "white",
             "minorgridcolor": "white",
             "startlinecolor": "#2a3f5f"
            },
            "type": "carpet"
           }
          ],
          "choropleth": [
           {
            "colorbar": {
             "outlinewidth": 0,
             "ticks": ""
            },
            "type": "choropleth"
           }
          ],
          "contour": [
           {
            "colorbar": {
             "outlinewidth": 0,
             "ticks": ""
            },
            "colorscale": [
             [
              0,
              "#0d0887"
             ],
             [
              0.1111111111111111,
              "#46039f"
             ],
             [
              0.2222222222222222,
              "#7201a8"
             ],
             [
              0.3333333333333333,
              "#9c179e"
             ],
             [
              0.4444444444444444,
              "#bd3786"
             ],
             [
              0.5555555555555556,
              "#d8576b"
             ],
             [
              0.6666666666666666,
              "#ed7953"
             ],
             [
              0.7777777777777778,
              "#fb9f3a"
             ],
             [
              0.8888888888888888,
              "#fdca26"
             ],
             [
              1,
              "#f0f921"
             ]
            ],
            "type": "contour"
           }
          ],
          "contourcarpet": [
           {
            "colorbar": {
             "outlinewidth": 0,
             "ticks": ""
            },
            "type": "contourcarpet"
           }
          ],
          "heatmap": [
           {
            "colorbar": {
             "outlinewidth": 0,
             "ticks": ""
            },
            "colorscale": [
             [
              0,
              "#0d0887"
             ],
             [
              0.1111111111111111,
              "#46039f"
             ],
             [
              0.2222222222222222,
              "#7201a8"
             ],
             [
              0.3333333333333333,
              "#9c179e"
             ],
             [
              0.4444444444444444,
              "#bd3786"
             ],
             [
              0.5555555555555556,
              "#d8576b"
             ],
             [
              0.6666666666666666,
              "#ed7953"
             ],
             [
              0.7777777777777778,
              "#fb9f3a"
             ],
             [
              0.8888888888888888,
              "#fdca26"
             ],
             [
              1,
              "#f0f921"
             ]
            ],
            "type": "heatmap"
           }
          ],
          "histogram": [
           {
            "marker": {
             "pattern": {
              "fillmode": "overlay",
              "size": 10,
              "solidity": 0.2
             }
            },
            "type": "histogram"
           }
          ],
          "histogram2d": [
           {
            "colorbar": {
             "outlinewidth": 0,
             "ticks": ""
            },
            "colorscale": [
             [
              0,
              "#0d0887"
             ],
             [
              0.1111111111111111,
              "#46039f"
             ],
             [
              0.2222222222222222,
              "#7201a8"
             ],
             [
              0.3333333333333333,
              "#9c179e"
             ],
             [
              0.4444444444444444,
              "#bd3786"
             ],
             [
              0.5555555555555556,
              "#d8576b"
             ],
             [
              0.6666666666666666,
              "#ed7953"
             ],
             [
              0.7777777777777778,
              "#fb9f3a"
             ],
             [
              0.8888888888888888,
              "#fdca26"
             ],
             [
              1,
              "#f0f921"
             ]
            ],
            "type": "histogram2d"
           }
          ],
          "histogram2dcontour": [
           {
            "colorbar": {
             "outlinewidth": 0,
             "ticks": ""
            },
            "colorscale": [
             [
              0,
              "#0d0887"
             ],
             [
              0.1111111111111111,
              "#46039f"
             ],
             [
              0.2222222222222222,
              "#7201a8"
             ],
             [
              0.3333333333333333,
              "#9c179e"
             ],
             [
              0.4444444444444444,
              "#bd3786"
             ],
             [
              0.5555555555555556,
              "#d8576b"
             ],
             [
              0.6666666666666666,
              "#ed7953"
             ],
             [
              0.7777777777777778,
              "#fb9f3a"
             ],
             [
              0.8888888888888888,
              "#fdca26"
             ],
             [
              1,
              "#f0f921"
             ]
            ],
            "type": "histogram2dcontour"
           }
          ],
          "mesh3d": [
           {
            "colorbar": {
             "outlinewidth": 0,
             "ticks": ""
            },
            "type": "mesh3d"
           }
          ],
          "parcoords": [
           {
            "line": {
             "colorbar": {
              "outlinewidth": 0,
              "ticks": ""
             }
            },
            "type": "parcoords"
           }
          ],
          "pie": [
           {
            "automargin": true,
            "type": "pie"
           }
          ],
          "scatter": [
           {
            "fillpattern": {
             "fillmode": "overlay",
             "size": 10,
             "solidity": 0.2
            },
            "type": "scatter"
           }
          ],
          "scatter3d": [
           {
            "line": {
             "colorbar": {
              "outlinewidth": 0,
              "ticks": ""
             }
            },
            "marker": {
             "colorbar": {
              "outlinewidth": 0,
              "ticks": ""
             }
            },
            "type": "scatter3d"
           }
          ],
          "scattercarpet": [
           {
            "marker": {
             "colorbar": {
              "outlinewidth": 0,
              "ticks": ""
             }
            },
            "type": "scattercarpet"
           }
          ],
          "scattergeo": [
           {
            "marker": {
             "colorbar": {
              "outlinewidth": 0,
              "ticks": ""
             }
            },
            "type": "scattergeo"
           }
          ],
          "scattergl": [
           {
            "marker": {
             "colorbar": {
              "outlinewidth": 0,
              "ticks": ""
             }
            },
            "type": "scattergl"
           }
          ],
          "scattermap": [
           {
            "marker": {
             "colorbar": {
              "outlinewidth": 0,
              "ticks": ""
             }
            },
            "type": "scattermap"
           }
          ],
          "scattermapbox": [
           {
            "marker": {
             "colorbar": {
              "outlinewidth": 0,
              "ticks": ""
             }
            },
            "type": "scattermapbox"
           }
          ],
          "scatterpolar": [
           {
            "marker": {
             "colorbar": {
              "outlinewidth": 0,
              "ticks": ""
             }
            },
            "type": "scatterpolar"
           }
          ],
          "scatterpolargl": [
           {
            "marker": {
             "colorbar": {
              "outlinewidth": 0,
              "ticks": ""
             }
            },
            "type": "scatterpolargl"
           }
          ],
          "scatterternary": [
           {
            "marker": {
             "colorbar": {
              "outlinewidth": 0,
              "ticks": ""
             }
            },
            "type": "scatterternary"
           }
          ],
          "surface": [
           {
            "colorbar": {
             "outlinewidth": 0,
             "ticks": ""
            },
            "colorscale": [
             [
              0,
              "#0d0887"
             ],
             [
              0.1111111111111111,
              "#46039f"
             ],
             [
              0.2222222222222222,
              "#7201a8"
             ],
             [
              0.3333333333333333,
              "#9c179e"
             ],
             [
              0.4444444444444444,
              "#bd3786"
             ],
             [
              0.5555555555555556,
              "#d8576b"
             ],
             [
              0.6666666666666666,
              "#ed7953"
             ],
             [
              0.7777777777777778,
              "#fb9f3a"
             ],
             [
              0.8888888888888888,
              "#fdca26"
             ],
             [
              1,
              "#f0f921"
             ]
            ],
            "type": "surface"
           }
          ],
          "table": [
           {
            "cells": {
             "fill": {
              "color": "#EBF0F8"
             },
             "line": {
              "color": "white"
             }
            },
            "header": {
             "fill": {
              "color": "#C8D4E3"
             },
             "line": {
              "color": "white"
             }
            },
            "type": "table"
           }
          ]
         },
         "layout": {
          "annotationdefaults": {
           "arrowcolor": "#2a3f5f",
           "arrowhead": 0,
           "arrowwidth": 1
          },
          "autotypenumbers": "strict",
          "coloraxis": {
           "colorbar": {
            "outlinewidth": 0,
            "ticks": ""
           }
          },
          "colorscale": {
           "diverging": [
            [
             0,
             "#8e0152"
            ],
            [
             0.1,
             "#c51b7d"
            ],
            [
             0.2,
             "#de77ae"
            ],
            [
             0.3,
             "#f1b6da"
            ],
            [
             0.4,
             "#fde0ef"
            ],
            [
             0.5,
             "#f7f7f7"
            ],
            [
             0.6,
             "#e6f5d0"
            ],
            [
             0.7,
             "#b8e186"
            ],
            [
             0.8,
             "#7fbc41"
            ],
            [
             0.9,
             "#4d9221"
            ],
            [
             1,
             "#276419"
            ]
           ],
           "sequential": [
            [
             0,
             "#0d0887"
            ],
            [
             0.1111111111111111,
             "#46039f"
            ],
            [
             0.2222222222222222,
             "#7201a8"
            ],
            [
             0.3333333333333333,
             "#9c179e"
            ],
            [
             0.4444444444444444,
             "#bd3786"
            ],
            [
             0.5555555555555556,
             "#d8576b"
            ],
            [
             0.6666666666666666,
             "#ed7953"
            ],
            [
             0.7777777777777778,
             "#fb9f3a"
            ],
            [
             0.8888888888888888,
             "#fdca26"
            ],
            [
             1,
             "#f0f921"
            ]
           ],
           "sequentialminus": [
            [
             0,
             "#0d0887"
            ],
            [
             0.1111111111111111,
             "#46039f"
            ],
            [
             0.2222222222222222,
             "#7201a8"
            ],
            [
             0.3333333333333333,
             "#9c179e"
            ],
            [
             0.4444444444444444,
             "#bd3786"
            ],
            [
             0.5555555555555556,
             "#d8576b"
            ],
            [
             0.6666666666666666,
             "#ed7953"
            ],
            [
             0.7777777777777778,
             "#fb9f3a"
            ],
            [
             0.8888888888888888,
             "#fdca26"
            ],
            [
             1,
             "#f0f921"
            ]
           ]
          },
          "colorway": [
           "#636efa",
           "#EF553B",
           "#00cc96",
           "#ab63fa",
           "#FFA15A",
           "#19d3f3",
           "#FF6692",
           "#B6E880",
           "#FF97FF",
           "#FECB52"
          ],
          "font": {
           "color": "#2a3f5f"
          },
          "geo": {
           "bgcolor": "white",
           "lakecolor": "white",
           "landcolor": "#E5ECF6",
           "showlakes": true,
           "showland": true,
           "subunitcolor": "white"
          },
          "hoverlabel": {
           "align": "left"
          },
          "hovermode": "closest",
          "mapbox": {
           "style": "light"
          },
          "paper_bgcolor": "white",
          "plot_bgcolor": "#E5ECF6",
          "polar": {
           "angularaxis": {
            "gridcolor": "white",
            "linecolor": "white",
            "ticks": ""
           },
           "bgcolor": "#E5ECF6",
           "radialaxis": {
            "gridcolor": "white",
            "linecolor": "white",
            "ticks": ""
           }
          },
          "scene": {
           "xaxis": {
            "backgroundcolor": "#E5ECF6",
            "gridcolor": "white",
            "gridwidth": 2,
            "linecolor": "white",
            "showbackground": true,
            "ticks": "",
            "zerolinecolor": "white"
           },
           "yaxis": {
            "backgroundcolor": "#E5ECF6",
            "gridcolor": "white",
            "gridwidth": 2,
            "linecolor": "white",
            "showbackground": true,
            "ticks": "",
            "zerolinecolor": "white"
           },
           "zaxis": {
            "backgroundcolor": "#E5ECF6",
            "gridcolor": "white",
            "gridwidth": 2,
            "linecolor": "white",
            "showbackground": true,
            "ticks": "",
            "zerolinecolor": "white"
           }
          },
          "shapedefaults": {
           "line": {
            "color": "#2a3f5f"
           }
          },
          "ternary": {
           "aaxis": {
            "gridcolor": "white",
            "linecolor": "white",
            "ticks": ""
           },
           "baxis": {
            "gridcolor": "white",
            "linecolor": "white",
            "ticks": ""
           },
           "bgcolor": "#E5ECF6",
           "caxis": {
            "gridcolor": "white",
            "linecolor": "white",
            "ticks": ""
           }
          },
          "title": {
           "x": 0.05
          },
          "xaxis": {
           "automargin": true,
           "gridcolor": "white",
           "linecolor": "white",
           "ticks": "",
           "title": {
            "standoff": 15
           },
           "zerolinecolor": "white",
           "zerolinewidth": 2
          },
          "yaxis": {
           "automargin": true,
           "gridcolor": "white",
           "linecolor": "white",
           "ticks": "",
           "title": {
            "standoff": 15
           },
           "zerolinecolor": "white",
           "zerolinewidth": 2
          }
         }
        },
        "title": {
         "text": "Cobertura média de Água Potável e Esgoto por Região (últimos 5 anos)"
        },
        "xaxis": {
         "anchor": "y",
         "categoryorder": "total descending",
         "domain": [
          0,
          1
         ],
         "title": {
          "text": "Região"
         }
        },
        "yaxis": {
         "anchor": "x",
         "domain": [
          0,
          1
         ],
         "title": {
          "text": "Cobertura (%)"
         }
        }
       }
      }
     },
     "metadata": {},
     "output_type": "display_data"
    }
   ],
   "source": [
    "anos_recentes = df_filtrado['ano'].sort_values(ascending=False).unique()[:5]\n",
    "df_ultimos = df_filtrado[df_filtrado['ano'].isin(anos_recentes)]\n",
    "\n",
    "df_regiao = df_ultimos.groupby('regiao')[\n",
    "    ['indice_atendimento_total_agua', 'indice_coleta_esgoto']\n",
    "].mean().reset_index()\n",
    "\n",
    "df_melt_regiao = df_regiao.melt(id_vars='regiao', var_name='Serviço', value_name='Cobertura (%)')\n",
    "\n",
    "fig = px.bar(\n",
    "    df_melt_regiao,\n",
    "    x='regiao',\n",
    "    y='Cobertura (%)',\n",
    "    color='Serviço',\n",
    "    barmode='group',\n",
    "    title='Cobertura média de Água Potável e Esgoto por Região (últimos 5 anos)',\n",
    "    labels={'regiao': 'Região'}\n",
    ")\n",
    "\n",
    "fig.update_layout(xaxis={'categoryorder': 'total descending'})\n",
    "fig.show()\n"
   ]
  },
  {
   "cell_type": "code",
   "execution_count": null,
   "metadata": {},
   "outputs": [
    {
     "data": {
      "application/vnd.plotly.v1+json": {
       "config": {
        "plotlyServerURL": "https://plot.ly"
       },
       "data": [
        {
         "hovertemplate": "Região=Centro-Oeste<br>Serviço=indice_atendimento_total_agua<br>Ano=%{x}<br>Cobertura (%)=%{y}<extra></extra>",
         "legendgroup": "Centro-Oeste, indice_atendimento_total_agua",
         "line": {
          "color": "#636efa",
          "dash": "solid"
         },
         "marker": {
          "symbol": "circle"
         },
         "mode": "lines+markers",
         "name": "Centro-Oeste, indice_atendimento_total_agua",
         "orientation": "v",
         "showlegend": true,
         "type": "scatter",
         "x": {
          "bdata": "4gfjB+QH5QfmBw==",
          "dtype": "i2"
         },
         "xaxis": "x",
         "y": {
          "bdata": "8wkatf+yUkChfGi1khNTQLQspjmWL1NA2NB52XQbU0DZU5k9lSlTQA==",
          "dtype": "f8"
         },
         "yaxis": "y"
        },
        {
         "hovertemplate": "Região=Centro-Oeste<br>Serviço=indice_coleta_esgoto<br>Ano=%{x}<br>Cobertura (%)=%{y}<extra></extra>",
         "legendgroup": "Centro-Oeste, indice_coleta_esgoto",
         "line": {
          "color": "#636efa",
          "dash": "dot"
         },
         "marker": {
          "symbol": "circle"
         },
         "mode": "lines+markers",
         "name": "Centro-Oeste, indice_coleta_esgoto",
         "orientation": "v",
         "showlegend": true,
         "type": "scatter",
         "x": {
          "bdata": "4gfjB+QH5QfmBw==",
          "dtype": "i2"
         },
         "xaxis": "x",
         "y": {
          "bdata": "5NELOuCYSEDOPnyGXUFJQMC1bnmBJ0hA8tE/j6RTSUAE+pWI5SdLQA==",
          "dtype": "f8"
         },
         "yaxis": "y"
        },
        {
         "hovertemplate": "Região=Nordeste<br>Serviço=indice_atendimento_total_agua<br>Ano=%{x}<br>Cobertura (%)=%{y}<extra></extra>",
         "legendgroup": "Nordeste, indice_atendimento_total_agua",
         "line": {
          "color": "#EF553B",
          "dash": "solid"
         },
         "marker": {
          "symbol": "circle"
         },
         "mode": "lines+markers",
         "name": "Nordeste, indice_atendimento_total_agua",
         "orientation": "v",
         "showlegend": true,
         "type": "scatter",
         "x": {
          "bdata": "4gfjB+QH5QfmBw==",
          "dtype": "i2"
         },
         "xaxis": "x",
         "y": {
          "bdata": "ik3CJvMIT0BPs2aaeQdPQCncsaGV2k5A++vP8S83T0CWlD66RzNQQA==",
          "dtype": "f8"
         },
         "yaxis": "y"
        },
        {
         "hovertemplate": "Região=Nordeste<br>Serviço=indice_coleta_esgoto<br>Ano=%{x}<br>Cobertura (%)=%{y}<extra></extra>",
         "legendgroup": "Nordeste, indice_coleta_esgoto",
         "line": {
          "color": "#EF553B",
          "dash": "dot"
         },
         "marker": {
          "symbol": "circle"
         },
         "mode": "lines+markers",
         "name": "Nordeste, indice_coleta_esgoto",
         "orientation": "v",
         "showlegend": true,
         "type": "scatter",
         "x": {
          "bdata": "4gfjB+QH5QfmBw==",
          "dtype": "i2"
         },
         "xaxis": "x",
         "y": {
          "bdata": "T85Bu7EhSECBVkkQGV9HQKi/2WAC7EhAeLNPidJhSEBAU6IJ4f5HQA==",
          "dtype": "f8"
         },
         "yaxis": "y"
        },
        {
         "hovertemplate": "Região=Norte<br>Serviço=indice_atendimento_total_agua<br>Ano=%{x}<br>Cobertura (%)=%{y}<extra></extra>",
         "legendgroup": "Norte, indice_atendimento_total_agua",
         "line": {
          "color": "#00cc96",
          "dash": "solid"
         },
         "marker": {
          "symbol": "circle"
         },
         "mode": "lines+markers",
         "name": "Norte, indice_atendimento_total_agua",
         "orientation": "v",
         "showlegend": true,
         "type": "scatter",
         "x": {
          "bdata": "4gfjB+QH5QfmBw==",
          "dtype": "i2"
         },
         "xaxis": "x",
         "y": {
          "bdata": "pDK63jVkSkCLvf8aCDVKQF6lElKVfUxAmggbnl4LTUAEGOD58gVOQA==",
          "dtype": "f8"
         },
         "yaxis": "y"
        },
        {
         "hovertemplate": "Região=Norte<br>Serviço=indice_coleta_esgoto<br>Ano=%{x}<br>Cobertura (%)=%{y}<extra></extra>",
         "legendgroup": "Norte, indice_coleta_esgoto",
         "line": {
          "color": "#00cc96",
          "dash": "dot"
         },
         "marker": {
          "symbol": "circle"
         },
         "mode": "lines+markers",
         "name": "Norte, indice_coleta_esgoto",
         "orientation": "v",
         "showlegend": true,
         "type": "scatter",
         "x": {
          "bdata": "4gfjB+QH5QfmBw==",
          "dtype": "i2"
         },
         "xaxis": "x",
         "y": {
          "bdata": "N6QyEPevQED4t5ursj5BQC/dJAaBpUBAa5LXbwuiQEBsUrYmZQtBQA==",
          "dtype": "f8"
         },
         "yaxis": "y"
        },
        {
         "hovertemplate": "Região=Sudeste<br>Serviço=indice_atendimento_total_agua<br>Ano=%{x}<br>Cobertura (%)=%{y}<extra></extra>",
         "legendgroup": "Sudeste, indice_atendimento_total_agua",
         "line": {
          "color": "#ab63fa",
          "dash": "solid"
         },
         "marker": {
          "symbol": "circle"
         },
         "mode": "lines+markers",
         "name": "Sudeste, indice_atendimento_total_agua",
         "orientation": "v",
         "showlegend": true,
         "type": "scatter",
         "x": {
          "bdata": "4gfjB+QH5QfmBw==",
          "dtype": "i2"
         },
         "xaxis": "x",
         "y": {
          "bdata": "KgccgKLgUkAwiPa7x/5SQIpLTSEnLlNAkOApPWRKU0CkUuRg5RZTQA==",
          "dtype": "f8"
         },
         "yaxis": "y"
        },
        {
         "hovertemplate": "Região=Sudeste<br>Serviço=indice_coleta_esgoto<br>Ano=%{x}<br>Cobertura (%)=%{y}<extra></extra>",
         "legendgroup": "Sudeste, indice_coleta_esgoto",
         "line": {
          "color": "#ab63fa",
          "dash": "dot"
         },
         "marker": {
          "symbol": "circle"
         },
         "mode": "lines+markers",
         "name": "Sudeste, indice_coleta_esgoto",
         "orientation": "v",
         "showlegend": true,
         "type": "scatter",
         "x": {
          "bdata": "4gfjB+QH5QfmBw==",
          "dtype": "i2"
         },
         "xaxis": "x",
         "y": {
          "bdata": "IDIPfd1HU0BDaDCERo5TQG1cOkWxXFNAYdZobLeOU0CER/16rIhTQA==",
          "dtype": "f8"
         },
         "yaxis": "y"
        },
        {
         "hovertemplate": "Região=Sul<br>Serviço=indice_atendimento_total_agua<br>Ano=%{x}<br>Cobertura (%)=%{y}<extra></extra>",
         "legendgroup": "Sul, indice_atendimento_total_agua",
         "line": {
          "color": "#FFA15A",
          "dash": "solid"
         },
         "marker": {
          "symbol": "circle"
         },
         "mode": "lines+markers",
         "name": "Sul, indice_atendimento_total_agua",
         "orientation": "v",
         "showlegend": true,
         "type": "scatter",
         "x": {
          "bdata": "4gfjB+QH5QfmBw==",
          "dtype": "i2"
         },
         "xaxis": "x",
         "y": {
          "bdata": "RL+3VqPpUkCFxRT/FxxTQK+8Wn7OUlNAz3rsUrKBU0DuLBQBxJ9TQA==",
          "dtype": "f8"
         },
         "yaxis": "y"
        },
        {
         "hovertemplate": "Região=Sul<br>Serviço=indice_coleta_esgoto<br>Ano=%{x}<br>Cobertura (%)=%{y}<extra></extra>",
         "legendgroup": "Sul, indice_coleta_esgoto",
         "line": {
          "color": "#FFA15A",
          "dash": "dot"
         },
         "marker": {
          "symbol": "circle"
         },
         "mode": "lines+markers",
         "name": "Sul, indice_coleta_esgoto",
         "orientation": "v",
         "showlegend": true,
         "type": "scatter",
         "x": {
          "bdata": "4gfjB+QH5QfmBw==",
          "dtype": "i2"
         },
         "xaxis": "x",
         "y": {
          "bdata": "4+l2txkgSECnOlG8UEhIQJ8UfGter0hATmYIrhgFSUDWivkpb5VJQA==",
          "dtype": "f8"
         },
         "yaxis": "y"
        }
       ],
       "layout": {
        "legend": {
         "title": {
          "text": "Região, Serviço"
         },
         "tracegroupgap": 0
        },
        "template": {
         "data": {
          "bar": [
           {
            "error_x": {
             "color": "#2a3f5f"
            },
            "error_y": {
             "color": "#2a3f5f"
            },
            "marker": {
             "line": {
              "color": "#E5ECF6",
              "width": 0.5
             },
             "pattern": {
              "fillmode": "overlay",
              "size": 10,
              "solidity": 0.2
             }
            },
            "type": "bar"
           }
          ],
          "barpolar": [
           {
            "marker": {
             "line": {
              "color": "#E5ECF6",
              "width": 0.5
             },
             "pattern": {
              "fillmode": "overlay",
              "size": 10,
              "solidity": 0.2
             }
            },
            "type": "barpolar"
           }
          ],
          "carpet": [
           {
            "aaxis": {
             "endlinecolor": "#2a3f5f",
             "gridcolor": "white",
             "linecolor": "white",
             "minorgridcolor": "white",
             "startlinecolor": "#2a3f5f"
            },
            "baxis": {
             "endlinecolor": "#2a3f5f",
             "gridcolor": "white",
             "linecolor": "white",
             "minorgridcolor": "white",
             "startlinecolor": "#2a3f5f"
            },
            "type": "carpet"
           }
          ],
          "choropleth": [
           {
            "colorbar": {
             "outlinewidth": 0,
             "ticks": ""
            },
            "type": "choropleth"
           }
          ],
          "contour": [
           {
            "colorbar": {
             "outlinewidth": 0,
             "ticks": ""
            },
            "colorscale": [
             [
              0,
              "#0d0887"
             ],
             [
              0.1111111111111111,
              "#46039f"
             ],
             [
              0.2222222222222222,
              "#7201a8"
             ],
             [
              0.3333333333333333,
              "#9c179e"
             ],
             [
              0.4444444444444444,
              "#bd3786"
             ],
             [
              0.5555555555555556,
              "#d8576b"
             ],
             [
              0.6666666666666666,
              "#ed7953"
             ],
             [
              0.7777777777777778,
              "#fb9f3a"
             ],
             [
              0.8888888888888888,
              "#fdca26"
             ],
             [
              1,
              "#f0f921"
             ]
            ],
            "type": "contour"
           }
          ],
          "contourcarpet": [
           {
            "colorbar": {
             "outlinewidth": 0,
             "ticks": ""
            },
            "type": "contourcarpet"
           }
          ],
          "heatmap": [
           {
            "colorbar": {
             "outlinewidth": 0,
             "ticks": ""
            },
            "colorscale": [
             [
              0,
              "#0d0887"
             ],
             [
              0.1111111111111111,
              "#46039f"
             ],
             [
              0.2222222222222222,
              "#7201a8"
             ],
             [
              0.3333333333333333,
              "#9c179e"
             ],
             [
              0.4444444444444444,
              "#bd3786"
             ],
             [
              0.5555555555555556,
              "#d8576b"
             ],
             [
              0.6666666666666666,
              "#ed7953"
             ],
             [
              0.7777777777777778,
              "#fb9f3a"
             ],
             [
              0.8888888888888888,
              "#fdca26"
             ],
             [
              1,
              "#f0f921"
             ]
            ],
            "type": "heatmap"
           }
          ],
          "histogram": [
           {
            "marker": {
             "pattern": {
              "fillmode": "overlay",
              "size": 10,
              "solidity": 0.2
             }
            },
            "type": "histogram"
           }
          ],
          "histogram2d": [
           {
            "colorbar": {
             "outlinewidth": 0,
             "ticks": ""
            },
            "colorscale": [
             [
              0,
              "#0d0887"
             ],
             [
              0.1111111111111111,
              "#46039f"
             ],
             [
              0.2222222222222222,
              "#7201a8"
             ],
             [
              0.3333333333333333,
              "#9c179e"
             ],
             [
              0.4444444444444444,
              "#bd3786"
             ],
             [
              0.5555555555555556,
              "#d8576b"
             ],
             [
              0.6666666666666666,
              "#ed7953"
             ],
             [
              0.7777777777777778,
              "#fb9f3a"
             ],
             [
              0.8888888888888888,
              "#fdca26"
             ],
             [
              1,
              "#f0f921"
             ]
            ],
            "type": "histogram2d"
           }
          ],
          "histogram2dcontour": [
           {
            "colorbar": {
             "outlinewidth": 0,
             "ticks": ""
            },
            "colorscale": [
             [
              0,
              "#0d0887"
             ],
             [
              0.1111111111111111,
              "#46039f"
             ],
             [
              0.2222222222222222,
              "#7201a8"
             ],
             [
              0.3333333333333333,
              "#9c179e"
             ],
             [
              0.4444444444444444,
              "#bd3786"
             ],
             [
              0.5555555555555556,
              "#d8576b"
             ],
             [
              0.6666666666666666,
              "#ed7953"
             ],
             [
              0.7777777777777778,
              "#fb9f3a"
             ],
             [
              0.8888888888888888,
              "#fdca26"
             ],
             [
              1,
              "#f0f921"
             ]
            ],
            "type": "histogram2dcontour"
           }
          ],
          "mesh3d": [
           {
            "colorbar": {
             "outlinewidth": 0,
             "ticks": ""
            },
            "type": "mesh3d"
           }
          ],
          "parcoords": [
           {
            "line": {
             "colorbar": {
              "outlinewidth": 0,
              "ticks": ""
             }
            },
            "type": "parcoords"
           }
          ],
          "pie": [
           {
            "automargin": true,
            "type": "pie"
           }
          ],
          "scatter": [
           {
            "fillpattern": {
             "fillmode": "overlay",
             "size": 10,
             "solidity": 0.2
            },
            "type": "scatter"
           }
          ],
          "scatter3d": [
           {
            "line": {
             "colorbar": {
              "outlinewidth": 0,
              "ticks": ""
             }
            },
            "marker": {
             "colorbar": {
              "outlinewidth": 0,
              "ticks": ""
             }
            },
            "type": "scatter3d"
           }
          ],
          "scattercarpet": [
           {
            "marker": {
             "colorbar": {
              "outlinewidth": 0,
              "ticks": ""
             }
            },
            "type": "scattercarpet"
           }
          ],
          "scattergeo": [
           {
            "marker": {
             "colorbar": {
              "outlinewidth": 0,
              "ticks": ""
             }
            },
            "type": "scattergeo"
           }
          ],
          "scattergl": [
           {
            "marker": {
             "colorbar": {
              "outlinewidth": 0,
              "ticks": ""
             }
            },
            "type": "scattergl"
           }
          ],
          "scattermap": [
           {
            "marker": {
             "colorbar": {
              "outlinewidth": 0,
              "ticks": ""
             }
            },
            "type": "scattermap"
           }
          ],
          "scattermapbox": [
           {
            "marker": {
             "colorbar": {
              "outlinewidth": 0,
              "ticks": ""
             }
            },
            "type": "scattermapbox"
           }
          ],
          "scatterpolar": [
           {
            "marker": {
             "colorbar": {
              "outlinewidth": 0,
              "ticks": ""
             }
            },
            "type": "scatterpolar"
           }
          ],
          "scatterpolargl": [
           {
            "marker": {
             "colorbar": {
              "outlinewidth": 0,
              "ticks": ""
             }
            },
            "type": "scatterpolargl"
           }
          ],
          "scatterternary": [
           {
            "marker": {
             "colorbar": {
              "outlinewidth": 0,
              "ticks": ""
             }
            },
            "type": "scatterternary"
           }
          ],
          "surface": [
           {
            "colorbar": {
             "outlinewidth": 0,
             "ticks": ""
            },
            "colorscale": [
             [
              0,
              "#0d0887"
             ],
             [
              0.1111111111111111,
              "#46039f"
             ],
             [
              0.2222222222222222,
              "#7201a8"
             ],
             [
              0.3333333333333333,
              "#9c179e"
             ],
             [
              0.4444444444444444,
              "#bd3786"
             ],
             [
              0.5555555555555556,
              "#d8576b"
             ],
             [
              0.6666666666666666,
              "#ed7953"
             ],
             [
              0.7777777777777778,
              "#fb9f3a"
             ],
             [
              0.8888888888888888,
              "#fdca26"
             ],
             [
              1,
              "#f0f921"
             ]
            ],
            "type": "surface"
           }
          ],
          "table": [
           {
            "cells": {
             "fill": {
              "color": "#EBF0F8"
             },
             "line": {
              "color": "white"
             }
            },
            "header": {
             "fill": {
              "color": "#C8D4E3"
             },
             "line": {
              "color": "white"
             }
            },
            "type": "table"
           }
          ]
         },
         "layout": {
          "annotationdefaults": {
           "arrowcolor": "#2a3f5f",
           "arrowhead": 0,
           "arrowwidth": 1
          },
          "autotypenumbers": "strict",
          "coloraxis": {
           "colorbar": {
            "outlinewidth": 0,
            "ticks": ""
           }
          },
          "colorscale": {
           "diverging": [
            [
             0,
             "#8e0152"
            ],
            [
             0.1,
             "#c51b7d"
            ],
            [
             0.2,
             "#de77ae"
            ],
            [
             0.3,
             "#f1b6da"
            ],
            [
             0.4,
             "#fde0ef"
            ],
            [
             0.5,
             "#f7f7f7"
            ],
            [
             0.6,
             "#e6f5d0"
            ],
            [
             0.7,
             "#b8e186"
            ],
            [
             0.8,
             "#7fbc41"
            ],
            [
             0.9,
             "#4d9221"
            ],
            [
             1,
             "#276419"
            ]
           ],
           "sequential": [
            [
             0,
             "#0d0887"
            ],
            [
             0.1111111111111111,
             "#46039f"
            ],
            [
             0.2222222222222222,
             "#7201a8"
            ],
            [
             0.3333333333333333,
             "#9c179e"
            ],
            [
             0.4444444444444444,
             "#bd3786"
            ],
            [
             0.5555555555555556,
             "#d8576b"
            ],
            [
             0.6666666666666666,
             "#ed7953"
            ],
            [
             0.7777777777777778,
             "#fb9f3a"
            ],
            [
             0.8888888888888888,
             "#fdca26"
            ],
            [
             1,
             "#f0f921"
            ]
           ],
           "sequentialminus": [
            [
             0,
             "#0d0887"
            ],
            [
             0.1111111111111111,
             "#46039f"
            ],
            [
             0.2222222222222222,
             "#7201a8"
            ],
            [
             0.3333333333333333,
             "#9c179e"
            ],
            [
             0.4444444444444444,
             "#bd3786"
            ],
            [
             0.5555555555555556,
             "#d8576b"
            ],
            [
             0.6666666666666666,
             "#ed7953"
            ],
            [
             0.7777777777777778,
             "#fb9f3a"
            ],
            [
             0.8888888888888888,
             "#fdca26"
            ],
            [
             1,
             "#f0f921"
            ]
           ]
          },
          "colorway": [
           "#636efa",
           "#EF553B",
           "#00cc96",
           "#ab63fa",
           "#FFA15A",
           "#19d3f3",
           "#FF6692",
           "#B6E880",
           "#FF97FF",
           "#FECB52"
          ],
          "font": {
           "color": "#2a3f5f"
          },
          "geo": {
           "bgcolor": "white",
           "lakecolor": "white",
           "landcolor": "#E5ECF6",
           "showlakes": true,
           "showland": true,
           "subunitcolor": "white"
          },
          "hoverlabel": {
           "align": "left"
          },
          "hovermode": "closest",
          "mapbox": {
           "style": "light"
          },
          "paper_bgcolor": "white",
          "plot_bgcolor": "#E5ECF6",
          "polar": {
           "angularaxis": {
            "gridcolor": "white",
            "linecolor": "white",
            "ticks": ""
           },
           "bgcolor": "#E5ECF6",
           "radialaxis": {
            "gridcolor": "white",
            "linecolor": "white",
            "ticks": ""
           }
          },
          "scene": {
           "xaxis": {
            "backgroundcolor": "#E5ECF6",
            "gridcolor": "white",
            "gridwidth": 2,
            "linecolor": "white",
            "showbackground": true,
            "ticks": "",
            "zerolinecolor": "white"
           },
           "yaxis": {
            "backgroundcolor": "#E5ECF6",
            "gridcolor": "white",
            "gridwidth": 2,
            "linecolor": "white",
            "showbackground": true,
            "ticks": "",
            "zerolinecolor": "white"
           },
           "zaxis": {
            "backgroundcolor": "#E5ECF6",
            "gridcolor": "white",
            "gridwidth": 2,
            "linecolor": "white",
            "showbackground": true,
            "ticks": "",
            "zerolinecolor": "white"
           }
          },
          "shapedefaults": {
           "line": {
            "color": "#2a3f5f"
           }
          },
          "ternary": {
           "aaxis": {
            "gridcolor": "white",
            "linecolor": "white",
            "ticks": ""
           },
           "baxis": {
            "gridcolor": "white",
            "linecolor": "white",
            "ticks": ""
           },
           "bgcolor": "#E5ECF6",
           "caxis": {
            "gridcolor": "white",
            "linecolor": "white",
            "ticks": ""
           }
          },
          "title": {
           "x": 0.05
          },
          "xaxis": {
           "automargin": true,
           "gridcolor": "white",
           "linecolor": "white",
           "ticks": "",
           "title": {
            "standoff": 15
           },
           "zerolinecolor": "white",
           "zerolinewidth": 2
          },
          "yaxis": {
           "automargin": true,
           "gridcolor": "white",
           "linecolor": "white",
           "ticks": "",
           "title": {
            "standoff": 15
           },
           "zerolinecolor": "white",
           "zerolinewidth": 2
          }
         }
        },
        "title": {
         "text": "Evolução da Cobertura de Água Potável e Esgoto por Região (últimos 5 anos)"
        },
        "xaxis": {
         "anchor": "y",
         "domain": [
          0,
          1
         ],
         "dtick": 1,
         "title": {
          "text": "Ano"
         }
        },
        "yaxis": {
         "anchor": "x",
         "domain": [
          0,
          1
         ],
         "title": {
          "text": "Cobertura (%)"
         }
        }
       }
      }
     },
     "metadata": {},
     "output_type": "display_data"
    }
   ],
   "source": [
    "import plotly.express as px\n",
    "\n",
    "# Considera os 5 anos mais recentes\n",
    "anos_recentes = df_filtrado['ano'].sort_values(ascending=False).unique()[:5]\n",
    "df_ultimos = df_filtrado[df_filtrado['ano'].isin(anos_recentes)]\n",
    "\n",
    "# Agrupa por ano e região\n",
    "df_regiao_ano = df_ultimos.groupby(['ano', 'regiao'])[\n",
    "    ['indice_atendimento_total_agua', 'indice_coleta_esgoto']\n",
    "].mean().reset_index()\n",
    "\n",
    "# Converte para formato longo (long format)\n",
    "df_melt = df_regiao_ano.melt(\n",
    "    id_vars=['ano', 'regiao'],\n",
    "    var_name='Serviço',\n",
    "    value_name='Cobertura (%)'\n",
    ")\n",
    "\n",
    "# Cria gráfico de linha\n",
    "fig = px.line(\n",
    "    df_melt,\n",
    "    x='ano',\n",
    "    y='Cobertura (%)',\n",
    "    color='regiao',\n",
    "    line_dash='Serviço',\n",
    "    markers=True,\n",
    "    title='Evolução da Cobertura de Água Potável e Esgoto por Região (últimos 5 anos)',\n",
    "    labels={'ano': 'Ano', 'regiao': 'Região'}\n",
    ")\n",
    "\n",
    "fig.update_layout(xaxis=dict(dtick=1))  # mostra todos os anos\n",
    "fig.show()\n"
   ]
  },
  {
   "cell_type": "code",
   "execution_count": null,
   "metadata": {},
   "outputs": [
    {
     "data": {
      "application/vnd.plotly.v1+json": {
       "config": {
        "plotlyServerURL": "https://plot.ly"
       },
       "data": [
        {
         "hovertemplate": "Serviço=Água Potável (%)<br>ano=%{x}<br>Cobertura (%)=%{y}<extra></extra>",
         "legendgroup": "Água Potável (%)",
         "line": {
          "color": "#636efa",
          "dash": "solid"
         },
         "marker": {
          "symbol": "circle"
         },
         "mode": "lines+markers",
         "name": "Água Potável (%)",
         "orientation": "v",
         "showlegend": true,
         "type": "scatter",
         "x": {
          "bdata": "4gfjB+QH5QfmBw==",
          "dtype": "i2"
         },
         "xaxis": "x",
         "y": {
          "bdata": "pCh2yJRqUUDSwIPuB4ZRQOGGddrNp1FAtyiCs4PLUUAQhIRnp/lRQA==",
          "dtype": "f8"
         },
         "yaxis": "y"
        },
        {
         "hovertemplate": "Serviço=Esgoto (%)<br>ano=%{x}<br>Cobertura (%)=%{y}<extra></extra>",
         "legendgroup": "Esgoto (%)",
         "line": {
          "color": "#EF553B",
          "dash": "solid"
         },
         "marker": {
          "symbol": "circle"
         },
         "mode": "lines+markers",
         "name": "Esgoto (%)",
         "orientation": "v",
         "showlegend": true,
         "type": "scatter",
         "x": {
          "bdata": "4gfjB+QH5QfmBw==",
          "dtype": "i2"
         },
         "xaxis": "x",
         "y": {
          "bdata": "2zp0dNXgT0AGcDOtagpQQOnhgUo22k9A/vEoUJ4JUEDS4Utl7gZQQA==",
          "dtype": "f8"
         },
         "yaxis": "y"
        }
       ],
       "layout": {
        "hovermode": "x unified",
        "legend": {
         "title": {
          "text": "Serviço"
         },
         "tracegroupgap": 0
        },
        "template": {
         "data": {
          "bar": [
           {
            "error_x": {
             "color": "#2a3f5f"
            },
            "error_y": {
             "color": "#2a3f5f"
            },
            "marker": {
             "line": {
              "color": "#E5ECF6",
              "width": 0.5
             },
             "pattern": {
              "fillmode": "overlay",
              "size": 10,
              "solidity": 0.2
             }
            },
            "type": "bar"
           }
          ],
          "barpolar": [
           {
            "marker": {
             "line": {
              "color": "#E5ECF6",
              "width": 0.5
             },
             "pattern": {
              "fillmode": "overlay",
              "size": 10,
              "solidity": 0.2
             }
            },
            "type": "barpolar"
           }
          ],
          "carpet": [
           {
            "aaxis": {
             "endlinecolor": "#2a3f5f",
             "gridcolor": "white",
             "linecolor": "white",
             "minorgridcolor": "white",
             "startlinecolor": "#2a3f5f"
            },
            "baxis": {
             "endlinecolor": "#2a3f5f",
             "gridcolor": "white",
             "linecolor": "white",
             "minorgridcolor": "white",
             "startlinecolor": "#2a3f5f"
            },
            "type": "carpet"
           }
          ],
          "choropleth": [
           {
            "colorbar": {
             "outlinewidth": 0,
             "ticks": ""
            },
            "type": "choropleth"
           }
          ],
          "contour": [
           {
            "colorbar": {
             "outlinewidth": 0,
             "ticks": ""
            },
            "colorscale": [
             [
              0,
              "#0d0887"
             ],
             [
              0.1111111111111111,
              "#46039f"
             ],
             [
              0.2222222222222222,
              "#7201a8"
             ],
             [
              0.3333333333333333,
              "#9c179e"
             ],
             [
              0.4444444444444444,
              "#bd3786"
             ],
             [
              0.5555555555555556,
              "#d8576b"
             ],
             [
              0.6666666666666666,
              "#ed7953"
             ],
             [
              0.7777777777777778,
              "#fb9f3a"
             ],
             [
              0.8888888888888888,
              "#fdca26"
             ],
             [
              1,
              "#f0f921"
             ]
            ],
            "type": "contour"
           }
          ],
          "contourcarpet": [
           {
            "colorbar": {
             "outlinewidth": 0,
             "ticks": ""
            },
            "type": "contourcarpet"
           }
          ],
          "heatmap": [
           {
            "colorbar": {
             "outlinewidth": 0,
             "ticks": ""
            },
            "colorscale": [
             [
              0,
              "#0d0887"
             ],
             [
              0.1111111111111111,
              "#46039f"
             ],
             [
              0.2222222222222222,
              "#7201a8"
             ],
             [
              0.3333333333333333,
              "#9c179e"
             ],
             [
              0.4444444444444444,
              "#bd3786"
             ],
             [
              0.5555555555555556,
              "#d8576b"
             ],
             [
              0.6666666666666666,
              "#ed7953"
             ],
             [
              0.7777777777777778,
              "#fb9f3a"
             ],
             [
              0.8888888888888888,
              "#fdca26"
             ],
             [
              1,
              "#f0f921"
             ]
            ],
            "type": "heatmap"
           }
          ],
          "histogram": [
           {
            "marker": {
             "pattern": {
              "fillmode": "overlay",
              "size": 10,
              "solidity": 0.2
             }
            },
            "type": "histogram"
           }
          ],
          "histogram2d": [
           {
            "colorbar": {
             "outlinewidth": 0,
             "ticks": ""
            },
            "colorscale": [
             [
              0,
              "#0d0887"
             ],
             [
              0.1111111111111111,
              "#46039f"
             ],
             [
              0.2222222222222222,
              "#7201a8"
             ],
             [
              0.3333333333333333,
              "#9c179e"
             ],
             [
              0.4444444444444444,
              "#bd3786"
             ],
             [
              0.5555555555555556,
              "#d8576b"
             ],
             [
              0.6666666666666666,
              "#ed7953"
             ],
             [
              0.7777777777777778,
              "#fb9f3a"
             ],
             [
              0.8888888888888888,
              "#fdca26"
             ],
             [
              1,
              "#f0f921"
             ]
            ],
            "type": "histogram2d"
           }
          ],
          "histogram2dcontour": [
           {
            "colorbar": {
             "outlinewidth": 0,
             "ticks": ""
            },
            "colorscale": [
             [
              0,
              "#0d0887"
             ],
             [
              0.1111111111111111,
              "#46039f"
             ],
             [
              0.2222222222222222,
              "#7201a8"
             ],
             [
              0.3333333333333333,
              "#9c179e"
             ],
             [
              0.4444444444444444,
              "#bd3786"
             ],
             [
              0.5555555555555556,
              "#d8576b"
             ],
             [
              0.6666666666666666,
              "#ed7953"
             ],
             [
              0.7777777777777778,
              "#fb9f3a"
             ],
             [
              0.8888888888888888,
              "#fdca26"
             ],
             [
              1,
              "#f0f921"
             ]
            ],
            "type": "histogram2dcontour"
           }
          ],
          "mesh3d": [
           {
            "colorbar": {
             "outlinewidth": 0,
             "ticks": ""
            },
            "type": "mesh3d"
           }
          ],
          "parcoords": [
           {
            "line": {
             "colorbar": {
              "outlinewidth": 0,
              "ticks": ""
             }
            },
            "type": "parcoords"
           }
          ],
          "pie": [
           {
            "automargin": true,
            "type": "pie"
           }
          ],
          "scatter": [
           {
            "fillpattern": {
             "fillmode": "overlay",
             "size": 10,
             "solidity": 0.2
            },
            "type": "scatter"
           }
          ],
          "scatter3d": [
           {
            "line": {
             "colorbar": {
              "outlinewidth": 0,
              "ticks": ""
             }
            },
            "marker": {
             "colorbar": {
              "outlinewidth": 0,
              "ticks": ""
             }
            },
            "type": "scatter3d"
           }
          ],
          "scattercarpet": [
           {
            "marker": {
             "colorbar": {
              "outlinewidth": 0,
              "ticks": ""
             }
            },
            "type": "scattercarpet"
           }
          ],
          "scattergeo": [
           {
            "marker": {
             "colorbar": {
              "outlinewidth": 0,
              "ticks": ""
             }
            },
            "type": "scattergeo"
           }
          ],
          "scattergl": [
           {
            "marker": {
             "colorbar": {
              "outlinewidth": 0,
              "ticks": ""
             }
            },
            "type": "scattergl"
           }
          ],
          "scattermap": [
           {
            "marker": {
             "colorbar": {
              "outlinewidth": 0,
              "ticks": ""
             }
            },
            "type": "scattermap"
           }
          ],
          "scattermapbox": [
           {
            "marker": {
             "colorbar": {
              "outlinewidth": 0,
              "ticks": ""
             }
            },
            "type": "scattermapbox"
           }
          ],
          "scatterpolar": [
           {
            "marker": {
             "colorbar": {
              "outlinewidth": 0,
              "ticks": ""
             }
            },
            "type": "scatterpolar"
           }
          ],
          "scatterpolargl": [
           {
            "marker": {
             "colorbar": {
              "outlinewidth": 0,
              "ticks": ""
             }
            },
            "type": "scatterpolargl"
           }
          ],
          "scatterternary": [
           {
            "marker": {
             "colorbar": {
              "outlinewidth": 0,
              "ticks": ""
             }
            },
            "type": "scatterternary"
           }
          ],
          "surface": [
           {
            "colorbar": {
             "outlinewidth": 0,
             "ticks": ""
            },
            "colorscale": [
             [
              0,
              "#0d0887"
             ],
             [
              0.1111111111111111,
              "#46039f"
             ],
             [
              0.2222222222222222,
              "#7201a8"
             ],
             [
              0.3333333333333333,
              "#9c179e"
             ],
             [
              0.4444444444444444,
              "#bd3786"
             ],
             [
              0.5555555555555556,
              "#d8576b"
             ],
             [
              0.6666666666666666,
              "#ed7953"
             ],
             [
              0.7777777777777778,
              "#fb9f3a"
             ],
             [
              0.8888888888888888,
              "#fdca26"
             ],
             [
              1,
              "#f0f921"
             ]
            ],
            "type": "surface"
           }
          ],
          "table": [
           {
            "cells": {
             "fill": {
              "color": "#EBF0F8"
             },
             "line": {
              "color": "white"
             }
            },
            "header": {
             "fill": {
              "color": "#C8D4E3"
             },
             "line": {
              "color": "white"
             }
            },
            "type": "table"
           }
          ]
         },
         "layout": {
          "annotationdefaults": {
           "arrowcolor": "#2a3f5f",
           "arrowhead": 0,
           "arrowwidth": 1
          },
          "autotypenumbers": "strict",
          "coloraxis": {
           "colorbar": {
            "outlinewidth": 0,
            "ticks": ""
           }
          },
          "colorscale": {
           "diverging": [
            [
             0,
             "#8e0152"
            ],
            [
             0.1,
             "#c51b7d"
            ],
            [
             0.2,
             "#de77ae"
            ],
            [
             0.3,
             "#f1b6da"
            ],
            [
             0.4,
             "#fde0ef"
            ],
            [
             0.5,
             "#f7f7f7"
            ],
            [
             0.6,
             "#e6f5d0"
            ],
            [
             0.7,
             "#b8e186"
            ],
            [
             0.8,
             "#7fbc41"
            ],
            [
             0.9,
             "#4d9221"
            ],
            [
             1,
             "#276419"
            ]
           ],
           "sequential": [
            [
             0,
             "#0d0887"
            ],
            [
             0.1111111111111111,
             "#46039f"
            ],
            [
             0.2222222222222222,
             "#7201a8"
            ],
            [
             0.3333333333333333,
             "#9c179e"
            ],
            [
             0.4444444444444444,
             "#bd3786"
            ],
            [
             0.5555555555555556,
             "#d8576b"
            ],
            [
             0.6666666666666666,
             "#ed7953"
            ],
            [
             0.7777777777777778,
             "#fb9f3a"
            ],
            [
             0.8888888888888888,
             "#fdca26"
            ],
            [
             1,
             "#f0f921"
            ]
           ],
           "sequentialminus": [
            [
             0,
             "#0d0887"
            ],
            [
             0.1111111111111111,
             "#46039f"
            ],
            [
             0.2222222222222222,
             "#7201a8"
            ],
            [
             0.3333333333333333,
             "#9c179e"
            ],
            [
             0.4444444444444444,
             "#bd3786"
            ],
            [
             0.5555555555555556,
             "#d8576b"
            ],
            [
             0.6666666666666666,
             "#ed7953"
            ],
            [
             0.7777777777777778,
             "#fb9f3a"
            ],
            [
             0.8888888888888888,
             "#fdca26"
            ],
            [
             1,
             "#f0f921"
            ]
           ]
          },
          "colorway": [
           "#636efa",
           "#EF553B",
           "#00cc96",
           "#ab63fa",
           "#FFA15A",
           "#19d3f3",
           "#FF6692",
           "#B6E880",
           "#FF97FF",
           "#FECB52"
          ],
          "font": {
           "color": "#2a3f5f"
          },
          "geo": {
           "bgcolor": "white",
           "lakecolor": "white",
           "landcolor": "#E5ECF6",
           "showlakes": true,
           "showland": true,
           "subunitcolor": "white"
          },
          "hoverlabel": {
           "align": "left"
          },
          "hovermode": "closest",
          "mapbox": {
           "style": "light"
          },
          "paper_bgcolor": "white",
          "plot_bgcolor": "#E5ECF6",
          "polar": {
           "angularaxis": {
            "gridcolor": "white",
            "linecolor": "white",
            "ticks": ""
           },
           "bgcolor": "#E5ECF6",
           "radialaxis": {
            "gridcolor": "white",
            "linecolor": "white",
            "ticks": ""
           }
          },
          "scene": {
           "xaxis": {
            "backgroundcolor": "#E5ECF6",
            "gridcolor": "white",
            "gridwidth": 2,
            "linecolor": "white",
            "showbackground": true,
            "ticks": "",
            "zerolinecolor": "white"
           },
           "yaxis": {
            "backgroundcolor": "#E5ECF6",
            "gridcolor": "white",
            "gridwidth": 2,
            "linecolor": "white",
            "showbackground": true,
            "ticks": "",
            "zerolinecolor": "white"
           },
           "zaxis": {
            "backgroundcolor": "#E5ECF6",
            "gridcolor": "white",
            "gridwidth": 2,
            "linecolor": "white",
            "showbackground": true,
            "ticks": "",
            "zerolinecolor": "white"
           }
          },
          "shapedefaults": {
           "line": {
            "color": "#2a3f5f"
           }
          },
          "ternary": {
           "aaxis": {
            "gridcolor": "white",
            "linecolor": "white",
            "ticks": ""
           },
           "baxis": {
            "gridcolor": "white",
            "linecolor": "white",
            "ticks": ""
           },
           "bgcolor": "#E5ECF6",
           "caxis": {
            "gridcolor": "white",
            "linecolor": "white",
            "ticks": ""
           }
          },
          "title": {
           "x": 0.05
          },
          "xaxis": {
           "automargin": true,
           "gridcolor": "white",
           "linecolor": "white",
           "ticks": "",
           "title": {
            "standoff": 15
           },
           "zerolinecolor": "white",
           "zerolinewidth": 2
          },
          "yaxis": {
           "automargin": true,
           "gridcolor": "white",
           "linecolor": "white",
           "ticks": "",
           "title": {
            "standoff": 15
           },
           "zerolinecolor": "white",
           "zerolinewidth": 2
          }
         }
        },
        "title": {
         "text": "Evolução da Cobertura de Água Potável e Esgoto no Brasil (Últimos 5 Anos)"
        },
        "xaxis": {
         "anchor": "y",
         "domain": [
          0,
          1
         ],
         "title": {
          "text": "Ano"
         }
        },
        "yaxis": {
         "anchor": "x",
         "domain": [
          0,
          1
         ],
         "title": {
          "text": "Cobertura (%)"
         }
        }
       }
      }
     },
     "metadata": {},
     "output_type": "display_data"
    }
   ],
   "source": [
    "import plotly.express as px\n",
    "import pandas as pd\n",
    "\n",
    "#Seleciona os últimos 5 anos\n",
    "anos_recentes = df_filtrado['ano'].sort_values(ascending=False).unique()[:5]\n",
    "df_ultimos = df_filtrado[df_filtrado['ano'].isin(anos_recentes)]\n",
    "\n",
    "#Agrupa por ano (ou por região e ano se quiser comparar regiões)\n",
    "df_agg = df_ultimos.groupby('ano')[['indice_atendimento_total_agua', 'indice_coleta_esgoto']].mean().reset_index()\n",
    "\n",
    "#Renomeia para facilitar leitura no gráfico\n",
    "df_agg.rename(columns={\n",
    "    'indice_atendimento_total_agua': 'Água Potável (%)',\n",
    "    'indice_coleta_esgoto': 'Esgoto (%)'\n",
    "}, inplace=True)\n",
    "\n",
    "#Transforma em formato longo (long format)\n",
    "df_melt = df_agg.melt(id_vars='ano', var_name='Serviço', value_name='Cobertura (%)')\n",
    "\n",
    "#Cria o gráfico de linha\n",
    "fig = px.line(\n",
    "    df_melt,\n",
    "    x='ano',\n",
    "    y='Cobertura (%)',\n",
    "    color='Serviço',\n",
    "    markers=True,\n",
    "    title='Evolução da Cobertura de Água Potável e Esgoto no Brasil (Últimos 5 Anos)'\n",
    ")\n",
    "\n",
    "fig.update_layout(xaxis_title='Ano', yaxis_title='Cobertura (%)', hovermode='x unified')\n",
    "fig.show()"
   ]
  },
  {
   "cell_type": "code",
   "execution_count": 80,
   "metadata": {},
   "outputs": [],
   "source": [
    "df_filtrado.loc[:, 'investimento_agua_total'] = (\n",
    "df_filtrado['investimento_agua_prestador'] +\n",
    "df_filtrado['investimento_agua_municipio'] +\n",
    "df_filtrado['investimento_agua_estado']\n",
    ")\n",
    "\n",
    "df_filtrado.loc[:, 'investimento_esgoto_total'] = (\n",
    "df_filtrado['investimento_esgoto_prestador'] +\n",
    "df_filtrado['investimento_esgoto_municipio'] +\n",
    "df_filtrado['investimento_esgoto_estado']\n",
    ")\n",
    "\n",
    "df_filtrado.loc[:, 'economia_na_saude'] = (\n",
    "df_filtrado['investimento_agua_total'] +\n",
    "df_filtrado['investimento_esgoto_total']\n",
    ") * 4\n"
   ]
  },
  {
   "cell_type": "code",
   "execution_count": 82,
   "metadata": {},
   "outputs": [],
   "source": [
    "df_filtrado = df_filtrado.copy()\n",
    "\n",
    "df_filtrado['indice_doenca_simulado'] = (\n",
    "    100\n",
    "    - (df_filtrado['indice_atendimento_total_agua'] * 0.4\n",
    "       + df_filtrado['indice_coleta_esgoto'] * 0.6)\n",
    "    + np.random.normal(0, 5, len(df_filtrado))\n",
    ")\n"
   ]
  },
  {
   "cell_type": "code",
   "execution_count": 83,
   "metadata": {},
   "outputs": [
    {
     "name": "stdout",
     "output_type": "stream",
     "text": [
      "                               economia_na_saude  \\\n",
      "economia_na_saude                       1.000000   \n",
      "indice_atendimento_total_agua           0.084973   \n",
      "indice_coleta_esgoto                   -0.001676   \n",
      "indice_doenca_simulado                 -0.032738   \n",
      "\n",
      "                               indice_atendimento_total_agua  \\\n",
      "economia_na_saude                                   0.084973   \n",
      "indice_atendimento_total_agua                       1.000000   \n",
      "indice_coleta_esgoto                                0.110737   \n",
      "indice_doenca_simulado                             -0.470931   \n",
      "\n",
      "                               indice_coleta_esgoto  indice_doenca_simulado  \n",
      "economia_na_saude                         -0.001676               -0.032738  \n",
      "indice_atendimento_total_agua              0.110737               -0.470931  \n",
      "indice_coleta_esgoto                       1.000000               -0.900042  \n",
      "indice_doenca_simulado                    -0.900042                1.000000  \n"
     ]
    }
   ],
   "source": [
    "df_correlacao = df_filtrado[\n",
    "    ['economia_na_saude', 'indice_atendimento_total_agua', 'indice_coleta_esgoto', 'indice_doenca_simulado']\n",
    "].corr()\n",
    "\n",
    "print(df_correlacao)"
   ]
  },
  {
   "cell_type": "code",
   "execution_count": 84,
   "metadata": {},
   "outputs": [
    {
     "data": {
      "image/png": "[encoded data removed]",
      "text/plain": [
       "<Figure size 800x600 with 2 Axes>"
      ]
     },
     "metadata": {},
     "output_type": "display_data"
    }
   ],
   "source": [
    "import seaborn as sns\n",
    "import matplotlib.pyplot as plt\n",
    "\n",
    "plt.figure(figsize=(8, 6))\n",
    "sns.heatmap(df_correlacao, annot=True, cmap='Blues', fmt=\".2f\")\n",
    "plt.title(\"Correlação entre Saneamento, Economia na Saúde e Doenças (Simulado)\")\n",
    "plt.show()\n"
   ]
  },
  {
   "cell_type": "code",
   "execution_count": 94,
   "metadata": {},
   "outputs": [],
   "source": [
    "df_filtrado['indice_agua_tratada'] = (\n",
    "    df_filtrado['volume_agua_tratada_eta'] / df_filtrado['volume_agua_produzido']\n",
    ") * 100\n"
   ]
  },
  {
   "cell_type": "code",
   "execution_count": 95,
   "metadata": {},
   "outputs": [],
   "source": [
    "anos_recentes = df_filtrado['ano'].sort_values(ascending=False).unique()[:5]\n",
    "df_ultimos_5_anos = df_filtrado[df_filtrado['ano'].isin(anos_recentes)]\n"
   ]
  },
  {
   "cell_type": "code",
   "execution_count": 96,
   "metadata": {},
   "outputs": [],
   "source": [
    "df_medio = df_ultimos_5_anos.groupby('sigla_uf')[\n",
    "    ['indice_atendimento_total_agua', 'indice_coleta_esgoto', 'indice_agua_tratada']\n",
    "].mean().reset_index()\n"
   ]
  },
  {
   "cell_type": "code",
   "execution_count": 97,
   "metadata": {},
   "outputs": [
    {
     "data": {
      "application/vnd.plotly.v1+json": {
       "config": {
        "plotlyServerURL": "https://plot.ly"
       },
       "data": [
        {
         "alignmentgroup": "True",
         "hovertemplate": "Serviço=indice_atendimento_total_agua<br>Estado (UF)=%{x}<br>Cobertura (%)=%{y}<extra></extra>",
         "legendgroup": "indice_atendimento_total_agua",
         "marker": {
          "color": "#636efa",
          "pattern": {
           "shape": ""
          }
         },
         "name": "indice_atendimento_total_agua",
         "offsetgroup": "indice_atendimento_total_agua",
         "orientation": "v",
         "showlegend": true,
         "textposition": "auto",
         "type": "bar",
         "x": [
          "AC",
          "AL",
          "AM",
          "AP",
          "BA",
          "CE",
          "DF",
          "ES",
          "GO",
          "MA",
          "MG",
          "MS",
          "MT",
          "PA",
          "PB",
          "PE",
          "PI",
          "PR",
          "RJ",
          "RN",
          "RO",
          "RR",
          "RS",
          "SC",
          "SE",
          "SP",
          "TO"
         ],
         "xaxis": "x",
         "y": {
          "bdata": "lUOLbOcbRkAHV6NZG6pOQI0D91Jbw05Am8QgsHIgO0CdvhPh8hBRQEnERrFvyEdAHVpkO9+/WEDTGqkIwxtQQNwByh2gLFNAG92F1GcLRkCNlTyYlg9RQMpGtCXWNlJAr3dQvFNPU0AE6D1djYlGQNL5MawuIkxA/enb3RfGUUDe5U3/3xdQQAUDD3Jy/1VAracOAs2JU0DaP6YMc8JSQFwtaGGxwENApnnHKTpSSkCOreijyMNRQHlUlin3HVJAgr2c7HkhVECCXRO3LghWQKWs8mRG6lJA",
          "dtype": "f8"
         },
         "yaxis": "y"
        },
        {
         "alignmentgroup": "True",
         "hovertemplate": "Serviço=indice_coleta_esgoto<br>Estado (UF)=%{x}<br>Cobertura (%)=%{y}<extra></extra>",
         "legendgroup": "indice_coleta_esgoto",
         "marker": {
          "color": "#EF553B",
          "pattern": {
           "shape": ""
          }
         },
         "name": "indice_coleta_esgoto",
         "offsetgroup": "indice_coleta_esgoto",
         "orientation": "v",
         "showlegend": true,
         "textposition": "auto",
         "type": "bar",
         "x": [
          "AC",
          "AL",
          "AM",
          "AP",
          "BA",
          "CE",
          "DF",
          "ES",
          "GO",
          "MA",
          "MG",
          "MS",
          "MT",
          "PA",
          "PB",
          "PE",
          "PI",
          "PR",
          "RJ",
          "RN",
          "RO",
          "RR",
          "RS",
          "SC",
          "SE",
          "SP",
          "TO"
         ],
         "xaxis": "x",
         "y": {
          "bdata": "gon+TlbLQUAs2oxu9yBGQCIXYQD1PjhABoGVQ4usNkBAFIHT7vlJQNYUPXujYT5AqvHSTWJQVUA2dEpXZixQQKdPq6vIxVBAIuub3bmmRED6vIMcjGdSQGnW4i+nt0BApSuMqRYVREDVur0Sey88QFCNl24S/E9ALbP6iAYPTUBABLngEkNDQHP5cLz2bE5AAVpyPx6VT0DmqS/KXT5IQJoiJkTDOz1Amn6o6YfSUkDwmhMtrPJAQGiltMs2SURA7XLEOOveR0AkUJS6V1hVQHoxozogY0NA",
          "dtype": "f8"
         },
         "yaxis": "y"
        },
        {
         "alignmentgroup": "True",
         "hovertemplate": "Serviço=indice_agua_tratada<br>Estado (UF)=%{x}<br>Cobertura (%)=%{y}<extra></extra>",
         "legendgroup": "indice_agua_tratada",
         "marker": {
          "color": "#00cc96",
          "pattern": {
           "shape": ""
          }
         },
         "name": "indice_agua_tratada",
         "offsetgroup": "indice_agua_tratada",
         "orientation": "v",
         "showlegend": true,
         "textposition": "auto",
         "type": "bar",
         "x": [
          "AC",
          "AL",
          "AM",
          "AP",
          "BA",
          "CE",
          "DF",
          "ES",
          "GO",
          "MA",
          "MG",
          "MS",
          "MT",
          "PA",
          "PB",
          "PE",
          "PI",
          "PR",
          "RJ",
          "RN",
          "RO",
          "RR",
          "RS",
          "SC",
          "SE",
          "SP",
          "TO"
         ],
         "xaxis": "x",
         "y": {
          "bdata": "QNBtYoZ/VEBan3OTXU1RQCrzQti99jpAcV+D0+QuVEAA3fuzn2NUQNCvE6unJlJAVwBZJWMVV0AuXmNa25BYQBT987BLy1FAQOGoAbaFN0C9PweXFktSQInhGFFB0jBAK5C0rzt8S0BWb84Xu5Y5QBnRsOmcZlZAViY+OhDXVkDyKMcbqsc3QNf1Ca8FvT9Alp1PJFAnVEDP7fnr9qtJQGUeDU2MmlRAd6mStOOHPkBew02boutCQFDmuM3+tlFAL/AHZkyQU0Di5k90CpBFQNBtgylE7EBA",
          "dtype": "f8"
         },
         "yaxis": "y"
        }
       ],
       "layout": {
        "barmode": "group",
        "legend": {
         "title": {
          "text": "Serviço"
         },
         "tracegroupgap": 0
        },
        "template": {
         "data": {
          "bar": [
           {
            "error_x": {
             "color": "#2a3f5f"
            },
            "error_y": {
             "color": "#2a3f5f"
            },
            "marker": {
             "line": {
              "color": "#E5ECF6",
              "width": 0.5
             },
             "pattern": {
              "fillmode": "overlay",
              "size": 10,
              "solidity": 0.2
             }
            },
            "type": "bar"
           }
          ],
          "barpolar": [
           {
            "marker": {
             "line": {
              "color": "#E5ECF6",
              "width": 0.5
             },
             "pattern": {
              "fillmode": "overlay",
              "size": 10,
              "solidity": 0.2
             }
            },
            "type": "barpolar"
           }
          ],
          "carpet": [
           {
            "aaxis": {
             "endlinecolor": "#2a3f5f",
             "gridcolor": "white",
             "linecolor": "white",
             "minorgridcolor": "white",
             "startlinecolor": "#2a3f5f"
            },
            "baxis": {
             "endlinecolor": "#2a3f5f",
             "gridcolor": "white",
             "linecolor": "white",
             "minorgridcolor": "white",
             "startlinecolor": "#2a3f5f"
            },
            "type": "carpet"
           }
          ],
          "choropleth": [
           {
            "colorbar": {
             "outlinewidth": 0,
             "ticks": ""
            },
            "type": "choropleth"
           }
          ],
          "contour": [
           {
            "colorbar": {
             "outlinewidth": 0,
             "ticks": ""
            },
            "colorscale": [
             [
              0,
              "#0d0887"
             ],
             [
              0.1111111111111111,
              "#46039f"
             ],
             [
              0.2222222222222222,
              "#7201a8"
             ],
             [
              0.3333333333333333,
              "#9c179e"
             ],
             [
              0.4444444444444444,
              "#bd3786"
             ],
             [
              0.5555555555555556,
              "#d8576b"
             ],
             [
              0.6666666666666666,
              "#ed7953"
             ],
             [
              0.7777777777777778,
              "#fb9f3a"
             ],
             [
              0.8888888888888888,
              "#fdca26"
             ],
             [
              1,
              "#f0f921"
             ]
            ],
            "type": "contour"
           }
          ],
          "contourcarpet": [
           {
            "colorbar": {
             "outlinewidth": 0,
             "ticks": ""
            },
            "type": "contourcarpet"
           }
          ],
          "heatmap": [
           {
            "colorbar": {
             "outlinewidth": 0,
             "ticks": ""
            },
            "colorscale": [
             [
              0,
              "#0d0887"
             ],
             [
              0.1111111111111111,
              "#46039f"
             ],
             [
              0.2222222222222222,
              "#7201a8"
             ],
             [
              0.3333333333333333,
              "#9c179e"
             ],
             [
              0.4444444444444444,
              "#bd3786"
             ],
             [
              0.5555555555555556,
              "#d8576b"
             ],
             [
              0.6666666666666666,
              "#ed7953"
             ],
             [
              0.7777777777777778,
              "#fb9f3a"
             ],
             [
              0.8888888888888888,
              "#fdca26"
             ],
             [
              1,
              "#f0f921"
             ]
            ],
            "type": "heatmap"
           }
          ],
          "histogram": [
           {
            "marker": {
             "pattern": {
              "fillmode": "overlay",
              "size": 10,
              "solidity": 0.2
             }
            },
            "type": "histogram"
           }
          ],
          "histogram2d": [
           {
            "colorbar": {
             "outlinewidth": 0,
             "ticks": ""
            },
            "colorscale": [
             [
              0,
              "#0d0887"
             ],
             [
              0.1111111111111111,
              "#46039f"
             ],
             [
              0.2222222222222222,
              "#7201a8"
             ],
             [
              0.3333333333333333,
              "#9c179e"
             ],
             [
              0.4444444444444444,
              "#bd3786"
             ],
             [
              0.5555555555555556,
              "#d8576b"
             ],
             [
              0.6666666666666666,
              "#ed7953"
             ],
             [
              0.7777777777777778,
              "#fb9f3a"
             ],
             [
              0.8888888888888888,
              "#fdca26"
             ],
             [
              1,
              "#f0f921"
             ]
            ],
            "type": "histogram2d"
           }
          ],
          "histogram2dcontour": [
           {
            "colorbar": {
             "outlinewidth": 0,
             "ticks": ""
            },
            "colorscale": [
             [
              0,
              "#0d0887"
             ],
             [
              0.1111111111111111,
              "#46039f"
             ],
             [
              0.2222222222222222,
              "#7201a8"
             ],
             [
              0.3333333333333333,
              "#9c179e"
             ],
             [
              0.4444444444444444,
              "#bd3786"
             ],
             [
              0.5555555555555556,
              "#d8576b"
             ],
             [
              0.6666666666666666,
              "#ed7953"
             ],
             [
              0.7777777777777778,
              "#fb9f3a"
             ],
             [
              0.8888888888888888,
              "#fdca26"
             ],
             [
              1,
              "#f0f921"
             ]
            ],
            "type": "histogram2dcontour"
           }
          ],
          "mesh3d": [
           {
            "colorbar": {
             "outlinewidth": 0,
             "ticks": ""
            },
            "type": "mesh3d"
           }
          ],
          "parcoords": [
           {
            "line": {
             "colorbar": {
              "outlinewidth": 0,
              "ticks": ""
             }
            },
            "type": "parcoords"
           }
          ],
          "pie": [
           {
            "automargin": true,
            "type": "pie"
           }
          ],
          "scatter": [
           {
            "fillpattern": {
             "fillmode": "overlay",
             "size": 10,
             "solidity": 0.2
            },
            "type": "scatter"
           }
          ],
          "scatter3d": [
           {
            "line": {
             "colorbar": {
              "outlinewidth": 0,
              "ticks": ""
             }
            },
            "marker": {
             "colorbar": {
              "outlinewidth": 0,
              "ticks": ""
             }
            },
            "type": "scatter3d"
           }
          ],
          "scattercarpet": [
           {
            "marker": {
             "colorbar": {
              "outlinewidth": 0,
              "ticks": ""
             }
            },
            "type": "scattercarpet"
           }
          ],
          "scattergeo": [
           {
            "marker": {
             "colorbar": {
              "outlinewidth": 0,
              "ticks": ""
             }
            },
            "type": "scattergeo"
           }
          ],
          "scattergl": [
           {
            "marker": {
             "colorbar": {
              "outlinewidth": 0,
              "ticks": ""
             }
            },
            "type": "scattergl"
           }
          ],
          "scattermap": [
           {
            "marker": {
             "colorbar": {
              "outlinewidth": 0,
              "ticks": ""
             }
            },
            "type": "scattermap"
           }
          ],
          "scattermapbox": [
           {
            "marker": {
             "colorbar": {
              "outlinewidth": 0,
              "ticks": ""
             }
            },
            "type": "scattermapbox"
           }
          ],
          "scatterpolar": [
           {
            "marker": {
             "colorbar": {
              "outlinewidth": 0,
              "ticks": ""
             }
            },
            "type": "scatterpolar"
           }
          ],
          "scatterpolargl": [
           {
            "marker": {
             "colorbar": {
              "outlinewidth": 0,
              "ticks": ""
             }
            },
            "type": "scatterpolargl"
           }
          ],
          "scatterternary": [
           {
            "marker": {
             "colorbar": {
              "outlinewidth": 0,
              "ticks": ""
             }
            },
            "type": "scatterternary"
           }
          ],
          "surface": [
           {
            "colorbar": {
             "outlinewidth": 0,
             "ticks": ""
            },
            "colorscale": [
             [
              0,
              "#0d0887"
             ],
             [
              0.1111111111111111,
              "#46039f"
             ],
             [
              0.2222222222222222,
              "#7201a8"
             ],
             [
              0.3333333333333333,
              "#9c179e"
             ],
             [
              0.4444444444444444,
              "#bd3786"
             ],
             [
              0.5555555555555556,
              "#d8576b"
             ],
             [
              0.6666666666666666,
              "#ed7953"
             ],
             [
              0.7777777777777778,
              "#fb9f3a"
             ],
             [
              0.8888888888888888,
              "#fdca26"
             ],
             [
              1,
              "#f0f921"
             ]
            ],
            "type": "surface"
           }
          ],
          "table": [
           {
            "cells": {
             "fill": {
              "color": "#EBF0F8"
             },
             "line": {
              "color": "white"
             }
            },
            "header": {
             "fill": {
              "color": "#C8D4E3"
             },
             "line": {
              "color": "white"
             }
            },
            "type": "table"
           }
          ]
         },
         "layout": {
          "annotationdefaults": {
           "arrowcolor": "#2a3f5f",
           "arrowhead": 0,
           "arrowwidth": 1
          },
          "autotypenumbers": "strict",
          "coloraxis": {
           "colorbar": {
            "outlinewidth": 0,
            "ticks": ""
           }
          },
          "colorscale": {
           "diverging": [
            [
             0,
             "#8e0152"
            ],
            [
             0.1,
             "#c51b7d"
            ],
            [
             0.2,
             "#de77ae"
            ],
            [
             0.3,
             "#f1b6da"
            ],
            [
             0.4,
             "#fde0ef"
            ],
            [
             0.5,
             "#f7f7f7"
            ],
            [
             0.6,
             "#e6f5d0"
            ],
            [
             0.7,
             "#b8e186"
            ],
            [
             0.8,
             "#7fbc41"
            ],
            [
             0.9,
             "#4d9221"
            ],
            [
             1,
             "#276419"
            ]
           ],
           "sequential": [
            [
             0,
             "#0d0887"
            ],
            [
             0.1111111111111111,
             "#46039f"
            ],
            [
             0.2222222222222222,
             "#7201a8"
            ],
            [
             0.3333333333333333,
             "#9c179e"
            ],
            [
             0.4444444444444444,
             "#bd3786"
            ],
            [
             0.5555555555555556,
             "#d8576b"
            ],
            [
             0.6666666666666666,
             "#ed7953"
            ],
            [
             0.7777777777777778,
             "#fb9f3a"
            ],
            [
             0.8888888888888888,
             "#fdca26"
            ],
            [
             1,
             "#f0f921"
            ]
           ],
           "sequentialminus": [
            [
             0,
             "#0d0887"
            ],
            [
             0.1111111111111111,
             "#46039f"
            ],
            [
             0.2222222222222222,
             "#7201a8"
            ],
            [
             0.3333333333333333,
             "#9c179e"
            ],
            [
             0.4444444444444444,
             "#bd3786"
            ],
            [
             0.5555555555555556,
             "#d8576b"
            ],
            [
             0.6666666666666666,
             "#ed7953"
            ],
            [
             0.7777777777777778,
             "#fb9f3a"
            ],
            [
             0.8888888888888888,
             "#fdca26"
            ],
            [
             1,
             "#f0f921"
            ]
           ]
          },
          "colorway": [
           "#636efa",
           "#EF553B",
           "#00cc96",
           "#ab63fa",
           "#FFA15A",
           "#19d3f3",
           "#FF6692",
           "#B6E880",
           "#FF97FF",
           "#FECB52"
          ],
          "font": {
           "color": "#2a3f5f"
          },
          "geo": {
           "bgcolor": "white",
           "lakecolor": "white",
           "landcolor": "#E5ECF6",
           "showlakes": true,
           "showland": true,
           "subunitcolor": "white"
          },
          "hoverlabel": {
           "align": "left"
          },
          "hovermode": "closest",
          "mapbox": {
           "style": "light"
          },
          "paper_bgcolor": "white",
          "plot_bgcolor": "#E5ECF6",
          "polar": {
           "angularaxis": {
            "gridcolor": "white",
            "linecolor": "white",
            "ticks": ""
           },
           "bgcolor": "#E5ECF6",
           "radialaxis": {
            "gridcolor": "white",
            "linecolor": "white",
            "ticks": ""
           }
          },
          "scene": {
           "xaxis": {
            "backgroundcolor": "#E5ECF6",
            "gridcolor": "white",
            "gridwidth": 2,
            "linecolor": "white",
            "showbackground": true,
            "ticks": "",
            "zerolinecolor": "white"
           },
           "yaxis": {
            "backgroundcolor": "#E5ECF6",
            "gridcolor": "white",
            "gridwidth": 2,
            "linecolor": "white",
            "showbackground": true,
            "ticks": "",
            "zerolinecolor": "white"
           },
           "zaxis": {
            "backgroundcolor": "#E5ECF6",
            "gridcolor": "white",
            "gridwidth": 2,
            "linecolor": "white",
            "showbackground": true,
            "ticks": "",
            "zerolinecolor": "white"
           }
          },
          "shapedefaults": {
           "line": {
            "color": "#2a3f5f"
           }
          },
          "ternary": {
           "aaxis": {
            "gridcolor": "white",
            "linecolor": "white",
            "ticks": ""
           },
           "baxis": {
            "gridcolor": "white",
            "linecolor": "white",
            "ticks": ""
           },
           "bgcolor": "#E5ECF6",
           "caxis": {
            "gridcolor": "white",
            "linecolor": "white",
            "ticks": ""
           }
          },
          "title": {
           "x": 0.05
          },
          "xaxis": {
           "automargin": true,
           "gridcolor": "white",
           "linecolor": "white",
           "ticks": "",
           "title": {
            "standoff": 15
           },
           "zerolinecolor": "white",
           "zerolinewidth": 2
          },
          "yaxis": {
           "automargin": true,
           "gridcolor": "white",
           "linecolor": "white",
           "ticks": "",
           "title": {
            "standoff": 15
           },
           "zerolinecolor": "white",
           "zerolinewidth": 2
          }
         }
        },
        "title": {
         "text": "Cobertura média Água, Esgoto e Água Tratada por Estado (últimos 5 anos)"
        },
        "xaxis": {
         "anchor": "y",
         "categoryorder": "total descending",
         "domain": [
          0,
          1
         ],
         "title": {
          "text": "Estado (UF)"
         }
        },
        "yaxis": {
         "anchor": "x",
         "domain": [
          0,
          1
         ],
         "title": {
          "text": "Cobertura (%)"
         }
        }
       }
      }
     },
     "metadata": {},
     "output_type": "display_data"
    }
   ],
   "source": [
    "import plotly.express as px\n",
    "\n",
    "df_melt = df_medio.melt(\n",
    "    id_vars='sigla_uf',\n",
    "    value_vars=['indice_atendimento_total_agua', 'indice_coleta_esgoto', 'indice_agua_tratada'],\n",
    "    var_name='Serviço',\n",
    "    value_name='Cobertura (%)'\n",
    ")\n",
    "\n",
    "fig = px.bar(\n",
    "    df_melt,\n",
    "    x='sigla_uf',\n",
    "    y='Cobertura (%)',\n",
    "    color='Serviço',\n",
    "    barmode='group',\n",
    "    title='Cobertura média Água, Esgoto e Água Tratada por Estado (últimos 5 anos)',\n",
    "    labels={'sigla_uf': 'Estado (UF)'}\n",
    ")\n",
    "\n",
    "fig.update_layout(xaxis={'categoryorder': 'total descending'})\n",
    "fig.show()\n"
   ]
  },
  {
   "cell_type": "code",
   "execution_count": 98,
   "metadata": {},
   "outputs": [
    {
     "data": {
      "application/vnd.plotly.v1+json": {
       "config": {
        "plotlyServerURL": "https://plot.ly"
       },
       "data": [
        {
         "hovertemplate": "Estado (UF)=%{x}<br>Cobertura Água Tratada (%)=%{y}<extra></extra>",
         "legendgroup": "",
         "marker": {
          "color": "#636efa",
          "pattern": {
           "shape": ""
          }
         },
         "name": "",
         "orientation": "v",
         "showlegend": false,
         "textposition": "auto",
         "type": "bar",
         "x": [
          "ES",
          "DF",
          "PE",
          "PB",
          "RO"
         ],
         "xaxis": "x",
         "y": {
          "bdata": "Ll5jWtuQWEBXAFklYxVXQFYmPjoQ11ZAGdGw6ZxmVkBlHg1NjJpUQA==",
          "dtype": "f8"
         },
         "yaxis": "y"
        }
       ],
       "layout": {
        "barmode": "relative",
        "legend": {
         "tracegroupgap": 0
        },
        "template": {
         "data": {
          "bar": [
           {
            "error_x": {
             "color": "#2a3f5f"
            },
            "error_y": {
             "color": "#2a3f5f"
            },
            "marker": {
             "line": {
              "color": "#E5ECF6",
              "width": 0.5
             },
             "pattern": {
              "fillmode": "overlay",
              "size": 10,
              "solidity": 0.2
             }
            },
            "type": "bar"
           }
          ],
          "barpolar": [
           {
            "marker": {
             "line": {
              "color": "#E5ECF6",
              "width": 0.5
             },
             "pattern": {
              "fillmode": "overlay",
              "size": 10,
              "solidity": 0.2
             }
            },
            "type": "barpolar"
           }
          ],
          "carpet": [
           {
            "aaxis": {
             "endlinecolor": "#2a3f5f",
             "gridcolor": "white",
             "linecolor": "white",
             "minorgridcolor": "white",
             "startlinecolor": "#2a3f5f"
            },
            "baxis": {
             "endlinecolor": "#2a3f5f",
             "gridcolor": "white",
             "linecolor": "white",
             "minorgridcolor": "white",
             "startlinecolor": "#2a3f5f"
            },
            "type": "carpet"
           }
          ],
          "choropleth": [
           {
            "colorbar": {
             "outlinewidth": 0,
             "ticks": ""
            },
            "type": "choropleth"
           }
          ],
          "contour": [
           {
            "colorbar": {
             "outlinewidth": 0,
             "ticks": ""
            },
            "colorscale": [
             [
              0,
              "#0d0887"
             ],
             [
              0.1111111111111111,
              "#46039f"
             ],
             [
              0.2222222222222222,
              "#7201a8"
             ],
             [
              0.3333333333333333,
              "#9c179e"
             ],
             [
              0.4444444444444444,
              "#bd3786"
             ],
             [
              0.5555555555555556,
              "#d8576b"
             ],
             [
              0.6666666666666666,
              "#ed7953"
             ],
             [
              0.7777777777777778,
              "#fb9f3a"
             ],
             [
              0.8888888888888888,
              "#fdca26"
             ],
             [
              1,
              "#f0f921"
             ]
            ],
            "type": "contour"
           }
          ],
          "contourcarpet": [
           {
            "colorbar": {
             "outlinewidth": 0,
             "ticks": ""
            },
            "type": "contourcarpet"
           }
          ],
          "heatmap": [
           {
            "colorbar": {
             "outlinewidth": 0,
             "ticks": ""
            },
            "colorscale": [
             [
              0,
              "#0d0887"
             ],
             [
              0.1111111111111111,
              "#46039f"
             ],
             [
              0.2222222222222222,
              "#7201a8"
             ],
             [
              0.3333333333333333,
              "#9c179e"
             ],
             [
              0.4444444444444444,
              "#bd3786"
             ],
             [
              0.5555555555555556,
              "#d8576b"
             ],
             [
              0.6666666666666666,
              "#ed7953"
             ],
             [
              0.7777777777777778,
              "#fb9f3a"
             ],
             [
              0.8888888888888888,
              "#fdca26"
             ],
             [
              1,
              "#f0f921"
             ]
            ],
            "type": "heatmap"
           }
          ],
          "histogram": [
           {
            "marker": {
             "pattern": {
              "fillmode": "overlay",
              "size": 10,
              "solidity": 0.2
             }
            },
            "type": "histogram"
           }
          ],
          "histogram2d": [
           {
            "colorbar": {
             "outlinewidth": 0,
             "ticks": ""
            },
            "colorscale": [
             [
              0,
              "#0d0887"
             ],
             [
              0.1111111111111111,
              "#46039f"
             ],
             [
              0.2222222222222222,
              "#7201a8"
             ],
             [
              0.3333333333333333,
              "#9c179e"
             ],
             [
              0.4444444444444444,
              "#bd3786"
             ],
             [
              0.5555555555555556,
              "#d8576b"
             ],
             [
              0.6666666666666666,
              "#ed7953"
             ],
             [
              0.7777777777777778,
              "#fb9f3a"
             ],
             [
              0.8888888888888888,
              "#fdca26"
             ],
             [
              1,
              "#f0f921"
             ]
            ],
            "type": "histogram2d"
           }
          ],
          "histogram2dcontour": [
           {
            "colorbar": {
             "outlinewidth": 0,
             "ticks": ""
            },
            "colorscale": [
             [
              0,
              "#0d0887"
             ],
             [
              0.1111111111111111,
              "#46039f"
             ],
             [
              0.2222222222222222,
              "#7201a8"
             ],
             [
              0.3333333333333333,
              "#9c179e"
             ],
             [
              0.4444444444444444,
              "#bd3786"
             ],
             [
              0.5555555555555556,
              "#d8576b"
             ],
             [
              0.6666666666666666,
              "#ed7953"
             ],
             [
              0.7777777777777778,
              "#fb9f3a"
             ],
             [
              0.8888888888888888,
              "#fdca26"
             ],
             [
              1,
              "#f0f921"
             ]
            ],
            "type": "histogram2dcontour"
           }
          ],
          "mesh3d": [
           {
            "colorbar": {
             "outlinewidth": 0,
             "ticks": ""
            },
            "type": "mesh3d"
           }
          ],
          "parcoords": [
           {
            "line": {
             "colorbar": {
              "outlinewidth": 0,
              "ticks": ""
             }
            },
            "type": "parcoords"
           }
          ],
          "pie": [
           {
            "automargin": true,
            "type": "pie"
           }
          ],
          "scatter": [
           {
            "fillpattern": {
             "fillmode": "overlay",
             "size": 10,
             "solidity": 0.2
            },
            "type": "scatter"
           }
          ],
          "scatter3d": [
           {
            "line": {
             "colorbar": {
              "outlinewidth": 0,
              "ticks": ""
             }
            },
            "marker": {
             "colorbar": {
              "outlinewidth": 0,
              "ticks": ""
             }
            },
            "type": "scatter3d"
           }
          ],
          "scattercarpet": [
           {
            "marker": {
             "colorbar": {
              "outlinewidth": 0,
              "ticks": ""
             }
            },
            "type": "scattercarpet"
           }
          ],
          "scattergeo": [
           {
            "marker": {
             "colorbar": {
              "outlinewidth": 0,
              "ticks": ""
             }
            },
            "type": "scattergeo"
           }
          ],
          "scattergl": [
           {
            "marker": {
             "colorbar": {
              "outlinewidth": 0,
              "ticks": ""
             }
            },
            "type": "scattergl"
           }
          ],
          "scattermap": [
           {
            "marker": {
             "colorbar": {
              "outlinewidth": 0,
              "ticks": ""
             }
            },
            "type": "scattermap"
           }
          ],
          "scattermapbox": [
           {
            "marker": {
             "colorbar": {
              "outlinewidth": 0,
              "ticks": ""
             }
            },
            "type": "scattermapbox"
           }
          ],
          "scatterpolar": [
           {
            "marker": {
             "colorbar": {
              "outlinewidth": 0,
              "ticks": ""
             }
            },
            "type": "scatterpolar"
           }
          ],
          "scatterpolargl": [
           {
            "marker": {
             "colorbar": {
              "outlinewidth": 0,
              "ticks": ""
             }
            },
            "type": "scatterpolargl"
           }
          ],
          "scatterternary": [
           {
            "marker": {
             "colorbar": {
              "outlinewidth": 0,
              "ticks": ""
             }
            },
            "type": "scatterternary"
           }
          ],
          "surface": [
           {
            "colorbar": {
             "outlinewidth": 0,
             "ticks": ""
            },
            "colorscale": [
             [
              0,
              "#0d0887"
             ],
             [
              0.1111111111111111,
              "#46039f"
             ],
             [
              0.2222222222222222,
              "#7201a8"
             ],
             [
              0.3333333333333333,
              "#9c179e"
             ],
             [
              0.4444444444444444,
              "#bd3786"
             ],
             [
              0.5555555555555556,
              "#d8576b"
             ],
             [
              0.6666666666666666,
              "#ed7953"
             ],
             [
              0.7777777777777778,
              "#fb9f3a"
             ],
             [
              0.8888888888888888,
              "#fdca26"
             ],
             [
              1,
              "#f0f921"
             ]
            ],
            "type": "surface"
           }
          ],
          "table": [
           {
            "cells": {
             "fill": {
              "color": "#EBF0F8"
             },
             "line": {
              "color": "white"
             }
            },
            "header": {
             "fill": {
              "color": "#C8D4E3"
             },
             "line": {
              "color": "white"
             }
            },
            "type": "table"
           }
          ]
         },
         "layout": {
          "annotationdefaults": {
           "arrowcolor": "#2a3f5f",
           "arrowhead": 0,
           "arrowwidth": 1
          },
          "autotypenumbers": "strict",
          "coloraxis": {
           "colorbar": {
            "outlinewidth": 0,
            "ticks": ""
           }
          },
          "colorscale": {
           "diverging": [
            [
             0,
             "#8e0152"
            ],
            [
             0.1,
             "#c51b7d"
            ],
            [
             0.2,
             "#de77ae"
            ],
            [
             0.3,
             "#f1b6da"
            ],
            [
             0.4,
             "#fde0ef"
            ],
            [
             0.5,
             "#f7f7f7"
            ],
            [
             0.6,
             "#e6f5d0"
            ],
            [
             0.7,
             "#b8e186"
            ],
            [
             0.8,
             "#7fbc41"
            ],
            [
             0.9,
             "#4d9221"
            ],
            [
             1,
             "#276419"
            ]
           ],
           "sequential": [
            [
             0,
             "#0d0887"
            ],
            [
             0.1111111111111111,
             "#46039f"
            ],
            [
             0.2222222222222222,
             "#7201a8"
            ],
            [
             0.3333333333333333,
             "#9c179e"
            ],
            [
             0.4444444444444444,
             "#bd3786"
            ],
            [
             0.5555555555555556,
             "#d8576b"
            ],
            [
             0.6666666666666666,
             "#ed7953"
            ],
            [
             0.7777777777777778,
             "#fb9f3a"
            ],
            [
             0.8888888888888888,
             "#fdca26"
            ],
            [
             1,
             "#f0f921"
            ]
           ],
           "sequentialminus": [
            [
             0,
             "#0d0887"
            ],
            [
             0.1111111111111111,
             "#46039f"
            ],
            [
             0.2222222222222222,
             "#7201a8"
            ],
            [
             0.3333333333333333,
             "#9c179e"
            ],
            [
             0.4444444444444444,
             "#bd3786"
            ],
            [
             0.5555555555555556,
             "#d8576b"
            ],
            [
             0.6666666666666666,
             "#ed7953"
            ],
            [
             0.7777777777777778,
             "#fb9f3a"
            ],
            [
             0.8888888888888888,
             "#fdca26"
            ],
            [
             1,
             "#f0f921"
            ]
           ]
          },
          "colorway": [
           "#636efa",
           "#EF553B",
           "#00cc96",
           "#ab63fa",
           "#FFA15A",
           "#19d3f3",
           "#FF6692",
           "#B6E880",
           "#FF97FF",
           "#FECB52"
          ],
          "font": {
           "color": "#2a3f5f"
          },
          "geo": {
           "bgcolor": "white",
           "lakecolor": "white",
           "landcolor": "#E5ECF6",
           "showlakes": true,
           "showland": true,
           "subunitcolor": "white"
          },
          "hoverlabel": {
           "align": "left"
          },
          "hovermode": "closest",
          "mapbox": {
           "style": "light"
          },
          "paper_bgcolor": "white",
          "plot_bgcolor": "#E5ECF6",
          "polar": {
           "angularaxis": {
            "gridcolor": "white",
            "linecolor": "white",
            "ticks": ""
           },
           "bgcolor": "#E5ECF6",
           "radialaxis": {
            "gridcolor": "white",
            "linecolor": "white",
            "ticks": ""
           }
          },
          "scene": {
           "xaxis": {
            "backgroundcolor": "#E5ECF6",
            "gridcolor": "white",
            "gridwidth": 2,
            "linecolor": "white",
            "showbackground": true,
            "ticks": "",
            "zerolinecolor": "white"
           },
           "yaxis": {
            "backgroundcolor": "#E5ECF6",
            "gridcolor": "white",
            "gridwidth": 2,
            "linecolor": "white",
            "showbackground": true,
            "ticks": "",
            "zerolinecolor": "white"
           },
           "zaxis": {
            "backgroundcolor": "#E5ECF6",
            "gridcolor": "white",
            "gridwidth": 2,
            "linecolor": "white",
            "showbackground": true,
            "ticks": "",
            "zerolinecolor": "white"
           }
          },
          "shapedefaults": {
           "line": {
            "color": "#2a3f5f"
           }
          },
          "ternary": {
           "aaxis": {
            "gridcolor": "white",
            "linecolor": "white",
            "ticks": ""
           },
           "baxis": {
            "gridcolor": "white",
            "linecolor": "white",
            "ticks": ""
           },
           "bgcolor": "#E5ECF6",
           "caxis": {
            "gridcolor": "white",
            "linecolor": "white",
            "ticks": ""
           }
          },
          "title": {
           "x": 0.05
          },
          "xaxis": {
           "automargin": true,
           "gridcolor": "white",
           "linecolor": "white",
           "ticks": "",
           "title": {
            "standoff": 15
           },
           "zerolinecolor": "white",
           "zerolinewidth": 2
          },
          "yaxis": {
           "automargin": true,
           "gridcolor": "white",
           "linecolor": "white",
           "ticks": "",
           "title": {
            "standoff": 15
           },
           "zerolinecolor": "white",
           "zerolinewidth": 2
          }
         }
        },
        "title": {
         "text": "Top 5 Estados com Maior Índice de Água Tratada"
        },
        "xaxis": {
         "anchor": "y",
         "domain": [
          0,
          1
         ],
         "title": {
          "text": "Estado (UF)"
         }
        },
        "yaxis": {
         "anchor": "x",
         "domain": [
          0,
          1
         ],
         "title": {
          "text": "Cobertura Água Tratada (%)"
         }
        }
       }
      }
     },
     "metadata": {},
     "output_type": "display_data"
    },
    {
     "data": {
      "application/vnd.plotly.v1+json": {
       "config": {
        "plotlyServerURL": "https://plot.ly"
       },
       "data": [
        {
         "hovertemplate": "Estado (UF)=%{x}<br>Cobertura Água Tratada (%)=%{y}<extra></extra>",
         "legendgroup": "",
         "marker": {
          "color": "#636efa",
          "pattern": {
           "shape": ""
          }
         },
         "name": "",
         "orientation": "v",
         "showlegend": false,
         "textposition": "auto",
         "type": "bar",
         "x": [
          "AM",
          "PA",
          "PI",
          "MA",
          "MS"
         ],
         "xaxis": "x",
         "y": {
          "bdata": "KvNC2L32OkBWb84Xu5Y5QPIoxxuqxzdAQOGoAbaFN0CJ4RhRQdIwQA==",
          "dtype": "f8"
         },
         "yaxis": "y"
        }
       ],
       "layout": {
        "barmode": "relative",
        "legend": {
         "tracegroupgap": 0
        },
        "template": {
         "data": {
          "bar": [
           {
            "error_x": {
             "color": "#2a3f5f"
            },
            "error_y": {
             "color": "#2a3f5f"
            },
            "marker": {
             "line": {
              "color": "#E5ECF6",
              "width": 0.5
             },
             "pattern": {
              "fillmode": "overlay",
              "size": 10,
              "solidity": 0.2
             }
            },
            "type": "bar"
           }
          ],
          "barpolar": [
           {
            "marker": {
             "line": {
              "color": "#E5ECF6",
              "width": 0.5
             },
             "pattern": {
              "fillmode": "overlay",
              "size": 10,
              "solidity": 0.2
             }
            },
            "type": "barpolar"
           }
          ],
          "carpet": [
           {
            "aaxis": {
             "endlinecolor": "#2a3f5f",
             "gridcolor": "white",
             "linecolor": "white",
             "minorgridcolor": "white",
             "startlinecolor": "#2a3f5f"
            },
            "baxis": {
             "endlinecolor": "#2a3f5f",
             "gridcolor": "white",
             "linecolor": "white",
             "minorgridcolor": "white",
             "startlinecolor": "#2a3f5f"
            },
            "type": "carpet"
           }
          ],
          "choropleth": [
           {
            "colorbar": {
             "outlinewidth": 0,
             "ticks": ""
            },
            "type": "choropleth"
           }
          ],
          "contour": [
           {
            "colorbar": {
             "outlinewidth": 0,
             "ticks": ""
            },
            "colorscale": [
             [
              0,
              "#0d0887"
             ],
             [
              0.1111111111111111,
              "#46039f"
             ],
             [
              0.2222222222222222,
              "#7201a8"
             ],
             [
              0.3333333333333333,
              "#9c179e"
             ],
             [
              0.4444444444444444,
              "#bd3786"
             ],
             [
              0.5555555555555556,
              "#d8576b"
             ],
             [
              0.6666666666666666,
              "#ed7953"
             ],
             [
              0.7777777777777778,
              "#fb9f3a"
             ],
             [
              0.8888888888888888,
              "#fdca26"
             ],
             [
              1,
              "#f0f921"
             ]
            ],
            "type": "contour"
           }
          ],
          "contourcarpet": [
           {
            "colorbar": {
             "outlinewidth": 0,
             "ticks": ""
            },
            "type": "contourcarpet"
           }
          ],
          "heatmap": [
           {
            "colorbar": {
             "outlinewidth": 0,
             "ticks": ""
            },
            "colorscale": [
             [
              0,
              "#0d0887"
             ],
             [
              0.1111111111111111,
              "#46039f"
             ],
             [
              0.2222222222222222,
              "#7201a8"
             ],
             [
              0.3333333333333333,
              "#9c179e"
             ],
             [
              0.4444444444444444,
              "#bd3786"
             ],
             [
              0.5555555555555556,
              "#d8576b"
             ],
             [
              0.6666666666666666,
              "#ed7953"
             ],
             [
              0.7777777777777778,
              "#fb9f3a"
             ],
             [
              0.8888888888888888,
              "#fdca26"
             ],
             [
              1,
              "#f0f921"
             ]
            ],
            "type": "heatmap"
           }
          ],
          "histogram": [
           {
            "marker": {
             "pattern": {
              "fillmode": "overlay",
              "size": 10,
              "solidity": 0.2
             }
            },
            "type": "histogram"
           }
          ],
          "histogram2d": [
           {
            "colorbar": {
             "outlinewidth": 0,
             "ticks": ""
            },
            "colorscale": [
             [
              0,
              "#0d0887"
             ],
             [
              0.1111111111111111,
              "#46039f"
             ],
             [
              0.2222222222222222,
              "#7201a8"
             ],
             [
              0.3333333333333333,
              "#9c179e"
             ],
             [
              0.4444444444444444,
              "#bd3786"
             ],
             [
              0.5555555555555556,
              "#d8576b"
             ],
             [
              0.6666666666666666,
              "#ed7953"
             ],
             [
              0.7777777777777778,
              "#fb9f3a"
             ],
             [
              0.8888888888888888,
              "#fdca26"
             ],
             [
              1,
              "#f0f921"
             ]
            ],
            "type": "histogram2d"
           }
          ],
          "histogram2dcontour": [
           {
            "colorbar": {
             "outlinewidth": 0,
             "ticks": ""
            },
            "colorscale": [
             [
              0,
              "#0d0887"
             ],
             [
              0.1111111111111111,
              "#46039f"
             ],
             [
              0.2222222222222222,
              "#7201a8"
             ],
             [
              0.3333333333333333,
              "#9c179e"
             ],
             [
              0.4444444444444444,
              "#bd3786"
             ],
             [
              0.5555555555555556,
              "#d8576b"
             ],
             [
              0.6666666666666666,
              "#ed7953"
             ],
             [
              0.7777777777777778,
              "#fb9f3a"
             ],
             [
              0.8888888888888888,
              "#fdca26"
             ],
             [
              1,
              "#f0f921"
             ]
            ],
            "type": "histogram2dcontour"
           }
          ],
          "mesh3d": [
           {
            "colorbar": {
             "outlinewidth": 0,
             "ticks": ""
            },
            "type": "mesh3d"
           }
          ],
          "parcoords": [
           {
            "line": {
             "colorbar": {
              "outlinewidth": 0,
              "ticks": ""
             }
            },
            "type": "parcoords"
           }
          ],
          "pie": [
           {
            "automargin": true,
            "type": "pie"
           }
          ],
          "scatter": [
           {
            "fillpattern": {
             "fillmode": "overlay",
             "size": 10,
             "solidity": 0.2
            },
            "type": "scatter"
           }
          ],
          "scatter3d": [
           {
            "line": {
             "colorbar": {
              "outlinewidth": 0,
              "ticks": ""
             }
            },
            "marker": {
             "colorbar": {
              "outlinewidth": 0,
              "ticks": ""
             }
            },
            "type": "scatter3d"
           }
          ],
          "scattercarpet": [
           {
            "marker": {
             "colorbar": {
              "outlinewidth": 0,
              "ticks": ""
             }
            },
            "type": "scattercarpet"
           }
          ],
          "scattergeo": [
           {
            "marker": {
             "colorbar": {
              "outlinewidth": 0,
              "ticks": ""
             }
            },
            "type": "scattergeo"
           }
          ],
          "scattergl": [
           {
            "marker": {
             "colorbar": {
              "outlinewidth": 0,
              "ticks": ""
             }
            },
            "type": "scattergl"
           }
          ],
          "scattermap": [
           {
            "marker": {
             "colorbar": {
              "outlinewidth": 0,
              "ticks": ""
             }
            },
            "type": "scattermap"
           }
          ],
          "scattermapbox": [
           {
            "marker": {
             "colorbar": {
              "outlinewidth": 0,
              "ticks": ""
             }
            },
            "type": "scattermapbox"
           }
          ],
          "scatterpolar": [
           {
            "marker": {
             "colorbar": {
              "outlinewidth": 0,
              "ticks": ""
             }
            },
            "type": "scatterpolar"
           }
          ],
          "scatterpolargl": [
           {
            "marker": {
             "colorbar": {
              "outlinewidth": 0,
              "ticks": ""
             }
            },
            "type": "scatterpolargl"
           }
          ],
          "scatterternary": [
           {
            "marker": {
             "colorbar": {
              "outlinewidth": 0,
              "ticks": ""
             }
            },
            "type": "scatterternary"
           }
          ],
          "surface": [
           {
            "colorbar": {
             "outlinewidth": 0,
             "ticks": ""
            },
            "colorscale": [
             [
              0,
              "#0d0887"
             ],
             [
              0.1111111111111111,
              "#46039f"
             ],
             [
              0.2222222222222222,
              "#7201a8"
             ],
             [
              0.3333333333333333,
              "#9c179e"
             ],
             [
              0.4444444444444444,
              "#bd3786"
             ],
             [
              0.5555555555555556,
              "#d8576b"
             ],
             [
              0.6666666666666666,
              "#ed7953"
             ],
             [
              0.7777777777777778,
              "#fb9f3a"
             ],
             [
              0.8888888888888888,
              "#fdca26"
             ],
             [
              1,
              "#f0f921"
             ]
            ],
            "type": "surface"
           }
          ],
          "table": [
           {
            "cells": {
             "fill": {
              "color": "#EBF0F8"
             },
             "line": {
              "color": "white"
             }
            },
            "header": {
             "fill": {
              "color": "#C8D4E3"
             },
             "line": {
              "color": "white"
             }
            },
            "type": "table"
           }
          ]
         },
         "layout": {
          "annotationdefaults": {
           "arrowcolor": "#2a3f5f",
           "arrowhead": 0,
           "arrowwidth": 1
          },
          "autotypenumbers": "strict",
          "coloraxis": {
           "colorbar": {
            "outlinewidth": 0,
            "ticks": ""
           }
          },
          "colorscale": {
           "diverging": [
            [
             0,
             "#8e0152"
            ],
            [
             0.1,
             "#c51b7d"
            ],
            [
             0.2,
             "#de77ae"
            ],
            [
             0.3,
             "#f1b6da"
            ],
            [
             0.4,
             "#fde0ef"
            ],
            [
             0.5,
             "#f7f7f7"
            ],
            [
             0.6,
             "#e6f5d0"
            ],
            [
             0.7,
             "#b8e186"
            ],
            [
             0.8,
             "#7fbc41"
            ],
            [
             0.9,
             "#4d9221"
            ],
            [
             1,
             "#276419"
            ]
           ],
           "sequential": [
            [
             0,
             "#0d0887"
            ],
            [
             0.1111111111111111,
             "#46039f"
            ],
            [
             0.2222222222222222,
             "#7201a8"
            ],
            [
             0.3333333333333333,
             "#9c179e"
            ],
            [
             0.4444444444444444,
             "#bd3786"
            ],
            [
             0.5555555555555556,
             "#d8576b"
            ],
            [
             0.6666666666666666,
             "#ed7953"
            ],
            [
             0.7777777777777778,
             "#fb9f3a"
            ],
            [
             0.8888888888888888,
             "#fdca26"
            ],
            [
             1,
             "#f0f921"
            ]
           ],
           "sequentialminus": [
            [
             0,
             "#0d0887"
            ],
            [
             0.1111111111111111,
             "#46039f"
            ],
            [
             0.2222222222222222,
             "#7201a8"
            ],
            [
             0.3333333333333333,
             "#9c179e"
            ],
            [
             0.4444444444444444,
             "#bd3786"
            ],
            [
             0.5555555555555556,
             "#d8576b"
            ],
            [
             0.6666666666666666,
             "#ed7953"
            ],
            [
             0.7777777777777778,
             "#fb9f3a"
            ],
            [
             0.8888888888888888,
             "#fdca26"
            ],
            [
             1,
             "#f0f921"
            ]
           ]
          },
          "colorway": [
           "#636efa",
           "#EF553B",
           "#00cc96",
           "#ab63fa",
           "#FFA15A",
           "#19d3f3",
           "#FF6692",
           "#B6E880",
           "#FF97FF",
           "#FECB52"
          ],
          "font": {
           "color": "#2a3f5f"
          },
          "geo": {
           "bgcolor": "white",
           "lakecolor": "white",
           "landcolor": "#E5ECF6",
           "showlakes": true,
           "showland": true,
           "subunitcolor": "white"
          },
          "hoverlabel": {
           "align": "left"
          },
          "hovermode": "closest",
          "mapbox": {
           "style": "light"
          },
          "paper_bgcolor": "white",
          "plot_bgcolor": "#E5ECF6",
          "polar": {
           "angularaxis": {
            "gridcolor": "white",
            "linecolor": "white",
            "ticks": ""
           },
           "bgcolor": "#E5ECF6",
           "radialaxis": {
            "gridcolor": "white",
            "linecolor": "white",
            "ticks": ""
           }
          },
          "scene": {
           "xaxis": {
            "backgroundcolor": "#E5ECF6",
            "gridcolor": "white",
            "gridwidth": 2,
            "linecolor": "white",
            "showbackground": true,
            "ticks": "",
            "zerolinecolor": "white"
           },
           "yaxis": {
            "backgroundcolor": "#E5ECF6",
            "gridcolor": "white",
            "gridwidth": 2,
            "linecolor": "white",
            "showbackground": true,
            "ticks": "",
            "zerolinecolor": "white"
           },
           "zaxis": {
            "backgroundcolor": "#E5ECF6",
            "gridcolor": "white",
            "gridwidth": 2,
            "linecolor": "white",
            "showbackground": true,
            "ticks": "",
            "zerolinecolor": "white"
           }
          },
          "shapedefaults": {
           "line": {
            "color": "#2a3f5f"
           }
          },
          "ternary": {
           "aaxis": {
            "gridcolor": "white",
            "linecolor": "white",
            "ticks": ""
           },
           "baxis": {
            "gridcolor": "white",
            "linecolor": "white",
            "ticks": ""
           },
           "bgcolor": "#E5ECF6",
           "caxis": {
            "gridcolor": "white",
            "linecolor": "white",
            "ticks": ""
           }
          },
          "title": {
           "x": 0.05
          },
          "xaxis": {
           "automargin": true,
           "gridcolor": "white",
           "linecolor": "white",
           "ticks": "",
           "title": {
            "standoff": 15
           },
           "zerolinecolor": "white",
           "zerolinewidth": 2
          },
          "yaxis": {
           "automargin": true,
           "gridcolor": "white",
           "linecolor": "white",
           "ticks": "",
           "title": {
            "standoff": 15
           },
           "zerolinecolor": "white",
           "zerolinewidth": 2
          }
         }
        },
        "title": {
         "text": "Top 5 Estados com Menor Índice de Água Tratada"
        },
        "xaxis": {
         "anchor": "y",
         "domain": [
          0,
          1
         ],
         "title": {
          "text": "Estado (UF)"
         }
        },
        "yaxis": {
         "anchor": "x",
         "domain": [
          0,
          1
         ],
         "title": {
          "text": "Cobertura Água Tratada (%)"
         }
        }
       }
      }
     },
     "metadata": {},
     "output_type": "display_data"
    }
   ],
   "source": [
    "df_sorted = df_medio.sort_values(by='indice_agua_tratada', ascending=False)\n",
    "\n",
    "top5 = df_sorted.head(5)\n",
    "bottom5 = df_sorted.tail(5)\n",
    "\n",
    "fig_top5 = px.bar(\n",
    "    top5,\n",
    "    x='sigla_uf',\n",
    "    y='indice_agua_tratada',\n",
    "    title='Top 5 Estados com Maior Índice de Água Tratada',\n",
    "    labels={'sigla_uf': 'Estado (UF)', 'indice_agua_tratada': 'Cobertura Água Tratada (%)'}\n",
    ")\n",
    "\n",
    "fig_bottom5 = px.bar(\n",
    "    bottom5,\n",
    "    x='sigla_uf',\n",
    "    y='indice_agua_tratada',\n",
    "    title='Top 5 Estados com Menor Índice de Água Tratada',\n",
    "    labels={'sigla_uf': 'Estado (UF)', 'indice_agua_tratada': 'Cobertura Água Tratada (%)'}\n",
    ")\n",
    "\n",
    "fig_top5.show()\n",
    "fig_bottom5.show()\n"
   ]
  }
 ],
 "metadata": {
  "kernelspec": {
   "display_name": "Python 3",
   "language": "python",
   "name": "python3"
  },
  "language_info": {
   "codemirror_mode": {
    "name": "ipython",
    "version": 3
   },
   "file_extension": ".py",
   "mimetype": "text/x-python",
   "name": "python",
   "nbconvert_exporter": "python",
   "pygments_lexer": "ipython3",
   "version": "3.13.4"
  }
 },
 "nbformat": 4,
 "nbformat_minor": 2
}
